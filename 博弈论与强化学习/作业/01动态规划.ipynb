{
 "cells": [
  {
   "cell_type": "markdown",
   "source": [
    "# 一、 Policy iteration"
   ],
   "metadata": {}
  },
  {
   "cell_type": "code",
   "source": [
    "import numpy as np\n",
    "\n",
    "from copy import copy\n",
    "\n",
    "\n",
    "def policy_eval(env, values, policies, upper_bound):\n",
    "    print('\\n===== Policy Evalution =====')\n",
    "    delta = upper_bound\n",
    "    iteration = 0\n",
    "\n",
    "    while delta >= upper_bound:\n",
    "        delta = 0.\n",
    "\n",
    "        for s in env.states:\n",
    "            v = values.get(s)\n",
    "            env.set_state(s)\n",
    "\n",
    "            action_index = policies.sample(s)\n",
    "            action = env.actions[action_index]\n",
    "            _, _, rewards, next_states = env.step(action)\n",
    "\n",
    "            next_values = values.get(list(next_states))\n",
    "            td_values = list(map(lambda x, y: x + env.gamma * y, rewards, next_values))\n",
    "\n",
    "            exp_value = np.mean(td_values)\n",
    "            values.update(s, exp_value)\n",
    "\n",
    "            # update delta\n",
    "            delta = max(delta, abs(v - exp_value))\n",
    "            \n",
    "        iteration += 1\n",
    "        print('\\r> iteration: {} delta: {}'.format(iteration, delta), flush=True, end=\"\")"
   ],
   "metadata": {
    "ExecuteTime": {
     "end_time": "2024-09-23T00:00:03.642053Z",
     "start_time": "2024-09-23T00:00:03.613166Z"
    }
   },
   "outputs": [],
   "execution_count": 9
  },
  {
   "cell_type": "code",
   "source": [
    "def policy_improve(env, values, policies):\n",
    "    print('\\n===== Policy Improve =====')\n",
    "    policy_stable = True\n",
    "    \n",
    "    for state in env.states:\n",
    "        old_act = policies.sample(state)\n",
    "\n",
    "        # calculate new policy execution\n",
    "        actions = env.actions\n",
    "        value = [0] * len(env.actions)\n",
    "        \n",
    "        for i, action in enumerate(actions):\n",
    "            env.set_state(state)\n",
    "            _, _, rewards, next_states = env.step(action)\n",
    "            next_values = values.get(list(next_states))\n",
    "            td_values = list(map(lambda x, y: x + env.gamma * y, rewards, next_values))\n",
    "            prob = [1 / len(next_states)] * len(next_states)\n",
    "\n",
    "            value[i] = sum(map(lambda x, y: x * y, prob, td_values))\n",
    "\n",
    "        # action selection\n",
    "        new_act = actions[np.argmax(value)]\n",
    "\n",
    "        # greedy update policy\n",
    "        new_policy = [0.] * env.action_space\n",
    "        new_policy[new_act] = 1.\n",
    "        policies.update(state, new_policy)\n",
    "\n",
    "        if old_act != new_act:\n",
    "            policy_stable = False\n",
    "\n",
    "    return policy_stable"
   ],
   "metadata": {
    "ExecuteTime": {
     "end_time": "2024-09-23T00:00:03.649804Z",
     "start_time": "2024-09-23T00:00:03.644087Z"
    }
   },
   "outputs": [],
   "execution_count": 10
  },
  {
   "cell_type": "markdown",
   "source": [
    "# 二、value Iteration"
   ],
   "metadata": {}
  },
  {
   "cell_type": "code",
   "source": [
    "def value_iter(env, values, upper_bound):\n",
    "    print('===== Value Iteration =====')\n",
    "    delta = upper_bound + 1.\n",
    "    states = copy(env.states)\n",
    "    \n",
    "    iteration = 0\n",
    "\n",
    "    while delta >= upper_bound:\n",
    "        delta = 0\n",
    "\n",
    "        for s in states:\n",
    "            v = values.get(s)\n",
    "\n",
    "            # get new value\n",
    "            actions = env.actions\n",
    "            vs = [0] * len(actions)\n",
    "\n",
    "            for i, action in enumerate(actions):\n",
    "                env.set_state(s)\n",
    "                _, _, rewards, next_states = env.step(action)\n",
    "                td_values = list(map(lambda x, y: x + env.gamma * y, rewards, values.get(next_states)))\n",
    "\n",
    "                vs[i] = np.mean(td_values)\n",
    "\n",
    "            values.update(s, max(vs))\n",
    "            delta = max(delta, abs(v - values.get(s)))\n",
    "        \n",
    "        iteration += 1\n",
    "        print('\\r> iteration: {} delta: {}'.format(iteration, delta), end=\"\", flush=True)\n",
    "        \n",
    "    return"
   ],
   "metadata": {
    "ExecuteTime": {
     "end_time": "2024-09-23T00:00:03.656457Z",
     "start_time": "2024-09-23T00:00:03.652377Z"
    }
   },
   "outputs": [],
   "execution_count": 11
  },
  {
   "cell_type": "code",
   "source": [
    "class Env:\n",
    "    def __init__(self):\n",
    "        self._states = set()\n",
    "        self._state = None\n",
    "        self._actions = []\n",
    "        self._gamma = None\n",
    "        \n",
    "    @property\n",
    "    def states(self):\n",
    "        return self._states\n",
    "    \n",
    "    @property\n",
    "    def state_space(self):\n",
    "        return self._state_shape\n",
    "    \n",
    "    @property\n",
    "    def actions(self):\n",
    "        return self._actions\n",
    "    \n",
    "    @property\n",
    "    def action_space(self):\n",
    "        return len(self._actions)\n",
    "    \n",
    "    @property\n",
    "    def gamma(self):\n",
    "        return self._gamma\n",
    "    \n",
    "    def _world_init(self):\n",
    "        raise NotImplementedError\n",
    "        \n",
    "    def reset(self):\n",
    "        raise NotImplementedError\n",
    "    \n",
    "    def step(self, state, action):\n",
    "        \"\"\"Return distribution and next states\"\"\"\n",
    "        raise NotImplementedError\n",
    "        \n",
    "    def set_state(self, state):\n",
    "        self._state = state\n",
    "\n",
    "\n",
    "class MatrixEnv(Env):\n",
    "    def __init__(self, height=4, width=4):\n",
    "        super().__init__()\n",
    "        \n",
    "        self._action_space = 4\n",
    "        self._actions = list(range(4))\n",
    "        \n",
    "        self._state_shape = (2,)\n",
    "        self._state_shape = (height, width)\n",
    "        self._states = [(i, j) for i in range(height) for j in range(width)]\n",
    "        \n",
    "        self._gamma = 0.9\n",
    "        self._height = height\n",
    "        self._width = width\n",
    "\n",
    "        self._world_init()\n",
    "        \n",
    "    @property\n",
    "    def state(self):\n",
    "        return self._state\n",
    "    \n",
    "    @property\n",
    "    def gamma(self):\n",
    "        return self._gamma\n",
    "    \n",
    "    def set_gamma(self, value):\n",
    "        self._gamma = value\n",
    "        \n",
    "    def reset(self):\n",
    "        self._state = self._start_point\n",
    "        \n",
    "    def _world_init(self):\n",
    "        # start_point\n",
    "        self._start_point = (0, 0)\n",
    "        self._end_point = (self._height - 1, self._width - 1)\n",
    "        \n",
    "    def _state_switch(self, act):\n",
    "        # 0: h - 1, 1: w + 1, 2: h + 1, 3: w - 1\n",
    "        if act == 0:  # up\n",
    "            self._state = (max(0, self._state[0] - 1), self._state[1])\n",
    "        elif act == 1:  # right\n",
    "            self._state = (self._state[0], min(self._width - 1, self._state[1] + 1))\n",
    "        elif act == 2:  # down\n",
    "            self._state = (min(self._height - 1, self._state[0] + 1), self._state[1])\n",
    "        elif act == 3:  # left\n",
    "            self._state = (self._state[0], max(0, self._state[1] - 1))\n",
    "\n",
    "    def step(self, act):\n",
    "        assert 0 <= act <= 3\n",
    "        \n",
    "        done = False\n",
    "        reward = 0.\n",
    "\n",
    "        self._state_switch(act)\n",
    "        \n",
    "        if self._state == self._end_point:\n",
    "            reward = 1.\n",
    "            done = True\n",
    "\n",
    "        return None, done, [reward], [self._state]"
   ],
   "metadata": {
    "ExecuteTime": {
     "end_time": "2024-09-23T00:00:03.684363Z",
     "start_time": "2024-09-23T00:00:03.658424Z"
    }
   },
   "outputs": [],
   "execution_count": 12
  },
  {
   "cell_type": "code",
   "source": [
    "class ValueTable:\n",
    "    def __init__(self, env):\n",
    "        self._values = np.zeros(env.state_space)\n",
    "        \n",
    "    def update(self, s, value):\n",
    "        self._values[s] = value\n",
    "        \n",
    "    def get(self, state):\n",
    "        if type(state) == list:\n",
    "            # loop get\n",
    "            res = [self._values[s] for s in state]\n",
    "            return res\n",
    "        elif type(state) == tuple:\n",
    "            # return directly\n",
    "            return self._values[state]"
   ],
   "metadata": {
    "ExecuteTime": {
     "end_time": "2024-09-23T00:00:03.688464Z",
     "start_time": "2024-09-23T00:00:03.685259Z"
    }
   },
   "outputs": [],
   "execution_count": 13
  },
  {
   "cell_type": "code",
   "source": [
    "from collections import namedtuple\n",
    "\n",
    "\n",
    "Pi = namedtuple('Pi', 'act, prob')\n",
    "\n",
    "\n",
    "class Policies:\n",
    "    def __init__(self, env: Env):\n",
    "        self._actions = env.actions\n",
    "        self._default_policy = [1 / env.action_space] * env.action_space\n",
    "        self._policies = dict.fromkeys(env.states, Pi(self._actions, self._default_policy))\n",
    "    \n",
    "    def sample(self, state):\n",
    "        if self._policies.get(state, None) is None:\n",
    "            self._policies[state] = Pi(self._actions, self._default_policy)\n",
    "\n",
    "        policy = self._policies[state]\n",
    "        return np.random.choice(policy.act, p=policy.prob)\n",
    "    \n",
    "    def retrieve(self, state):\n",
    "        return self._policies[state].prob\n",
    "    \n",
    "    def update(self, state, policy):\n",
    "        self._policies[state] = self._policies[state]._replace(prob=policy)"
   ],
   "metadata": {
    "ExecuteTime": {
     "end_time": "2024-09-23T00:00:03.694121Z",
     "start_time": "2024-09-23T00:00:03.689211Z"
    }
   },
   "outputs": [],
   "execution_count": 14
  },
  {
   "cell_type": "code",
   "source": [
    "import time\n",
    "\n",
    "env = MatrixEnv(width=8, height=8)  # TODO(ming): try different word size\n",
    "policies = Policies(env)\n",
    "values = ValueTable(env)\n",
    "upper_bound = 1e-4\n",
    "\n",
    "stable = False\n",
    "\n",
    "start = time.time()\n",
    "while not stable:\n",
    "    policy_eval(env, values, policies, upper_bound)\n",
    "    stable = policy_improve(env, values, policies)\n",
    "end = time.time()\n",
    "\n",
    "print('\\n[time consumpution]: {} s'.format(end - start))\n",
    "\n",
    "done = False\n",
    "rewards = 0\n",
    "env.reset()\n",
    "step = 0\n",
    "\n",
    "while not done:\n",
    "    act_index = policies.sample(env.state)\n",
    "    _, done, reward, next_state = env.step(env.actions[act_index])\n",
    "    rewards += sum(reward)\n",
    "    step += 1\n",
    "\n",
    "print('Evaluation: [reward] {} [step] {}'.format(rewards, step))"
   ],
   "metadata": {
    "ExecuteTime": {
     "end_time": "2024-09-23T00:00:04.136112Z",
     "start_time": "2024-09-23T00:00:03.694934Z"
    }
   },
   "outputs": [
    {
     "name": "stdout",
     "output_type": "stream",
     "text": [
      "\n",
      "===== Policy Evalution =====\n",
      "> iteration: 96 delta: 3.0049048568150844e-07\n",
      "===== Policy Improve =====\n",
      "\n",
      "===== Policy Evalution =====\n",
      "> iteration: 89 delta: 9.404610771390765e-055\n",
      "===== Policy Improve =====\n",
      "\n",
      "===== Policy Evalution =====\n",
      "> iteration: 2 delta: 7.617734724796321e-05\n",
      "===== Policy Improve =====\n",
      "\n",
      "===== Policy Evalution =====\n",
      "> iteration: 2 delta: 6.170365127111666e-05\n",
      "===== Policy Improve =====\n",
      "\n",
      "===== Policy Evalution =====\n",
      "> iteration: 2 delta: 4.9979957529977526e-05\n",
      "===== Policy Improve =====\n",
      "\n",
      "===== Policy Evalution =====\n",
      "> iteration: 2 delta: 4.048376559939726e-05\n",
      "===== Policy Improve =====\n",
      "\n",
      "===== Policy Evalution =====\n",
      "> iteration: 2 delta: 3.279185013482788e-05\n",
      "===== Policy Improve =====\n",
      "\n",
      "===== Policy Evalution =====\n",
      "> iteration: 2 delta: 2.6561398610347453e-05\n",
      "===== Policy Improve =====\n",
      "\n",
      "===== Policy Evalution =====\n",
      "> iteration: 2 delta: 2.1514732874372555e-05\n",
      "===== Policy Improve =====\n",
      "\n",
      "===== Policy Evalution =====\n",
      "> iteration: 2 delta: 1.7426933628605923e-05\n",
      "===== Policy Improve =====\n",
      "\n",
      "===== Policy Evalution =====\n",
      "> iteration: 2 delta: 1.4115816239446133e-05\n",
      "===== Policy Improve =====\n",
      "\n",
      "===== Policy Evalution =====\n",
      "> iteration: 2 delta: 1.1433811153871432e-05\n",
      "===== Policy Improve =====\n",
      "\n",
      "===== Policy Evalution =====\n",
      "> iteration: 2 delta: 9.261387035053303e-06\n",
      "===== Policy Improve =====\n",
      "\n",
      "===== Policy Evalution =====\n",
      "> iteration: 2 delta: 7.501723498393176e-06\n",
      "===== Policy Improve =====\n",
      "\n",
      "===== Policy Evalution =====\n",
      "> iteration: 2 delta: 6.076396033449782e-06\n",
      "===== Policy Improve =====\n",
      "\n",
      "[time consumpution]: 0.437150239944458 s\n",
      "Evaluation: [reward] 1.0 [step] 14\n"
     ]
    }
   ],
   "execution_count": 15
  },
  {
   "cell_type": "code",
   "source": [
    "env = MatrixEnv(width=8, height=8)  # try different word size\n",
    "policies = Policies(env)\n",
    "values = ValueTable(env)\n",
    "upper_bound = 1e-4\n",
    "\n",
    "start = time.time()\n",
    "value_iter(env, values, upper_bound)\n",
    "_ = policy_improve(env, values, policies)\n",
    "end = time.time()\n",
    "\n",
    "print('\\n[time consumption] {}s'.format(end - start))\n",
    "# print(\"===== Render =====\")\n",
    "env.reset()\n",
    "done = False\n",
    "rewards = 0\n",
    "step = 0\n",
    "while not done:\n",
    "    act_index = policies.sample(env.state)\n",
    "    _, done, reward, next_state = env.step(env.actions[act_index])\n",
    "    rewards += sum(reward)\n",
    "    step += 1\n",
    "\n",
    "print('Evaluation: [reward] {} [step] {}'.format(rewards, step))"
   ],
   "metadata": {
    "ExecuteTime": {
     "end_time": "2024-09-23T00:00:04.334179Z",
     "start_time": "2024-09-23T00:00:04.137059Z"
    }
   },
   "outputs": [
    {
     "name": "stdout",
     "output_type": "stream",
     "text": [
      "===== Value Iteration =====\n",
      "> iteration: 89 delta: 9.404610870067387e-059\n",
      "===== Policy Improve =====\n",
      "\n",
      "[time consumption] 0.19334912300109863s\n",
      "Evaluation: [reward] 1.0 [step] 14\n"
     ]
    }
   ],
   "execution_count": 16
  },
  {
   "cell_type": "code",
   "source": [],
   "metadata": {
    "ExecuteTime": {
     "end_time": "2024-09-23T00:00:04.336433Z",
     "start_time": "2024-09-23T00:00:04.335081Z"
    }
   },
   "outputs": [],
   "execution_count": 16
  },
  {
   "metadata": {
    "ExecuteTime": {
     "end_time": "2024-09-23T00:00:04.339891Z",
     "start_time": "2024-09-23T00:00:04.338460Z"
    }
   },
   "cell_type": "code",
   "source": "",
   "outputs": [],
   "execution_count": 16
  }
 ],
 "metadata": {
  "kernelspec": {
   "name": "python3",
   "display_name": "Python 3 (ipykernel)",
   "language": "python"
  },
  "language_info": {
   "codemirror_mode": {
    "name": "ipython",
    "version": 3
   },
   "file_extension": ".py",
   "mimetype": "text/x-python",
   "name": "python",
   "nbconvert_exporter": "python",
   "pygments_lexer": "ipython3",
   "version": "3.8.8"
  },
  "interpreter": {
   "hash": "b3ba2566441a7c06988d0923437866b63cedc61552a5af99d1f4fb67d367b25f"
  }
 },
 "nbformat": 4,
 "nbformat_minor": 2
}
