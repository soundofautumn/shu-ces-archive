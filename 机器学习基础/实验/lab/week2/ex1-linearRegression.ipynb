{
 "cells": [
  {
   "cell_type": "markdown",
   "metadata": {},
   "source": [
    "# 练习1：线性回归\n",
    "----------\n",
    "## 介绍\n",
    "\n",
    "在本练习中，您将 实现线性回归并了解其在数据上的工作原理。\n",
    "\n",
    "在开始练习前，需要**下载如下的文件进行数据上传**：\n",
    "\n",
    "- ex1data1.txt -单变量的线性回归数据集\n",
    "- ex1data2.txt -多变量的线性回归数据集\n",
    "\n",
    "在整个练习中，涉及如下的**必做作业**，及标号`*`的**选做作业**：\n",
    "\n",
    "- [实现简单示例函数](#1)----------（5分）\n",
    "- [实现数据集显示的函数](#2)-------（5分）\n",
    "- [计算线性回归成本的函数](#3)-----（40分）\n",
    "- [运行梯度下降的功能函数](#4)-----（50分）\n",
    "- [数据标准化*](#5)\n",
    "- [多变量线性回归的梯度下降功能实现*](#6)\n",
    "\n",
    "必做作业为实现单变量的线性回归；选做作业为实现多变量线性回归。\n"
   ]
  },
  {
   "cell_type": "markdown",
   "metadata": {},
   "source": [
    "## 1 实现简单示例函数\n",
    "\n",
    "在该部分练习中,将通过代码实现返回一个`5*5`的对角矩阵。输出与如下相同：\n",
    "```shell\n",
    "1 0 0 0 0\n",
    "0 1 0 0 0\n",
    "0 0 1 0 0\n",
    "0 0 0 1 0\n",
    "0 0 0 0 1\n",
    "```\n",
    "\n",
    "### 1.1 提交解决方案<span id=\"1\"></span>\n",
    "\n",
    "在以下代码框中进行如上的实现，完成部分练习后，得到如上的相同结果即为通过。"
   ]
  },
  {
   "metadata": {
    "ExecuteTime": {
     "end_time": "2024-12-12T11:21:04.210220Z",
     "start_time": "2024-12-12T11:21:02.390779Z"
    }
   },
   "cell_type": "code",
   "source": [
    "###在这里填入代码###\n",
    "import numpy as np\n",
    "\n",
    "A = np.eye(5)\n",
    "print(A)\n"
   ],
   "outputs": [
    {
     "name": "stdout",
     "output_type": "stream",
     "text": [
      "[[1. 0. 0. 0. 0.]\n",
      " [0. 1. 0. 0. 0.]\n",
      " [0. 0. 1. 0. 0.]\n",
      " [0. 0. 0. 1. 0.]\n",
      " [0. 0. 0. 0. 1.]]\n"
     ]
    }
   ],
   "execution_count": 1
  },
  {
   "cell_type": "markdown",
   "metadata": {},
   "source": [
    "## 2 单变量线性回归\n",
    "\n",
    "在该部分练习中，将实现单变量线性回归并用来预测餐车的利润。\n",
    "\n",
    "假设你是一家餐厅的领导，正在考虑在不同的城市开设新的分店。该连锁店已经在不同的城市有了餐车，并且你能够获得每个城市的人口和利润数据。\n",
    "\n",
    "现在需要使用这些数据来帮助你选择下一个被扩展的城市。\n",
    "\n",
    "文件`ex1data1.txt`包含线性回归问题的数据集。第一列数据对应城市人口，第二列数据对应那座城市的餐车的利润。利润为负时表示亏损。\n",
    "\n",
    "### 2.1 绘制数据<span id='2'></span>\n",
    "\n",
    "在开始进入练习之前，对数据进行可视化通常很有用。对于该数据集，可以使用散点图进行可视化，因为它只有两个属性（人口、利润）。"
   ]
  },
  {
   "cell_type": "code",
   "metadata": {
    "ExecuteTime": {
     "end_time": "2024-12-12T11:21:17.680794Z",
     "start_time": "2024-12-12T11:21:04.216735Z"
    }
   },
   "source": [
    "# 引入所需要的库文件\n",
    "import numpy as np\n",
    "import pandas as pd\n",
    "import matplotlib.pyplot as plt\n",
    "import os\n",
    "\n",
    "%matplotlib inline"
   ],
   "outputs": [],
   "execution_count": 2
  },
  {
   "cell_type": "code",
   "metadata": {
    "ExecuteTime": {
     "end_time": "2024-12-12T11:21:17.709420Z",
     "start_time": "2024-12-12T11:21:17.682971Z"
    }
   },
   "source": [
    "# 数据存储路径\n",
    "path = 'ex1data1.txt'\n",
    "\n",
    "# 读入相应的数据文件\n",
    "data = pd.read_csv(path, header=None, names=['Population', 'Profit'])\n",
    "\n",
    "#查看数据的前五条\n",
    "data.head(5)"
   ],
   "outputs": [
    {
     "data": {
      "text/plain": [
       "   Population   Profit\n",
       "0      6.1101  17.5920\n",
       "1      5.5277   9.1302\n",
       "2      8.5186  13.6620\n",
       "3      7.0032  11.8540\n",
       "4      5.8598   6.8233"
      ],
      "text/html": [
       "<div>\n",
       "<style scoped>\n",
       "    .dataframe tbody tr th:only-of-type {\n",
       "        vertical-align: middle;\n",
       "    }\n",
       "\n",
       "    .dataframe tbody tr th {\n",
       "        vertical-align: top;\n",
       "    }\n",
       "\n",
       "    .dataframe thead th {\n",
       "        text-align: right;\n",
       "    }\n",
       "</style>\n",
       "<table border=\"1\" class=\"dataframe\">\n",
       "  <thead>\n",
       "    <tr style=\"text-align: right;\">\n",
       "      <th></th>\n",
       "      <th>Population</th>\n",
       "      <th>Profit</th>\n",
       "    </tr>\n",
       "  </thead>\n",
       "  <tbody>\n",
       "    <tr>\n",
       "      <th>0</th>\n",
       "      <td>6.1101</td>\n",
       "      <td>17.5920</td>\n",
       "    </tr>\n",
       "    <tr>\n",
       "      <th>1</th>\n",
       "      <td>5.5277</td>\n",
       "      <td>9.1302</td>\n",
       "    </tr>\n",
       "    <tr>\n",
       "      <th>2</th>\n",
       "      <td>8.5186</td>\n",
       "      <td>13.6620</td>\n",
       "    </tr>\n",
       "    <tr>\n",
       "      <th>3</th>\n",
       "      <td>7.0032</td>\n",
       "      <td>11.8540</td>\n",
       "    </tr>\n",
       "    <tr>\n",
       "      <th>4</th>\n",
       "      <td>5.8598</td>\n",
       "      <td>6.8233</td>\n",
       "    </tr>\n",
       "  </tbody>\n",
       "</table>\n",
       "</div>"
      ]
     },
     "execution_count": 3,
     "metadata": {},
     "output_type": "execute_result"
    }
   ],
   "execution_count": 3
  },
  {
   "cell_type": "markdown",
   "metadata": {},
   "source": [
    "接下来需要实现数据可视化的代码，该部分数据绘制出的图像应与如下相同。\n",
    "\n",
    "**要点：**\n",
    "- 实现散点图可视化\n",
    "- 数据分布为红色点\n",
    "- 标清横纵坐标名称\n",
    "\n",
    "![](1-1.png)"
   ]
  },
  {
   "cell_type": "code",
   "metadata": {
    "ExecuteTime": {
     "end_time": "2024-12-12T11:21:17.849274Z",
     "start_time": "2024-12-12T11:21:17.717512Z"
    }
   },
   "source": [
    "###在这里填入代码###\n",
    "\n",
    "# 绘制散点图\n",
    "plt.scatter(data['Population'], data['Profit'], color='red')\n",
    "\n",
    "# 标清横纵坐标名称\n",
    "plt.xlabel('Population')\n",
    "plt.ylabel('Profit')\n",
    "\n",
    "# 显示图表\n",
    "plt.show()"
   ],
   "outputs": [
    {
     "data": {
      "text/plain": [
       "<Figure size 640x480 with 1 Axes>"
      ],
      "image/png": "[encoded data removed]"
     },
     "metadata": {},
     "output_type": "display_data"
    }
   ],
   "execution_count": 4
  },
  {
   "cell_type": "markdown",
   "metadata": {},
   "source": [
    "### 2.2 梯度下降\n",
    "\n",
    "在该部分中，将使用梯度下降来选择合适的线性回归参数θ用以拟合给定数据集。\n",
    "\n",
    "#### 2.2.1 更新公式\n",
    "\n",
    "线性回归的目的是最小化成本函数：\n",
    "![](1-2.png)\n",
    "假设$h_{\\theta}(X)$由以下线性模型给出：\n",
    "![](1-3.png)\n",
    "\n",
    "回顾一下，模型的参数是$\\theta_j$的值，这些将用来调整以最小化成本$J(\\theta)$。\n",
    "\n",
    "其中一种方法是使用批量梯度下降算法，在批量梯度下降中，每次迭代地执行更新，随着梯度下降的每一步计算，参数$\\theta_j$越来越接近能够使得成本$J(\\theta)$达到最低的最佳值。\n",
    "\n",
    "![](1-4.png)(同时更新所有的$\\theta_j$）\n",
    "\n",
    "#### 2.2.2 实现\n",
    "\n",
    "在上一部分的练习中，我们已经将所需要用到的数据加载至变量`data`中，并为其列分别进行命名。\n",
    "\n",
    "接下来，我们在数据中添加了一个维度来拟合截距项$\\theta_0$。并将初始参数值设为0，学习率$\\alpha$设为0.01。\n"
   ]
  },
  {
   "cell_type": "code",
   "metadata": {
    "ExecuteTime": {
     "end_time": "2024-12-12T11:21:17.858321Z",
     "start_time": "2024-12-12T11:21:17.851608Z"
    }
   },
   "source": [
    "#在列索引为0处添加数据列，该列值均为1\n",
    "data.insert(0, 'Ones', 1)\n",
    "\n",
    "#获取数据列数\n",
    "cols = data.shape[1]\n",
    "\n",
    "#对变量X和y进行初始化,并将其数据类型转换为矩阵\n",
    "X = data.iloc[:, 0:cols - 1]\n",
    "y = data.iloc[:, cols - 1:cols]\n",
    "X = np.matrix(X.values)\n",
    "y = np.matrix(y.values)\n",
    "\n",
    "#学习率、迭代次数的初始化\n",
    "alpha = 0.01\n",
    "iterations = 1500"
   ],
   "outputs": [],
   "execution_count": 5
  },
  {
   "cell_type": "markdown",
   "metadata": {},
   "source": [
    "#### 2.2.3 计算成本J(θ)<span id='3'></span>\n",
    "\n",
    "在执行梯度下降最小化成本函数$J(\\theta)$时，通过计算成本来监视收敛状态是有帮助的。\n",
    "\n",
    "在该部分练习任务中，**你需要实现一个计算成本$J(\\theta)$的函数`computeCost`**，用于检查梯度下降实现的收敛性。\n",
    "\n",
    "其中，`X`和`y`不是标量值，而是矩阵，其行代表训练集中的示例。\n",
    "\n",
    "**要点：**\n",
    "完成该函数后，将$\\theta$值初始化为0并进行成本的计算，将得到的成本值打印出来。\n",
    "\n",
    "如果结果为32.07，则计算通过。"
   ]
  },
  {
   "cell_type": "code",
   "metadata": {
    "ExecuteTime": {
     "end_time": "2024-12-12T11:21:17.867071Z",
     "start_time": "2024-12-12T11:21:17.860503Z"
    }
   },
   "source": [
    "###在这里填入代码###\n",
    "\n",
    "def computeCost(X, y, theta=np.matrix(np.array([0, 0]))):\n",
    "    #计算样本数量\n",
    "    m = len(y)\n",
    "    #计算成本\n",
    "    J = np.sum(np.power((X * theta.T - y), 2)) / (2 * m)\n",
    "    return J\n",
    "\n",
    "\n",
    "computeCost(X, y)"
   ],
   "outputs": [
    {
     "data": {
      "text/plain": [
       "32.072733877455676"
      ]
     },
     "execution_count": 6,
     "metadata": {},
     "output_type": "execute_result"
    }
   ],
   "execution_count": 6
  },
  {
   "cell_type": "markdown",
   "metadata": {},
   "source": [
    "#### 2.2.4 梯度下降<span id='4'></span>\n",
    "\n",
    "接下来，我们将实现梯度下降，给出的代码已经实现了循环结构，你只需要在每次的迭代中提供$\\theta$的更新。\n",
    "\n",
    "在进行代码实现时，请确保你了解要优化的内容，和正在更新的内容。\n",
    "\n",
    ">请记住，成本$J(\\theta)$为参数-被向量$\\theta$终止，而不是$X$和$y$。也就是说，我们将$J(\\theta)$的值最小化通过改变矢量$\\theta$的值，而不是通过改变$X$或$y$。\n",
    "\n",
    "验证梯度下降是否正常工作的一种好方法是查看$J(\\theta)$的值，并检查该值每步是否减小。每次迭代时，代码都会调用`computeCost`函数并打印成本。假设你实现了梯度下降，正确地计算成本，$J(\\theta)$值永远不会增加，并且应该在算法结束时收敛到稳定值。\n",
    "\n",
    "**要点：**\n",
    "\n",
    "实现梯度下降后，需要使用最终的参数值将线性回归的拟合结果进行可视化，绘图结果需要类似如下图所示。\n",
    "![](1-5.png)\n"
   ]
  },
  {
   "cell_type": "code",
   "metadata": {
    "ExecuteTime": {
     "end_time": "2024-12-12T11:21:17.981096Z",
     "start_time": "2024-12-12T11:21:17.868975Z"
    }
   },
   "source": [
    "###在这里填入代码###\n",
    "\n",
    "def gradientDescent(X, y, theta, alpha):\n",
    "    error = (theta * X.T) - y.T\n",
    "    error_sum0 = np.sum(error) / len(X)\n",
    "    error_sum1 = np.sum(error * X[:, 1]) / len(X)\n",
    "\n",
    "    temp = np.matrix(np.zeros(theta.shape))\n",
    "    temp[0, 0] = theta[0, 0] - alpha * error_sum0\n",
    "    temp[0, 1] = theta[0, 1] - alpha * error_sum1\n",
    "    theta = temp\n",
    "    return theta\n",
    "\n",
    "\n",
    "cost = np.zeros((iterations, 1))\n",
    "theta = np.matrix(np.array([0, 0]))\n",
    "theta_all = theta\n",
    "\n",
    "for i in range(iterations):\n",
    "    cost[i] = computeCost(X, y, theta)\n",
    "    theta = gradientDescent(X, y, theta, alpha)\n",
    "    theta_all = np.row_stack((theta_all, theta))\n",
    "g = np.delete(theta_all, 0, 0)"
   ],
   "outputs": [],
   "execution_count": 7
  },
  {
   "cell_type": "code",
   "metadata": {
    "ExecuteTime": {
     "end_time": "2024-12-12T11:21:18.012980Z",
     "start_time": "2024-12-12T11:21:17.985454Z"
    }
   },
   "source": [
    "# 计算最终的参数所得到的成本值\n",
    "computeCost(X, y, g)"
   ],
   "outputs": [
    {
     "data": {
      "text/plain": [
       "7112.561685267237"
      ]
     },
     "execution_count": 8,
     "metadata": {},
     "output_type": "execute_result"
    }
   ],
   "execution_count": 8
  },
  {
   "cell_type": "code",
   "metadata": {
    "ExecuteTime": {
     "end_time": "2024-12-12T11:21:18.214400Z",
     "start_time": "2024-12-12T11:21:18.019994Z"
    }
   },
   "source": [
    "###在这里填入代码###\n",
    "#对拟合曲线进行绘制\n",
    "xx = np.linspace(data.Population.min(), data.Population.max(), 100)\n",
    "\n",
    "f = theta[0, 0] + theta[0, 1] * xx\n",
    "\n",
    "plt.figure()\n",
    "data.plot(kind='scatter', x='Population', y='Profit', color='red', figsize=(10, 6), label=\"Training Data\")\n",
    "plt.plot(xx, f, color='blue', label=\"Prediction\")\n",
    "plt.xlabel('Population')\n",
    "plt.ylabel('Profit')\n",
    "plt.legend(loc='best')\n",
    "plt.title('Predicted Profit vs. Population Size')\n",
    "plt.show()\n"
   ],
   "outputs": [
    {
     "data": {
      "text/plain": [
       "<Figure size 640x480 with 0 Axes>"
      ]
     },
     "metadata": {},
     "output_type": "display_data"
    },
    {
     "data": {
      "text/plain": [
       "<Figure size 1000x600 with 1 Axes>"
      ],
      "image/png": "[encoded data removed]"
     },
     "metadata": {},
     "output_type": "display_data"
    }
   ],
   "execution_count": 9
  },
  {
   "cell_type": "markdown",
   "metadata": {},
   "source": [
    "### 2.3 可视化成本函数\n",
    "\n",
    "为了更好地理解成本函数的迭代计算，将每一步计算的cost值进行记录并绘制。"
   ]
  },
  {
   "cell_type": "code",
   "metadata": {
    "ExecuteTime": {
     "end_time": "2024-12-12T11:21:18.291367Z",
     "start_time": "2024-12-12T11:21:18.218516Z"
    }
   },
   "source": [
    "fig, ax = plt.subplots(figsize=(12, 8))\n",
    "ax.plot(np.arange(iterations), cost, 'r')\n",
    "ax.set_xlabel('Iterations')\n",
    "ax.set_ylabel('Cost')\n",
    "ax.set_title('Error vs. Training Epoch')"
   ],
   "outputs": [
    {
     "data": {
      "text/plain": [
       "Text(0.5, 1.0, 'Error vs. Training Epoch')"
      ]
     },
     "execution_count": 10,
     "metadata": {},
     "output_type": "execute_result"
    },
    {
     "data": {
      "text/plain": [
       "<Figure size 1200x800 with 1 Axes>"
      ],
      "image/png": "[encoded data removed]"
     },
     "metadata": {},
     "output_type": "display_data"
    }
   ],
   "execution_count": 10
  },
  {
   "cell_type": "markdown",
   "metadata": {},
   "source": [
    "## 选做练习\n",
    "-------\n",
    "\n",
    "## 3 多变量线性回归\n",
    "\n",
    "在该部分中，将使用多个变量来实现用线性回归预测房屋价格。假设你目前正在出售房屋，想知道什么是好的市场价格。\n",
    "\n",
    "一种方法是首先收集最近出售房屋的信息，其次是建立房屋价格模型。\n",
    "\n",
    "文件`ex1data2.txt`包含俄勒冈州波特兰市的房屋价格及相关信息。第一列是房屋的大小（以平方英尺为单位），第二列是卧室的个数，第三列是房屋的价格。\n",
    "\n",
    "### 3.1 特征标准化\n",
    "\n",
    "以下代码将从文件`ex1data2.txt`文件中加载并显示该数据集。\n",
    "\n",
    "通过观察这些数据，可以发现房屋的大小大约是卧室数量的1000倍。而当不同的特征值之间相差几个数量级时，将**特征进行缩放可以使梯度下降收敛得更快**。"
   ]
  },
  {
   "cell_type": "code",
   "metadata": {
    "ExecuteTime": {
     "end_time": "2024-12-12T11:21:18.297789Z",
     "start_time": "2024-12-12T11:21:18.292290Z"
    }
   },
   "source": [
    "path = 'ex1data2.txt'\n",
    "data2 = pd.read_csv(path, header=None, names=['Size', 'Bedrooms', 'Price'])\n",
    "data2.head()"
   ],
   "outputs": [
    {
     "data": {
      "text/plain": [
       "   Size  Bedrooms   Price\n",
       "0  2104         3  399900\n",
       "1  1600         3  329900\n",
       "2  2400         3  369000\n",
       "3  1416         2  232000\n",
       "4  3000         4  539900"
      ],
      "text/html": [
       "<div>\n",
       "<style scoped>\n",
       "    .dataframe tbody tr th:only-of-type {\n",
       "        vertical-align: middle;\n",
       "    }\n",
       "\n",
       "    .dataframe tbody tr th {\n",
       "        vertical-align: top;\n",
       "    }\n",
       "\n",
       "    .dataframe thead th {\n",
       "        text-align: right;\n",
       "    }\n",
       "</style>\n",
       "<table border=\"1\" class=\"dataframe\">\n",
       "  <thead>\n",
       "    <tr style=\"text-align: right;\">\n",
       "      <th></th>\n",
       "      <th>Size</th>\n",
       "      <th>Bedrooms</th>\n",
       "      <th>Price</th>\n",
       "    </tr>\n",
       "  </thead>\n",
       "  <tbody>\n",
       "    <tr>\n",
       "      <th>0</th>\n",
       "      <td>2104</td>\n",
       "      <td>3</td>\n",
       "      <td>399900</td>\n",
       "    </tr>\n",
       "    <tr>\n",
       "      <th>1</th>\n",
       "      <td>1600</td>\n",
       "      <td>3</td>\n",
       "      <td>329900</td>\n",
       "    </tr>\n",
       "    <tr>\n",
       "      <th>2</th>\n",
       "      <td>2400</td>\n",
       "      <td>3</td>\n",
       "      <td>369000</td>\n",
       "    </tr>\n",
       "    <tr>\n",
       "      <th>3</th>\n",
       "      <td>1416</td>\n",
       "      <td>2</td>\n",
       "      <td>232000</td>\n",
       "    </tr>\n",
       "    <tr>\n",
       "      <th>4</th>\n",
       "      <td>3000</td>\n",
       "      <td>4</td>\n",
       "      <td>539900</td>\n",
       "    </tr>\n",
       "  </tbody>\n",
       "</table>\n",
       "</div>"
      ]
     },
     "execution_count": 11,
     "metadata": {},
     "output_type": "execute_result"
    }
   ],
   "execution_count": 11
  },
  {
   "cell_type": "markdown",
   "metadata": {},
   "source": [
    "<span id='5'></span>\n",
    "在该部分练习中，你的任务是**编写代码并实现数据集中的数据标准化**。\n",
    "\n",
    "**要点**：\n",
    "- 从数据集中减去每个特征的平均值。\n",
    "- 减去平均值后，再将新的特征值除以各自的“标准差”\n",
    "\n",
    "标准差是一种衡量特定特征的值的范围内有多大变化的方法（大多数数据点将位于平均值的两个标准差内）；这是取值范围的替代方法。\n",
    "\n",
    "当标准化特征时，需要存储用于标准化的值——平均值和标准差。从模型中学习参数后，经常需要预测新的房屋的价格。此时给定一个新的$x$值（房屋面积和卧室数量），必须首先使用先前从训练集中计算的平均值和标准差来对新的数据进行标准化。"
   ]
  },
  {
   "cell_type": "code",
   "metadata": {
    "ExecuteTime": {
     "end_time": "2024-12-12T11:21:18.305654Z",
     "start_time": "2024-12-12T11:21:18.298534Z"
    }
   },
   "source": [
    "###在这里填入代码###\n",
    "\n",
    "data2_normalized = (data2 - data2.mean()) / data2.std()\n",
    "data2_normalized"
   ],
   "outputs": [
    {
     "data": {
      "text/plain": [
       "        Size  Bedrooms     Price\n",
       "0   0.130010 -0.223675  0.475747\n",
       "1  -0.504190 -0.223675 -0.084074\n",
       "2   0.502476 -0.223675  0.228626\n",
       "3  -0.735723 -1.537767 -0.867025\n",
       "4   1.257476  1.090417  1.595389\n",
       "5  -0.019732  1.090417 -0.323998\n",
       "6  -0.587240 -0.223675 -0.204036\n",
       "7  -0.721881 -0.223675 -1.130948\n",
       "8  -0.781023 -0.223675 -1.026973\n",
       "9  -0.637573 -0.223675 -0.783051\n",
       "10 -0.076357  1.090417 -0.803053\n",
       "11 -0.000857 -0.223675  0.052682\n",
       "12 -0.139273 -0.223675 -0.083283\n",
       "13  3.117292  2.404508  2.874981\n",
       "14 -0.921956 -0.223675 -0.643896\n",
       "15  0.376643  1.090417  0.875619\n",
       "16 -0.856523 -1.537767 -0.323998\n",
       "17 -0.962223 -0.223675 -1.123743\n",
       "18  0.765468  1.090417  1.276275\n",
       "19  1.296484  1.090417  2.068039\n",
       "20 -0.294048 -0.223675 -0.699878\n",
       "21 -0.141790 -1.537767 -0.683083\n",
       "22 -0.499157 -0.223675 -0.779852\n",
       "23 -0.048673  1.090417 -0.643896\n",
       "24  2.377392 -0.223675  1.867303\n",
       "25 -1.133356 -0.223675 -0.723870\n",
       "26 -0.682873 -0.223675  0.992382\n",
       "27  0.661026 -0.223675  1.028370\n",
       "28  0.250810 -0.223675  1.076355\n",
       "29  0.800701 -0.223675 -0.323998\n",
       "30 -0.203448 -1.537767  0.075875\n",
       "31 -1.259189 -2.851859 -1.363666\n",
       "32  0.049477  1.090417 -0.204036\n",
       "33  1.429868 -0.223675  1.915287\n",
       "34 -0.238682  1.090417 -0.435962\n",
       "35 -0.709298 -0.223675 -0.723870\n",
       "36 -0.958448 -0.223675 -0.883819\n",
       "37  0.165243  1.090417  0.036687\n",
       "38  2.786350  1.090417  1.668166\n",
       "39  0.202993  1.090417 -0.427165\n",
       "40 -0.423657 -1.537767  0.224627\n",
       "41  0.298626 -0.223675 -0.084074\n",
       "42  0.712618  1.090417 -0.211234\n",
       "43 -1.007523 -0.223675 -0.331196\n",
       "44 -1.445423 -1.537767 -1.283692\n",
       "45 -0.187090  1.090417 -0.323998\n",
       "46 -1.003748 -0.223675 -0.807044"
      ],
      "text/html": [
       "<div>\n",
       "<style scoped>\n",
       "    .dataframe tbody tr th:only-of-type {\n",
       "        vertical-align: middle;\n",
       "    }\n",
       "\n",
       "    .dataframe tbody tr th {\n",
       "        vertical-align: top;\n",
       "    }\n",
       "\n",
       "    .dataframe thead th {\n",
       "        text-align: right;\n",
       "    }\n",
       "</style>\n",
       "<table border=\"1\" class=\"dataframe\">\n",
       "  <thead>\n",
       "    <tr style=\"text-align: right;\">\n",
       "      <th></th>\n",
       "      <th>Size</th>\n",
       "      <th>Bedrooms</th>\n",
       "      <th>Price</th>\n",
       "    </tr>\n",
       "  </thead>\n",
       "  <tbody>\n",
       "    <tr>\n",
       "      <th>0</th>\n",
       "      <td>0.130010</td>\n",
       "      <td>-0.223675</td>\n",
       "      <td>0.475747</td>\n",
       "    </tr>\n",
       "    <tr>\n",
       "      <th>1</th>\n",
       "      <td>-0.504190</td>\n",
       "      <td>-0.223675</td>\n",
       "      <td>-0.084074</td>\n",
       "    </tr>\n",
       "    <tr>\n",
       "      <th>2</th>\n",
       "      <td>0.502476</td>\n",
       "      <td>-0.223675</td>\n",
       "      <td>0.228626</td>\n",
       "    </tr>\n",
       "    <tr>\n",
       "      <th>3</th>\n",
       "      <td>-0.735723</td>\n",
       "      <td>-1.537767</td>\n",
       "      <td>-0.867025</td>\n",
       "    </tr>\n",
       "    <tr>\n",
       "      <th>4</th>\n",
       "      <td>1.257476</td>\n",
       "      <td>1.090417</td>\n",
       "      <td>1.595389</td>\n",
       "    </tr>\n",
       "    <tr>\n",
       "      <th>5</th>\n",
       "      <td>-0.019732</td>\n",
       "      <td>1.090417</td>\n",
       "      <td>-0.323998</td>\n",
       "    </tr>\n",
       "    <tr>\n",
       "      <th>6</th>\n",
       "      <td>-0.587240</td>\n",
       "      <td>-0.223675</td>\n",
       "      <td>-0.204036</td>\n",
       "    </tr>\n",
       "    <tr>\n",
       "      <th>7</th>\n",
       "      <td>-0.721881</td>\n",
       "      <td>-0.223675</td>\n",
       "      <td>-1.130948</td>\n",
       "    </tr>\n",
       "    <tr>\n",
       "      <th>8</th>\n",
       "      <td>-0.781023</td>\n",
       "      <td>-0.223675</td>\n",
       "      <td>-1.026973</td>\n",
       "    </tr>\n",
       "    <tr>\n",
       "      <th>9</th>\n",
       "      <td>-0.637573</td>\n",
       "      <td>-0.223675</td>\n",
       "      <td>-0.783051</td>\n",
       "    </tr>\n",
       "    <tr>\n",
       "      <th>10</th>\n",
       "      <td>-0.076357</td>\n",
       "      <td>1.090417</td>\n",
       "      <td>-0.803053</td>\n",
       "    </tr>\n",
       "    <tr>\n",
       "      <th>11</th>\n",
       "      <td>-0.000857</td>\n",
       "      <td>-0.223675</td>\n",
       "      <td>0.052682</td>\n",
       "    </tr>\n",
       "    <tr>\n",
       "      <th>12</th>\n",
       "      <td>-0.139273</td>\n",
       "      <td>-0.223675</td>\n",
       "      <td>-0.083283</td>\n",
       "    </tr>\n",
       "    <tr>\n",
       "      <th>13</th>\n",
       "      <td>3.117292</td>\n",
       "      <td>2.404508</td>\n",
       "      <td>2.874981</td>\n",
       "    </tr>\n",
       "    <tr>\n",
       "      <th>14</th>\n",
       "      <td>-0.921956</td>\n",
       "      <td>-0.223675</td>\n",
       "      <td>-0.643896</td>\n",
       "    </tr>\n",
       "    <tr>\n",
       "      <th>15</th>\n",
       "      <td>0.376643</td>\n",
       "      <td>1.090417</td>\n",
       "      <td>0.875619</td>\n",
       "    </tr>\n",
       "    <tr>\n",
       "      <th>16</th>\n",
       "      <td>-0.856523</td>\n",
       "      <td>-1.537767</td>\n",
       "      <td>-0.323998</td>\n",
       "    </tr>\n",
       "    <tr>\n",
       "      <th>17</th>\n",
       "      <td>-0.962223</td>\n",
       "      <td>-0.223675</td>\n",
       "      <td>-1.123743</td>\n",
       "    </tr>\n",
       "    <tr>\n",
       "      <th>18</th>\n",
       "      <td>0.765468</td>\n",
       "      <td>1.090417</td>\n",
       "      <td>1.276275</td>\n",
       "    </tr>\n",
       "    <tr>\n",
       "      <th>19</th>\n",
       "      <td>1.296484</td>\n",
       "      <td>1.090417</td>\n",
       "      <td>2.068039</td>\n",
       "    </tr>\n",
       "    <tr>\n",
       "      <th>20</th>\n",
       "      <td>-0.294048</td>\n",
       "      <td>-0.223675</td>\n",
       "      <td>-0.699878</td>\n",
       "    </tr>\n",
       "    <tr>\n",
       "      <th>21</th>\n",
       "      <td>-0.141790</td>\n",
       "      <td>-1.537767</td>\n",
       "      <td>-0.683083</td>\n",
       "    </tr>\n",
       "    <tr>\n",
       "      <th>22</th>\n",
       "      <td>-0.499157</td>\n",
       "      <td>-0.223675</td>\n",
       "      <td>-0.779852</td>\n",
       "    </tr>\n",
       "    <tr>\n",
       "      <th>23</th>\n",
       "      <td>-0.048673</td>\n",
       "      <td>1.090417</td>\n",
       "      <td>-0.643896</td>\n",
       "    </tr>\n",
       "    <tr>\n",
       "      <th>24</th>\n",
       "      <td>2.377392</td>\n",
       "      <td>-0.223675</td>\n",
       "      <td>1.867303</td>\n",
       "    </tr>\n",
       "    <tr>\n",
       "      <th>25</th>\n",
       "      <td>-1.133356</td>\n",
       "      <td>-0.223675</td>\n",
       "      <td>-0.723870</td>\n",
       "    </tr>\n",
       "    <tr>\n",
       "      <th>26</th>\n",
       "      <td>-0.682873</td>\n",
       "      <td>-0.223675</td>\n",
       "      <td>0.992382</td>\n",
       "    </tr>\n",
       "    <tr>\n",
       "      <th>27</th>\n",
       "      <td>0.661026</td>\n",
       "      <td>-0.223675</td>\n",
       "      <td>1.028370</td>\n",
       "    </tr>\n",
       "    <tr>\n",
       "      <th>28</th>\n",
       "      <td>0.250810</td>\n",
       "      <td>-0.223675</td>\n",
       "      <td>1.076355</td>\n",
       "    </tr>\n",
       "    <tr>\n",
       "      <th>29</th>\n",
       "      <td>0.800701</td>\n",
       "      <td>-0.223675</td>\n",
       "      <td>-0.323998</td>\n",
       "    </tr>\n",
       "    <tr>\n",
       "      <th>30</th>\n",
       "      <td>-0.203448</td>\n",
       "      <td>-1.537767</td>\n",
       "      <td>0.075875</td>\n",
       "    </tr>\n",
       "    <tr>\n",
       "      <th>31</th>\n",
       "      <td>-1.259189</td>\n",
       "      <td>-2.851859</td>\n",
       "      <td>-1.363666</td>\n",
       "    </tr>\n",
       "    <tr>\n",
       "      <th>32</th>\n",
       "      <td>0.049477</td>\n",
       "      <td>1.090417</td>\n",
       "      <td>-0.204036</td>\n",
       "    </tr>\n",
       "    <tr>\n",
       "      <th>33</th>\n",
       "      <td>1.429868</td>\n",
       "      <td>-0.223675</td>\n",
       "      <td>1.915287</td>\n",
       "    </tr>\n",
       "    <tr>\n",
       "      <th>34</th>\n",
       "      <td>-0.238682</td>\n",
       "      <td>1.090417</td>\n",
       "      <td>-0.435962</td>\n",
       "    </tr>\n",
       "    <tr>\n",
       "      <th>35</th>\n",
       "      <td>-0.709298</td>\n",
       "      <td>-0.223675</td>\n",
       "      <td>-0.723870</td>\n",
       "    </tr>\n",
       "    <tr>\n",
       "      <th>36</th>\n",
       "      <td>-0.958448</td>\n",
       "      <td>-0.223675</td>\n",
       "      <td>-0.883819</td>\n",
       "    </tr>\n",
       "    <tr>\n",
       "      <th>37</th>\n",
       "      <td>0.165243</td>\n",
       "      <td>1.090417</td>\n",
       "      <td>0.036687</td>\n",
       "    </tr>\n",
       "    <tr>\n",
       "      <th>38</th>\n",
       "      <td>2.786350</td>\n",
       "      <td>1.090417</td>\n",
       "      <td>1.668166</td>\n",
       "    </tr>\n",
       "    <tr>\n",
       "      <th>39</th>\n",
       "      <td>0.202993</td>\n",
       "      <td>1.090417</td>\n",
       "      <td>-0.427165</td>\n",
       "    </tr>\n",
       "    <tr>\n",
       "      <th>40</th>\n",
       "      <td>-0.423657</td>\n",
       "      <td>-1.537767</td>\n",
       "      <td>0.224627</td>\n",
       "    </tr>\n",
       "    <tr>\n",
       "      <th>41</th>\n",
       "      <td>0.298626</td>\n",
       "      <td>-0.223675</td>\n",
       "      <td>-0.084074</td>\n",
       "    </tr>\n",
       "    <tr>\n",
       "      <th>42</th>\n",
       "      <td>0.712618</td>\n",
       "      <td>1.090417</td>\n",
       "      <td>-0.211234</td>\n",
       "    </tr>\n",
       "    <tr>\n",
       "      <th>43</th>\n",
       "      <td>-1.007523</td>\n",
       "      <td>-0.223675</td>\n",
       "      <td>-0.331196</td>\n",
       "    </tr>\n",
       "    <tr>\n",
       "      <th>44</th>\n",
       "      <td>-1.445423</td>\n",
       "      <td>-1.537767</td>\n",
       "      <td>-1.283692</td>\n",
       "    </tr>\n",
       "    <tr>\n",
       "      <th>45</th>\n",
       "      <td>-0.187090</td>\n",
       "      <td>1.090417</td>\n",
       "      <td>-0.323998</td>\n",
       "    </tr>\n",
       "    <tr>\n",
       "      <th>46</th>\n",
       "      <td>-1.003748</td>\n",
       "      <td>-0.223675</td>\n",
       "      <td>-0.807044</td>\n",
       "    </tr>\n",
       "  </tbody>\n",
       "</table>\n",
       "</div>"
      ]
     },
     "execution_count": 12,
     "metadata": {},
     "output_type": "execute_result"
    }
   ],
   "execution_count": 12
  },
  {
   "cell_type": "markdown",
   "metadata": {},
   "source": [
    "#### 3.2 梯度下降<span id='6'></span>\n",
    "\n",
    "在之前的练习中，我们使用单变量线性回归实现了梯度下降的问题。在该部分联系中，唯一的区别是，此时我们的数据变为矩阵$X$。\n",
    "\n",
    "假设函数和批次梯度下降的更新规则保持不变，你的任务是**代码实现多变量线性回归的成本函数和梯度下降**。\n",
    "\n",
    "**要点**：\n",
    "- 确保你的代码中可以支持任何大小的数据，并且数据均已被向量化。\n",
    "- 代码实现成本函数和梯度下降后，最终的成本值应大约为0.13。\n",
    "- 请依照单变量线性回归练习中要求，绘制成本的变化曲线。\n"
   ]
  },
  {
   "cell_type": "code",
   "metadata": {
    "ExecuteTime": {
     "end_time": "2024-12-12T11:21:18.412363Z",
     "start_time": "2024-12-12T11:21:18.306413Z"
    }
   },
   "source": [
    "###在这里填入代码###\n",
    "\n",
    "import numpy as np\n",
    "\n",
    "def computeCostMulti(X, y, theta):\n",
    "    m = len(y)\n",
    "    J = np.sum(np.power((X @ theta - y), 2)) / (2 * m)\n",
    "    return J\n",
    "\n",
    "def gradientDescentMulti(X, y, theta, alpha):\n",
    "    m = len(y)\n",
    "    error = X @ theta - y\n",
    "    theta -= (alpha / m) * (X.T @ error)\n",
    "    return theta\n",
    "\n",
    "# Add intercept term to X\n",
    "data2_normalized.insert(0, 'Ones', 1)\n",
    "\n",
    "# Separate X and y\n",
    "cols = data2_normalized.shape[1]\n",
    "X2 = data2_normalized.iloc[:, 0:cols-1]\n",
    "y2 = data2_normalized.iloc[:, cols-1:cols]\n",
    "\n",
    "# Convert to matrices\n",
    "X2 = np.matrix(X2.values)\n",
    "y2 = np.matrix(y2.values)\n",
    "theta2 = np.matrix(np.zeros((X2.shape[1], 1)))\n",
    "\n",
    "cost2 = np.zeros(iterations)\n",
    "for i in range(iterations):\n",
    "    cost2[i] = computeCostMulti(X2, y2, theta2)\n",
    "    theta2 = gradientDescentMulti(X2, y2, theta2, alpha)\n",
    "\n",
    "# Print the final cost\n",
    "print('Final cost:', computeCostMulti(X2, y2, theta2))\n",
    "\n",
    "# Plot the convergence graph\n",
    "plt.plot(np.arange(iterations), cost2, 'r')\n",
    "plt.xlabel('Iterations')\n",
    "plt.ylabel('Cost')\n",
    "plt.title('Error vs. Training Epoch')\n",
    "plt.show()"
   ],
   "outputs": [
    {
     "name": "stdout",
     "output_type": "stream",
     "text": [
      "Final cost: 0.13068670606095903\n"
     ]
    },
    {
     "data": {
      "text/plain": [
       "<Figure size 640x480 with 1 Axes>"
      ],
      "image/png": "[encoded data removed]"
     },
     "metadata": {},
     "output_type": "display_data"
    }
   ],
   "execution_count": 13
  },
  {
   "metadata": {
    "ExecuteTime": {
     "end_time": "2024-12-12T11:21:18.414698Z",
     "start_time": "2024-12-12T11:21:18.413229Z"
    }
   },
   "cell_type": "code",
   "source": "",
   "outputs": [],
   "execution_count": 13
  }
 ],
 "metadata": {
  "kernelspec": {
   "display_name": "Python 3",
   "language": "python",
   "name": "python3"
  },
  "language_info": {
   "codemirror_mode": {
    "name": "ipython",
    "version": 3
   },
   "file_extension": ".py",
   "mimetype": "text/x-python",
   "name": "python",
   "nbconvert_exporter": "python",
   "pygments_lexer": "ipython3",
   "version": "3.6.8"
  }
 },
 "nbformat": 4,
 "nbformat_minor": 2
}
