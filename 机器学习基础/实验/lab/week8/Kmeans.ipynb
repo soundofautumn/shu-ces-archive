{
 "cells": [
  {
   "cell_type": "markdown",
   "metadata": {
    "collapsed": true
   },
   "source": [
    "## 实验介绍"
   ]
  },
  {
   "cell_type": "markdown",
   "metadata": {},
   "source": [
    "### 1.实验内容"
   ]
  },
  {
   "cell_type": "markdown",
   "metadata": {},
   "source": [
    "* 通过对给定数据进行聚类分析来了解K-means算法。"
   ]
  },
  {
   "cell_type": "markdown",
   "metadata": {},
   "source": [
    "### 2.实验目标"
   ]
  },
  {
   "cell_type": "markdown",
   "metadata": {},
   "source": [
    "* 通过本实验掌握K-means聚类算法"
   ]
  },
  {
   "cell_type": "markdown",
   "metadata": {},
   "source": [
    "### 3.实验知识点"
   ]
  },
  {
   "cell_type": "markdown",
   "metadata": {},
   "source": [
    "* K-means算法原理\n",
    "* K-means算法流程\n",
    "* K-means算法应用"
   ]
  },
  {
   "cell_type": "markdown",
   "metadata": {},
   "source": [
    "### 4.实验环境"
   ]
  },
  {
   "cell_type": "markdown",
   "metadata": {},
   "source": [
    "* python 3.6.5  \n",
    "* numpy 1.13.3\n",
    "* matplotlib 2.2.3"
   ]
  },
  {
   "cell_type": "markdown",
   "metadata": {},
   "source": [
    "## 实验准备"
   ]
  },
  {
   "cell_type": "markdown",
   "metadata": {},
   "source": [
    "点击屏幕右上方的下载实验数据模块，选择下载KmeansData.txt到指定目录下，然后再依次选择点击上方的File->Open->Upload,上传刚才下载的数据集"
   ]
  },
  {
   "cell_type": "markdown",
   "metadata": {},
   "source": [
    "## 数据介绍"
   ]
  },
  {
   "cell_type": "markdown",
   "metadata": {},
   "source": [
    "本数据是随机生成的符合高斯分布的二维样本点"
   ]
  },
  {
   "cell_type": "markdown",
   "metadata": {},
   "source": [
    "## [K-means] 实验流程"
   ]
  },
  {
   "cell_type": "code",
   "metadata": {
    "ExecuteTime": {
     "end_time": "2025-01-10T06:52:34.404260Z",
     "start_time": "2025-01-10T06:52:34.396966Z"
    }
   },
   "source": [
    "import numpy as np\n",
    "import matplotlib.pyplot as plt"
   ],
   "outputs": [],
   "execution_count": 8
  },
  {
   "cell_type": "markdown",
   "metadata": {},
   "source": [
    "## 1. 数据的读取与处理"
   ]
  },
  {
   "cell_type": "code",
   "metadata": {
    "ExecuteTime": {
     "end_time": "2025-01-10T06:52:34.440295Z",
     "start_time": "2025-01-10T06:52:34.436698Z"
    }
   },
   "source": [
    "def loadDataSet(fileName):\n",
    "    \"\"\"\n",
    "    函数说明:加载数据集\n",
    "    parameters:\n",
    "        fileName - 文件名  \n",
    "    return：\n",
    "        DataMat - 数据集\n",
    "    \"\"\"\n",
    "    with open(fileName) as f:\n",
    "        lines = f.readlines()\n",
    "        DataMat = []\n",
    "        for line in lines:\n",
    "            curLine = line.strip().split('\\t')\n",
    "            fltLine = list(map(float, curLine))\n",
    "            DataMat.append(fltLine)\n",
    "        return DataMat"
   ],
   "outputs": [],
   "execution_count": 9
  },
  {
   "cell_type": "markdown",
   "metadata": {},
   "source": [
    "## 2. 样本点间的距离计算"
   ]
  },
  {
   "cell_type": "code",
   "metadata": {
    "ExecuteTime": {
     "end_time": "2025-01-10T06:52:34.466767Z",
     "start_time": "2025-01-10T06:52:34.463831Z"
    }
   },
   "source": [
    "def distEclud(vecA, vecB):\n",
    "    \"\"\"\n",
    "    函数说明:利用欧式距离来计算每个样本点之间的距离\n",
    "    parameters:\n",
    "        vecA - A样本的特征向量（本数据中指它的二维坐标值）\n",
    "        vecB - B样本的特征向量（本数据中指它的二维坐标值）  \n",
    "    return：\n",
    "        Dist - 样本点间的欧式距离\n",
    "    \"\"\"\n",
    "    return np.sqrt(np.sum(np.power(vecA - vecB, 2)))"
   ],
   "outputs": [],
   "execution_count": 10
  },
  {
   "cell_type": "markdown",
   "metadata": {},
   "source": [
    "## 3. 簇中心的初始化"
   ]
  },
  {
   "cell_type": "code",
   "metadata": {
    "ExecuteTime": {
     "end_time": "2025-01-10T06:52:34.490681Z",
     "start_time": "2025-01-10T06:52:34.487007Z"
    }
   },
   "source": [
    "def randCent(DataMat, k):\n",
    "    \"\"\"\n",
    "    函数说明:从当前样本点中随机选取k个初始簇中心\n",
    "    parameters:\n",
    "         DataMat - 数据集\n",
    "         k - 聚类后簇的数量\n",
    "    return：\n",
    "        centroids - 簇中心列表\n",
    "    \"\"\"\n",
    "    n = np.shape(DataMat)[1]\n",
    "    centroids = np.mat(np.zeros((k, n)))\n",
    "    for j in range(n):\n",
    "        minJ = min(DataMat[:, j])\n",
    "        rangeJ = float(max(DataMat[:, j]) - minJ)\n",
    "        centroids[:, j] = minJ + rangeJ * np.random.rand(k, 1)\n",
    "    return centroids"
   ],
   "outputs": [],
   "execution_count": 11
  },
  {
   "cell_type": "markdown",
   "metadata": {},
   "source": [
    "## 4. K-means的中心思想实现---即通过不断更新簇中心，把与各个簇中心距离相近的样本点归为一类"
   ]
  },
  {
   "cell_type": "code",
   "metadata": {
    "ExecuteTime": {
     "end_time": "2025-01-10T06:52:34.497509Z",
     "start_time": "2025-01-10T06:52:34.492051Z"
    }
   },
   "source": [
    "def kMeans(dataSet, k, distMeas=distEclud, createCent=randCent):\n",
    "    \"\"\"\n",
    "    函数说明：K-均值算法\n",
    "    parameters:\n",
    "         dataSet -数据集\n",
    "         k -簇个数\n",
    "         distMeas -距离计算函数\n",
    "         createCent -创建初始质心函数\n",
    "    return：\n",
    "         centroids -质心列表\n",
    "         clusterAssment -簇分配结果矩阵\n",
    "    \"\"\"\n",
    "    m = np.shape(dataSet)[0]\n",
    "    clusterAssment = np.mat(np.zeros((m, 2)))\n",
    "    centroids = createCent(dataSet, k)\n",
    "    clusterChanged = True\n",
    "    while clusterChanged:\n",
    "        clusterChanged = False\n",
    "        for i in range(m):\n",
    "            minDist = np.inf\n",
    "            minIndex = -1\n",
    "            for j in range(k):\n",
    "                distJI = distMeas(centroids[j, :], dataSet[i, :])\n",
    "                if distJI < minDist:\n",
    "                    minDist = distJI\n",
    "                    minIndex = j\n",
    "            if clusterAssment[i, 0] != minIndex:\n",
    "                clusterChanged = True\n",
    "            clusterAssment[i, :] = minIndex, minDist ** 2\n",
    "        for cent in range(k):\n",
    "            ptsInClust = dataSet[np.nonzero(clusterAssment[:, 0].A == cent)[0]]\n",
    "            centroids[cent, :] = np.mean(ptsInClust, axis=0)\n",
    "    return centroids, clusterAssment"
   ],
   "outputs": [],
   "execution_count": 12
  },
  {
   "cell_type": "markdown",
   "metadata": {},
   "source": [
    "## 5. 实验结果的可视化"
   ]
  },
  {
   "cell_type": "code",
   "metadata": {
    "ExecuteTime": {
     "end_time": "2025-01-10T06:52:34.502931Z",
     "start_time": "2025-01-10T06:52:34.498343Z"
    }
   },
   "source": [
    "def drawDataSet(dataMat, centList, clusterAssment, k):\n",
    "    \"\"\"\n",
    "    函数说明：将聚类结果可视化\n",
    "    parameters：\n",
    "         centList -质心列表\n",
    "         clusterAssment -簇列表\n",
    "         dataMat -数据集\n",
    "         k -簇个数\n",
    "    return:\n",
    "         A picture\n",
    "    \"\"\"\n",
    "    plt.figure()\n",
    "    plt.title(\"K-means\")\n",
    "    plt.xlabel('X')\n",
    "    plt.ylabel('Y')\n",
    "    DataMat = np.array(dataMat)\n",
    "    m = np.shape(DataMat)[0]\n",
    "\n",
    "    for i in range(k):\n",
    "        ptsInCurrCluster = DataMat[np.nonzero(clusterAssment[:, 0].A == i)[0]]\n",
    "        plt.scatter(ptsInCurrCluster[:, 0], ptsInCurrCluster[:, 1], s=30, label=f'Cluster {i}')\n",
    "\n",
    "    # Plot centroids\n",
    "    centList = np.array(centList)\n",
    "    plt.scatter(centList[:, 0], centList[:, 1], s=100, c='red', marker='+', label='Centroids')\n",
    "\n",
    "    plt.legend()\n",
    "    plt.show()"
   ],
   "outputs": [],
   "execution_count": 13
  },
  {
   "cell_type": "markdown",
   "metadata": {},
   "source": [
    "## 6. 主函数调用上述函数"
   ]
  },
  {
   "cell_type": "code",
   "metadata": {
    "ExecuteTime": {
     "end_time": "2025-01-10T06:52:34.645300Z",
     "start_time": "2025-01-10T06:52:34.504608Z"
    }
   },
   "source": [
    "if __name__ == '__main__':\n",
    "    \"\"\"\n",
    "    按照Kmeans原理来调用上述函数\n",
    "    \"\"\"\n",
    "    fileName = 'KmeansData.txt'\n",
    "    DataMat = np.mat(loadDataSet(fileName))\n",
    "    k = 4\n",
    "    myCentroids, clustAssing = kMeans(DataMat, k)\n",
    "    drawDataSet(DataMat, myCentroids, clustAssing, k)"
   ],
   "outputs": [
    {
     "data": {
      "text/plain": [
       "<Figure size 640x480 with 1 Axes>"
      ],
      "image/png": "[encoded data removed]"
     },
     "metadata": {},
     "output_type": "display_data"
    }
   ],
   "execution_count": 14
  }
 ],
 "metadata": {
  "kernelspec": {
   "display_name": "Python 3",
   "language": "python",
   "name": "python3"
  },
  "language_info": {
   "codemirror_mode": {
    "name": "ipython",
    "version": 3
   },
   "file_extension": ".py",
   "mimetype": "text/x-python",
   "name": "python",
   "nbconvert_exporter": "python",
   "pygments_lexer": "ipython3",
   "version": "3.6.8"
  }
 },
 "nbformat": 4,
 "nbformat_minor": 1
}
