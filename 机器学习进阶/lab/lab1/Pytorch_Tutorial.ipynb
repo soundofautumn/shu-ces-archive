{
 "nbformat": 4,
 "nbformat_minor": 0,
 "metadata": {
  "colab": {
   "name": "Pytorch Tutorial",
   "provenance": [],
   "collapsed_sections": []
  },
  "kernelspec": {
   "name": "python3",
   "display_name": "Python 3 (ipykernel)",
   "language": "python"
  },
  "accelerator": "GPU"
 },
 "cells": [
  {
   "cell_type": "markdown",
   "metadata": {
    "id": "tHILOGjOQbsQ"
   },
   "source": "# **Pytorch Tutorial**\n"
  },
  {
   "cell_type": "code",
   "metadata": {
    "id": "C1zA7GupxdJv",
    "ExecuteTime": {
     "end_time": "2025-03-20T02:22:54.854902Z",
     "start_time": "2025-03-20T02:22:13.142879Z"
    }
   },
   "source": [
    "import torch"
   ],
   "outputs": [],
   "execution_count": 1
  },
  {
   "cell_type": "markdown",
   "metadata": {
    "id": "6Eqj90EkWbWx"
   },
   "source": [
    "**1. Pytorch Documentation Explanation with torch.max**\n",
    "\n"
   ]
  },
  {
   "cell_type": "code",
   "metadata": {
    "id": "JCXOg-iSQuk7",
    "ExecuteTime": {
     "end_time": "2025-03-20T02:22:54.887495Z",
     "start_time": "2025-03-20T02:22:54.856353Z"
    }
   },
   "source": [
    "x = torch.randn(4,5)\n",
    "y = torch.randn(4,5)\n",
    "z = torch.randn(4,5)\n",
    "print(x)\n",
    "print(y)\n",
    "print(z)"
   ],
   "outputs": [
    {
     "name": "stdout",
     "output_type": "stream",
     "text": [
      "tensor([[ 1.0436,  0.7958, -0.0238,  0.1524, -0.9804],\n",
      "        [ 0.8575, -0.0169, -1.2300, -0.3506, -0.7715],\n",
      "        [-0.7934,  0.1220,  0.0222,  1.2940,  1.8690],\n",
      "        [ 0.0488,  0.1067,  1.0337,  1.5013, -2.6408]])\n",
      "tensor([[-0.6082, -0.2424,  0.2521,  0.3794,  0.0146],\n",
      "        [-0.1467, -0.9508,  0.6163,  0.6124,  1.1994],\n",
      "        [-1.8932,  0.7447, -1.0248,  0.3532,  0.0822],\n",
      "        [-0.3097, -0.8907, -0.6352,  0.5221, -0.3804]])\n",
      "tensor([[-0.4263,  0.9352, -0.0169, -1.0728, -0.8697],\n",
      "        [ 1.1364,  1.5509, -0.0530, -0.4709,  0.6080],\n",
      "        [ 0.7845,  0.8594, -0.3699, -0.5633,  0.8470],\n",
      "        [ 0.4479,  0.6937, -0.3836, -0.5100,  0.7299]])\n"
     ]
    }
   ],
   "execution_count": 2
  },
  {
   "cell_type": "code",
   "metadata": {
    "id": "EEqa9GFoWF78",
    "ExecuteTime": {
     "end_time": "2025-03-20T02:22:54.892117Z",
     "start_time": "2025-03-20T02:22:54.888423Z"
    }
   },
   "source": [
    "# 1. max of entire tensor (torch.max(input) → Tensor)\n",
    "m = torch.max(x)\n",
    "print(m)"
   ],
   "outputs": [
    {
     "name": "stdout",
     "output_type": "stream",
     "text": [
      "tensor(1.8690)\n"
     ]
    }
   ],
   "execution_count": 3
  },
  {
   "cell_type": "code",
   "metadata": {
    "id": "wffThGDyWKxJ",
    "ExecuteTime": {
     "end_time": "2025-03-20T02:22:54.898507Z",
     "start_time": "2025-03-20T02:22:54.893875Z"
    }
   },
   "source": [
    "# 2. max along a dimension (torch.max(input, dim, keepdim=False, *, out=None) → (Tensor, LongTensor))\n",
    "m, idx = torch.max(x,0)\n",
    "print(m)\n",
    "print(idx)"
   ],
   "outputs": [
    {
     "name": "stdout",
     "output_type": "stream",
     "text": [
      "tensor([1.0436, 0.7958, 1.0337, 1.5013, 1.8690])\n",
      "tensor([0, 0, 3, 3, 2])\n"
     ]
    }
   ],
   "execution_count": 4
  },
  {
   "cell_type": "code",
   "metadata": {
    "id": "oKDQW3tIXKg-",
    "ExecuteTime": {
     "end_time": "2025-03-20T02:22:54.903258Z",
     "start_time": "2025-03-20T02:22:54.899567Z"
    }
   },
   "source": [
    "# 2-2\n",
    "m, idx = torch.max(input=x,dim=0)\n",
    "print(m)\n",
    "print(idx)"
   ],
   "outputs": [
    {
     "name": "stdout",
     "output_type": "stream",
     "text": [
      "tensor([1.0436, 0.7958, 1.0337, 1.5013, 1.8690])\n",
      "tensor([0, 0, 3, 3, 2])\n"
     ]
    }
   ],
   "execution_count": 5
  },
  {
   "cell_type": "code",
   "metadata": {
    "id": "6QZ6WRLyX3De",
    "ExecuteTime": {
     "end_time": "2025-03-20T02:22:54.907561Z",
     "start_time": "2025-03-20T02:22:54.904521Z"
    }
   },
   "source": [
    "# 2-3\n",
    "m, idx = torch.max(x,0,False)\n",
    "print(m)\n",
    "print(idx)"
   ],
   "outputs": [
    {
     "name": "stdout",
     "output_type": "stream",
     "text": [
      "tensor([1.0436, 0.7958, 1.0337, 1.5013, 1.8690])\n",
      "tensor([0, 0, 3, 3, 2])\n"
     ]
    }
   ],
   "execution_count": 6
  },
  {
   "cell_type": "code",
   "metadata": {
    "id": "nqGuctkKbUEn",
    "ExecuteTime": {
     "end_time": "2025-03-20T02:22:54.912406Z",
     "start_time": "2025-03-20T02:22:54.908564Z"
    }
   },
   "source": [
    "# 2-4\n",
    "m, idx = torch.max(x,dim=0,keepdim=True)\n",
    "print(m)\n",
    "print(idx)"
   ],
   "outputs": [
    {
     "name": "stdout",
     "output_type": "stream",
     "text": [
      "tensor([[1.0436, 0.7958, 1.0337, 1.5013, 1.8690]])\n",
      "tensor([[0, 0, 3, 3, 2]])\n"
     ]
    }
   ],
   "execution_count": 7
  },
  {
   "cell_type": "code",
   "metadata": {
    "id": "9OMzxuMlZPIu",
    "ExecuteTime": {
     "end_time": "2025-03-20T02:22:54.916480Z",
     "start_time": "2025-03-20T02:22:54.913230Z"
    }
   },
   "source": [
    "# 2-5\n",
    "p = (m,idx)\n",
    "torch.max(x,0,False,out=p)\n",
    "print(p[0])\n",
    "print(p[1])\n"
   ],
   "outputs": [
    {
     "name": "stdout",
     "output_type": "stream",
     "text": [
      "tensor([1.0436, 0.7958, 1.0337, 1.5013, 1.8690])\n",
      "tensor([0, 0, 3, 3, 2])\n"
     ]
    },
    {
     "name": "stderr",
     "output_type": "stream",
     "text": [
      "/var/folders/py/7yl145yn1z7bcykj9xn4xml00000gn/T/ipykernel_13937/3337274408.py:3: UserWarning: An output with one or more elements was resized since it had shape [1, 5], which does not match the required output shape [5]. This behavior is deprecated, and in a future PyTorch release outputs will not be resized unless they have zero elements. You can explicitly reuse an out tensor t by resizing it, inplace, to zero elements with t.resize_(0). (Triggered internally at /Users/runner/work/_temp/anaconda/conda-bld/pytorch_1711403209812/work/aten/src/ATen/native/Resize.cpp:35.)\n",
      "  torch.max(x,0,False,out=p)\n"
     ]
    }
   ],
   "execution_count": 8
  },
  {
   "cell_type": "code",
   "metadata": {
    "id": "uhd4TqGTbD2c",
    "ExecuteTime": {
     "end_time": "2025-03-20T02:23:42.480767Z",
     "start_time": "2025-03-20T02:23:42.474533Z"
    }
   },
   "source": [
    "# 2-6\n",
    "p = (m,idx)\n",
    "torch.max(x,0,False,out=p)\n",
    "print(p[0])\n",
    "print(p[1])"
   ],
   "outputs": [
    {
     "name": "stdout",
     "output_type": "stream",
     "text": [
      "tensor([1.0436, 0.7958, 1.0337, 1.5013, 1.8690])\n",
      "tensor([0, 0, 3, 3, 2])\n"
     ]
    }
   ],
   "execution_count": 10
  },
  {
   "cell_type": "code",
   "metadata": {
    "id": "wbxjUSOXxN0n",
    "ExecuteTime": {
     "end_time": "2025-03-20T02:23:44.532087Z",
     "start_time": "2025-03-20T02:23:44.521499Z"
    }
   },
   "source": [
    "# 2-7\n",
    "m, idx = torch.max(x,True)"
   ],
   "outputs": [
    {
     "ename": "TypeError",
     "evalue": "max() received an invalid combination of arguments - got (Tensor, bool), but expected one of:\n * (Tensor input, *, Tensor out)\n * (Tensor input, Tensor other, *, Tensor out)\n * (Tensor input, int dim, bool keepdim, *, tuple of Tensors out)\n * (Tensor input, name dim, bool keepdim, *, tuple of Tensors out)\n",
     "output_type": "error",
     "traceback": [
      "\u001B[0;31m---------------------------------------------------------------------------\u001B[0m",
      "\u001B[0;31mTypeError\u001B[0m                                 Traceback (most recent call last)",
      "\u001B[0;32m/var/folders/py/7yl145yn1z7bcykj9xn4xml00000gn/T/ipykernel_13937/4031289170.py\u001B[0m in \u001B[0;36m<module>\u001B[0;34m\u001B[0m\n\u001B[1;32m      1\u001B[0m \u001B[0;31m# 2-7\u001B[0m\u001B[0;34m\u001B[0m\u001B[0;34m\u001B[0m\u001B[0m\n\u001B[0;32m----> 2\u001B[0;31m \u001B[0mm\u001B[0m\u001B[0;34m,\u001B[0m \u001B[0midx\u001B[0m \u001B[0;34m=\u001B[0m \u001B[0mtorch\u001B[0m\u001B[0;34m.\u001B[0m\u001B[0mmax\u001B[0m\u001B[0;34m(\u001B[0m\u001B[0mx\u001B[0m\u001B[0;34m,\u001B[0m\u001B[0;32mTrue\u001B[0m\u001B[0;34m)\u001B[0m\u001B[0;34m\u001B[0m\u001B[0;34m\u001B[0m\u001B[0m\n\u001B[0m",
      "\u001B[0;31mTypeError\u001B[0m: max() received an invalid combination of arguments - got (Tensor, bool), but expected one of:\n * (Tensor input, *, Tensor out)\n * (Tensor input, Tensor other, *, Tensor out)\n * (Tensor input, int dim, bool keepdim, *, tuple of Tensors out)\n * (Tensor input, name dim, bool keepdim, *, tuple of Tensors out)\n"
     ]
    }
   ],
   "execution_count": 11
  },
  {
   "cell_type": "code",
   "metadata": {
    "id": "iMwhGLlGWYaR",
    "ExecuteTime": {
     "end_time": "2025-03-20T02:23:45.229913Z",
     "start_time": "2025-03-20T02:23:45.225727Z"
    }
   },
   "source": [
    "# 3. max(choose max) operators on two tensors (torch.max(input, other, *, out=None) → Tensor)\n",
    "t = torch.max(x,y)\n",
    "print(t)"
   ],
   "outputs": [
    {
     "name": "stdout",
     "output_type": "stream",
     "text": [
      "tensor([[ 1.0436,  0.7958,  0.2521,  0.3794,  0.0146],\n",
      "        [ 0.8575, -0.0169,  0.6163,  0.6124,  1.1994],\n",
      "        [-0.7934,  0.7447,  0.0222,  1.2940,  1.8690],\n",
      "        [ 0.0488,  0.1067,  1.0337,  1.5013, -0.3804]])\n"
     ]
    }
   ],
   "execution_count": 12
  },
  {
   "cell_type": "markdown",
   "metadata": {
    "id": "nFxRKu2Dedwb"
   },
   "source": [
    "**2. Common errors**\n",
    "\n"
   ]
  },
  {
   "cell_type": "markdown",
   "metadata": {
    "id": "KMcRyMxGwhul"
   },
   "source": "The following code blocks show some common errors while using the torch library. First, execute the code with error, and then execute the next code block to fix the error. You need to change the runtime to GPU.\n"
  },
  {
   "cell_type": "code",
   "metadata": {
    "id": "eX-kKdi6ynFf"
   },
   "source": [
    "import torch"
   ],
   "outputs": [],
   "execution_count": null
  },
  {
   "cell_type": "code",
   "metadata": {
    "id": "-muJ4KKreoP2",
    "colab": {
     "base_uri": "https://localhost:8080/",
     "height": 363
    },
    "outputId": "c1d5c3a5-9540-4145-d80c-3cbca18a1deb"
   },
   "source": [
    "# 1. different device error\n",
    "model = torch.nn.Linear(5,1).to(\"cuda:0\")\n",
    "x = torch.Tensor([1,2,3,4,5]).to(\"cpu\")\n",
    "y = model(x)"
   ],
   "outputs": [],
   "execution_count": null
  },
  {
   "cell_type": "code",
   "metadata": {
    "id": "a54PqxJLe9-c",
    "colab": {
     "base_uri": "https://localhost:8080/"
    },
    "outputId": "909d3693-236f-4419-f269-8fb443ef7534"
   },
   "source": [
    "# 1. different device error (fixed)\n",
    "x = torch.Tensor([1,2,3,4,5]).to(\"cuda:0\")\n",
    "y = model(x)\n",
    "print(y.shape)"
   ],
   "outputs": [],
   "execution_count": null
  },
  {
   "cell_type": "code",
   "metadata": {
    "id": "n7OHtZwbi7Qw",
    "colab": {
     "base_uri": "https://localhost:8080/",
     "height": 201
    },
    "outputId": "2a7d2dd0-6498-4da0-9591-3554c1739046"
   },
   "source": [
    "# 2. mismatched dimensions error\n",
    "x = torch.randn(4,5)\n",
    "y= torch.randn(5,4)\n",
    "z = x + y"
   ],
   "outputs": [],
   "execution_count": null
  },
  {
   "cell_type": "code",
   "metadata": {
    "id": "qVynzvrskFCD",
    "colab": {
     "base_uri": "https://localhost:8080/"
    },
    "outputId": "926dc01c-be6f-48e1-ad39-a5bcecebc513"
   },
   "source": [
    "# 2. mismatched dimensions error (fixed)\n",
    "y= y.transpose(0,1)\n",
    "z = x + y\n",
    "print(z.shape)"
   ],
   "outputs": [],
   "execution_count": null
  },
  {
   "cell_type": "code",
   "metadata": {
    "id": "Hgzgb9gJANod",
    "colab": {
     "base_uri": "https://localhost:8080/",
     "height": 398
    },
    "outputId": "21b58850-b3f1-4f2a-db5d-cc45e47ccbea"
   },
   "source": [
    "# 3. cuda out of memory error\n",
    "import torch\n",
    "import torchvision.models as models\n",
    "resnet18 = models.resnet18().to(\"cuda:0\") # Neural Networks for Image Recognition\n",
    "data = torch.randn(2048,3,244,244) # Create fake data (512 images)\n",
    "out = resnet18(data.to(\"cuda:0\")) # Use Data as Input and Feed to Model\n",
    "print(out.shape)\n"
   ],
   "outputs": [],
   "execution_count": null
  },
  {
   "cell_type": "code",
   "metadata": {
    "id": "VPksKnB_w343",
    "colab": {
     "base_uri": "https://localhost:8080/"
    },
    "outputId": "fbee46ad-e63e-4bfc-8971-452895dd7a15"
   },
   "source": [
    "# 3. cuda out of memory error (fixed)\n",
    "for d in data:\n",
    "  out = resnet18(d.to(\"cuda:0\").unsqueeze(0))\n",
    "print(out.shape)"
   ],
   "outputs": [],
   "execution_count": null
  },
  {
   "cell_type": "code",
   "metadata": {
    "id": "vqszlxEE0Bk0",
    "colab": {
     "base_uri": "https://localhost:8080/",
     "height": 346
    },
    "outputId": "a698b34d-00a8-4067-ddc5-180cb4c8eeaa"
   },
   "source": [
    "# 4. mismatched tensor type\n",
    "import torch.nn as nn\n",
    "L = nn.CrossEntropyLoss()\n",
    "outs = torch.randn(5,5)\n",
    "labels = torch.Tensor([1,2,3,4,0])\n",
    "lossval = L(outs,labels) # Calculate CrossEntropyLoss between outs and labels"
   ],
   "outputs": [],
   "execution_count": null
  },
  {
   "cell_type": "code",
   "metadata": {
    "id": "CZwgwup_1dgS",
    "colab": {
     "base_uri": "https://localhost:8080/"
    },
    "outputId": "aaf1de76-7ef2-4ca4-b87d-8482a3117249"
   },
   "source": [
    "# 4. mismatched tensor type (fixed)\n",
    "labels = labels.long()\n",
    "lossval = L(outs,labels)\n",
    "print(lossval)"
   ],
   "outputs": [],
   "execution_count": null
  },
  {
   "cell_type": "markdown",
   "metadata": {
    "id": "dSuNdA8F06dK"
   },
   "source": "**3. More on dataset and dataloader**\n"
  },
  {
   "cell_type": "markdown",
   "metadata": {
    "id": "in84z_xu1rE6"
   },
   "source": [
    "A dataset is a cluster of data in a organized way. A dataloader is a loader which can iterate through the data set."
   ]
  },
  {
   "cell_type": "markdown",
   "metadata": {
    "id": "34zfh-c22Qqs"
   },
   "source": [
    "Let a dataset be the English alphabets \"abcdefghijklmnopqrstuvwxyz\""
   ]
  },
  {
   "cell_type": "code",
   "metadata": {
    "id": "TaiHofty1qKA"
   },
   "source": [
    "dataset = \"abcdefghijklmnopqrstuvwxyz\""
   ],
   "outputs": [],
   "execution_count": null
  },
  {
   "cell_type": "markdown",
   "metadata": {
    "id": "h0jwhVa12h3a"
   },
   "source": [
    "A simple dataloader could be implemented with the python code \"for\""
   ]
  },
  {
   "cell_type": "code",
   "metadata": {
    "id": "bWC5Wwbv2egy"
   },
   "source": [
    "for datapoint in dataset:\n",
    "  print(datapoint)"
   ],
   "outputs": [],
   "execution_count": null
  },
  {
   "cell_type": "markdown",
   "metadata": {
    "id": "n33VKzkG2y2U"
   },
   "source": [
    "When using the dataloader, we often like to shuffle the data. This is where torch.utils.data.DataLoader comes in handy. If each data is an index (0,1,2...) from the view of torch.utils.data.DataLoader, shuffling can simply be done by shuffling an index array. \n",
    "\n"
   ]
  },
  {
   "cell_type": "markdown",
   "metadata": {
    "id": "9MXUUKQ65APf"
   },
   "source": [
    "torch.utils.data.DataLoader will need two imformation to fulfill its role. First, it needs to know the length of the data. Second, once torch.utils.data.DataLoader outputs the index of the shuffling results, the dataset needs to return the corresponding data."
   ]
  },
  {
   "cell_type": "markdown",
   "metadata": {
    "id": "BV5txsjK5j4j"
   },
   "source": [
    "Therefore, torch.utils.data.Dataset provides the imformation by two functions, `__len__()` and `__getitem__()` to support torch.utils.data.Dataloader"
   ]
  },
  {
   "cell_type": "code",
   "metadata": {
    "id": "A0IEkemJ5ajD"
   },
   "source": [
    "import torch\n",
    "import torch.utils.data \n",
    "class ExampleDataset(torch.utils.data.Dataset):\n",
    "  def __init__(self):\n",
    "    self.data = \"abcdefghijklmnopqrstuvwxyz\"\n",
    "  \n",
    "  def __getitem__(self,idx): # if the index is idx, what will be the data?\n",
    "    return self.data[idx]\n",
    "  \n",
    "  def __len__(self): # What is the length of the dataset\n",
    "    return len(self.data)\n",
    "\n",
    "dataset1 = ExampleDataset() # create the dataset\n",
    "dataloader = torch.utils.data.DataLoader(dataset = dataset1,shuffle = True,batch_size = 1)\n",
    "for datapoint in dataloader:\n",
    "  print(datapoint)"
   ],
   "outputs": [],
   "execution_count": null
  },
  {
   "cell_type": "markdown",
   "metadata": {
    "id": "nTt-ZTid9S2n"
   },
   "source": [
    "A simple data augmentation technique can be done by changing the code in `__len__()` and `__getitem__()`. Suppose we want to double the length of the dataset by adding in the uppercase letters, using only the lowercase dataset, you can change the dataset to the following."
   ]
  },
  {
   "cell_type": "code",
   "metadata": {
    "id": "7Wn3BA2j-NXl"
   },
   "source": [
    "import torch.utils.data \n",
    "class ExampleDataset(torch.utils.data.Dataset):\n",
    "  def __init__(self):\n",
    "    self.data = \"abcdefghijklmnopqrstuvwxyz\"\n",
    "  \n",
    "  def __getitem__(self,idx): # if the index is idx, what will be the data?\n",
    "    if idx >= len(self.data): # if the index >= 26, return upper case letter\n",
    "      return self.data[idx%26].upper()\n",
    "    else: # if the index < 26, return lower case, return lower case letter\n",
    "      return self.data[idx]\n",
    "  \n",
    "  def __len__(self): # What is the length of the dataset\n",
    "    return 2 * len(self.data) # The length is now twice as large\n",
    "\n",
    "dataset1 = ExampleDataset() # create the dataset\n",
    "dataloader = torch.utils.data.DataLoader(dataset = dataset1,shuffle = True,batch_size = 1)\n",
    "for datapoint in dataloader:\n",
    "  print(datapoint)"
   ],
   "outputs": [],
   "execution_count": null
  }
 ]
}
