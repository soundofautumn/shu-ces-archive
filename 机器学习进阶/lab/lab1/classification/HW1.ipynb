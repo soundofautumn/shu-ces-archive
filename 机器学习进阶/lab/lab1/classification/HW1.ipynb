{
 "cells": [
  {
   "attachments": {},
   "cell_type": "markdown",
   "metadata": {
    "id": "mz0_QVkxCrX3"
   },
   "source": [
    "# **Homework 1: COVID-19 Cases Prediction (Regression)**"
   ]
  },
  {
   "attachments": {},
   "cell_type": "markdown",
   "metadata": {
    "id": "ZeZnPAiwDRWG"
   },
   "source": [
    "\n",
    "\n",
    "Objectives:\n",
    "* Solve a regression problem with deep neural networks (DNN).\n",
    "* Understand basic DNN training tips.\n",
    "* Get familiar with PyTorch.\n",
    "\n",
    "If any questions, please contact the TA 朱逸凡"
   ]
  },
  {
   "attachments": {},
   "cell_type": "markdown",
   "metadata": {
    "id": "Jx3x1nDkG-Uy"
   },
   "source": [
    "# **Download Data**\n",
    "\n",
    "\n",
    "If the Google drive links are dead, you can download data from [kaggle](https://www.kaggle.com/c/ml2021spring-hw1/data), and upload data manually to the workspace."
   ]
  },
  {
   "cell_type": "code",
   "metadata": {
    "colab": {
     "base_uri": "https://localhost:8080/"
    },
    "id": "tMj55YDKG6ch",
    "outputId": "fc40ecc9-4756-48b1-d5c6-c169a8b453b2",
    "ExecuteTime": {
     "end_time": "2025-03-24T23:49:42.515592Z",
     "start_time": "2025-03-24T23:49:42.513354Z"
    }
   },
   "source": [
    "tr_path = 'covid.train.csv'  # path to training data\n",
    "tt_path = 'covid.test.csv'  # path to testing data\n",
    "\n",
    "# !gdown --id '19CCyCgJrUxtvgZF53vnctJiOJ23T5mqF' --output covid.train.csv\n",
    "# !gdown --id '1CE240jLm2npU-tdz81-oVKEF3T2yfT1O' --output covid.test.csv"
   ],
   "outputs": [],
   "execution_count": 33
  },
  {
   "attachments": {},
   "cell_type": "markdown",
   "metadata": {
    "id": "wS_4-77xHk44"
   },
   "source": [
    "# **Import Some Packages**"
   ]
  },
  {
   "cell_type": "code",
   "metadata": {
    "id": "k-onQd4JNA5H",
    "ExecuteTime": {
     "end_time": "2025-03-24T23:49:42.569828Z",
     "start_time": "2025-03-24T23:49:42.558054Z"
    }
   },
   "source": [
    "# PyTorch\n",
    "import torch\n",
    "import torch.nn as nn\n",
    "from torch.utils.data import Dataset, DataLoader\n",
    "\n",
    "# For data preprocess\n",
    "import numpy as np\n",
    "import csv\n",
    "import os\n",
    "\n",
    "# For plotting\n",
    "import matplotlib.pyplot as plt\n",
    "from matplotlib.pyplot import figure\n",
    "\n",
    "myseed = 42069  # set a random seed for reproducibility\n",
    "torch.backends.cudnn.deterministic = True\n",
    "torch.backends.cudnn.benchmark = False\n",
    "np.random.seed(myseed)\n",
    "torch.manual_seed(myseed)\n",
    "if torch.cuda.is_available():\n",
    "    torch.cuda.manual_seed_all(myseed)"
   ],
   "outputs": [],
   "execution_count": 34
  },
  {
   "attachments": {},
   "cell_type": "markdown",
   "metadata": {
    "id": "BtE3b6JEH7rw"
   },
   "source": [
    "# **Some Utilities**\n",
    "\n",
    "You do not need to modify this part."
   ]
  },
  {
   "cell_type": "code",
   "metadata": {
    "id": "FWMT3uf1NGQp",
    "ExecuteTime": {
     "end_time": "2025-03-24T23:49:42.588067Z",
     "start_time": "2025-03-24T23:49:42.575296Z"
    }
   },
   "source": [
    "def get_device():\n",
    "    ''' Get device (if GPU is available, use GPU) '''\n",
    "    return 'cuda' if torch.cuda.is_available() else 'cpu'\n",
    "\n",
    "\n",
    "def plot_learning_curve(loss_record, title=''):\n",
    "    ''' Plot learning curve of your DNN (train & dev loss) '''\n",
    "    total_steps = len(loss_record['train'])\n",
    "    x_1 = range(total_steps)\n",
    "    x_2 = x_1[::len(loss_record['train']) // len(loss_record['dev'])]\n",
    "    figure(figsize=(6, 4))\n",
    "    plt.plot(x_1, loss_record['train'], c='tab:red', label='train')\n",
    "    plt.plot(x_2, loss_record['dev'], c='tab:cyan', label='dev')\n",
    "    plt.ylim(0.0, 5.)\n",
    "    plt.xlabel('Training steps')\n",
    "    plt.ylabel('MSE loss')\n",
    "    plt.title('Learning curve of {}'.format(title))\n",
    "    plt.legend()\n",
    "    plt.show()\n",
    "\n",
    "\n",
    "def plot_pred(dv_set, model, device, lim=35., preds=None, targets=None):\n",
    "    ''' Plot prediction of your DNN '''\n",
    "    if preds is None or targets is None:\n",
    "        model.eval()\n",
    "        preds, targets = [], []\n",
    "        for x, y in dv_set:\n",
    "            x, y = x.to(device), y.to(device)\n",
    "            with torch.no_grad():\n",
    "                pred = model(x)\n",
    "                preds.append(pred.detach().cpu())\n",
    "                targets.append(y.detach().cpu())\n",
    "        preds = torch.cat(preds, dim=0).numpy()\n",
    "        targets = torch.cat(targets, dim=0).numpy()\n",
    "\n",
    "    figure(figsize=(5, 5))\n",
    "    plt.scatter(targets, preds, c='r', alpha=0.5)\n",
    "    plt.plot([-0.2, lim], [-0.2, lim], c='b')\n",
    "    plt.xlim(-0.2, lim)\n",
    "    plt.ylim(-0.2, lim)\n",
    "    plt.xlabel('ground truth value')\n",
    "    plt.ylabel('predicted value')\n",
    "    plt.title('Ground Truth v.s. Prediction')\n",
    "    plt.show()"
   ],
   "outputs": [],
   "execution_count": 35
  },
  {
   "attachments": {},
   "cell_type": "markdown",
   "metadata": {
    "id": "39U_XFX6KOoj"
   },
   "source": [
    "# **Preprocess**\n",
    "\n",
    "We have three kinds of datasets:\n",
    "* `train`: for training\n",
    "* `dev`: for validation\n",
    "* `test`: for testing (w/o target value)"
   ]
  },
  {
   "attachments": {},
   "cell_type": "markdown",
   "metadata": {
    "id": "TQ-MdwpLL7Dt"
   },
   "source": [
    "## **Dataset**\n",
    "\n",
    "The `COVID19Dataset` below does:\n",
    "* read `.csv` files\n",
    "* extract features\n",
    "* split `covid.train.csv` into train/dev sets\n",
    "* normalize features\n",
    "\n",
    "Finishing `TODO` below might make you pass medium baseline."
   ]
  },
  {
   "cell_type": "code",
   "metadata": {
    "id": "0zlpIp9ANJRU",
    "ExecuteTime": {
     "end_time": "2025-03-24T23:49:42.602652Z",
     "start_time": "2025-03-24T23:49:42.591357Z"
    }
   },
   "source": [
    "class COVID19Dataset(Dataset):\n",
    "    ''' Dataset for loading and preprocessing the COVID19 dataset '''\n",
    "\n",
    "    def __init__(self,\n",
    "                 path,\n",
    "                 mode='train',\n",
    "                 target_only=False):\n",
    "        self.mode = mode\n",
    "\n",
    "        # Read data into numpy arrays\n",
    "        with open(path, 'r') as fp:\n",
    "            data = list(csv.reader(fp))\n",
    "            data = np.array(data[1:])[:, 1:].astype(float)\n",
    "\n",
    "        if not target_only:\n",
    "            feats = list(range(93))\n",
    "        else:\n",
    "            # TODO: Using 40 states & 2 tested_positive features (indices = 57 & 75)\n",
    "            feats = list(range(40)) + [57, 75]\n",
    "\n",
    "        if mode == 'test':\n",
    "            # Testing data\n",
    "            # data: 893 x 93 (40 states + day 1 (18) + day 2 (18) + day 3 (17))\n",
    "            data = data[:, feats]\n",
    "            self.data = torch.FloatTensor(data)\n",
    "        else:\n",
    "            # Training data (train/dev sets)\n",
    "            # data: 2700 x 94 (40 states + day 1 (18) + day 2 (18) + day 3 (18))\n",
    "            target = data[:, -1]\n",
    "            data = data[:, feats]\n",
    "\n",
    "            # Splitting training data into train & dev sets\n",
    "            if mode == 'train':\n",
    "                indices = [i for i in range(len(data)) if i % 10 != 0]\n",
    "            elif mode == 'dev':\n",
    "                indices = [i for i in range(len(data)) if i % 10 == 0]\n",
    "\n",
    "            # Convert data into PyTorch tensors\n",
    "            self.data = torch.FloatTensor(data[indices])\n",
    "            self.target = torch.FloatTensor(target[indices])\n",
    "\n",
    "        # Normalize features (you may remove this part to see what will happen)\n",
    "        self.data[:, 40:] = \\\n",
    "            (self.data[:, 40:] - self.data[:, 40:].mean(dim=0, keepdim=True)) \\\n",
    "            / self.data[:, 40:].std(dim=0, keepdim=True)\n",
    "\n",
    "        self.dim = self.data.shape[1]\n",
    "\n",
    "        print('Finished reading the {} set of COVID19 Dataset ({} samples found, each dim = {})'\n",
    "              .format(mode, len(self.data), self.dim))\n",
    "\n",
    "    def __getitem__(self, index):\n",
    "        # Returns one sample at a time\n",
    "        if self.mode in ['train', 'dev']:\n",
    "            # For training\n",
    "            return self.data[index], self.target[index]\n",
    "        else:\n",
    "            # For testing (no target)\n",
    "            return self.data[index]\n",
    "\n",
    "    def __len__(self):\n",
    "        # Returns the size of the dataset\n",
    "        return len(self.data)"
   ],
   "outputs": [],
   "execution_count": 36
  },
  {
   "attachments": {},
   "cell_type": "markdown",
   "metadata": {
    "id": "AlhTlkE7MDo3"
   },
   "source": [
    "## **DataLoader**\n",
    "\n",
    "A `DataLoader` loads data from a given `Dataset` into batches.\n"
   ]
  },
  {
   "cell_type": "code",
   "metadata": {
    "id": "hlhLk5t6MBX3",
    "ExecuteTime": {
     "end_time": "2025-03-24T23:49:42.609682Z",
     "start_time": "2025-03-24T23:49:42.605250Z"
    }
   },
   "source": [
    "def prep_dataloader(path, mode, batch_size, n_jobs=0, target_only=False):\n",
    "    ''' Generates a dataset, then is put into a dataloader. '''\n",
    "    dataset = COVID19Dataset(path, mode=mode, target_only=target_only)  # Construct dataset\n",
    "    # 加载数据集到dataloader\n",
    "    dataloader = DataLoader(\n",
    "        dataset, batch_size,\n",
    "        shuffle=(mode == 'train'), drop_last=False,\n",
    "        num_workers=n_jobs, pin_memory=True)  # Construct dataloader\n",
    "    return dataloader"
   ],
   "outputs": [],
   "execution_count": 37
  },
  {
   "attachments": {},
   "cell_type": "markdown",
   "metadata": {
    "id": "SGuycwR0MeQB"
   },
   "source": [
    "# **Deep Neural Network**\n",
    "\n",
    "`NeuralNet` is an `nn.Module` designed for regression.\n",
    "The DNN consists of 2 fully-connected layers with ReLU activation.\n",
    "This module also included a function `cal_loss` for calculating loss.\n"
   ]
  },
  {
   "cell_type": "code",
   "metadata": {
    "id": "49-uXYovOAI0",
    "ExecuteTime": {
     "end_time": "2025-03-24T23:49:42.624061Z",
     "start_time": "2025-03-24T23:49:42.617958Z"
    }
   },
   "source": [
    "class NeuralNet(nn.Module):\n",
    "    ''' A simple fully-connected deep neural network '''\n",
    "\n",
    "    def __init__(self, input_dim):\n",
    "        super(NeuralNet, self).__init__()\n",
    "\n",
    "        # Define your neural network here\n",
    "        # TODO: How to modify this model to achieve better performance?\n",
    "        # 增加层数和每层的神经元数量来增加模型的复杂度，提高模型的拟合能力\n",
    "        self.net = nn.Sequential(\n",
    "            nn.Linear(input_dim, 128),\n",
    "            nn.ReLU(),\n",
    "            nn.Linear(128, 64),\n",
    "            nn.ReLU(),\n",
    "            nn.Linear(64, 32),\n",
    "            nn.ReLU(),\n",
    "            nn.Linear(32, 1)\n",
    "        )\n",
    "\n",
    "        # Mean squared error loss\n",
    "        self.criterion = nn.MSELoss(reduction='mean')\n",
    "\n",
    "    def forward(self, x):\n",
    "        ''' Given input of size (batch_size x input_dim), compute output of the network '''\n",
    "        return self.net(x).squeeze(1)\n",
    "\n",
    "    def cal_loss(self, pred, target):\n",
    "        ''' Calculate loss '''\n",
    "        # TODO: you may implement L2 regularization here\n",
    "        # 使用L2正则化来减小模型的复杂度，防止过拟合\n",
    "        mse_loss = self.criterion(pred, target)\n",
    "        l2_lambda = 0.001  # Regularization strength\n",
    "        l2_reg = sum(param.pow(2.0).sum() for param in self.parameters())\n",
    "        return mse_loss + l2_lambda * l2_reg"
   ],
   "outputs": [],
   "execution_count": 38
  },
  {
   "attachments": {},
   "cell_type": "markdown",
   "metadata": {
    "id": "DvFWVjZ5Nvga"
   },
   "source": [
    "# **Train/Dev/Test**"
   ]
  },
  {
   "attachments": {},
   "cell_type": "markdown",
   "metadata": {
    "id": "MAM8QecJOyqn"
   },
   "source": [
    "## **Training**"
   ]
  },
  {
   "cell_type": "code",
   "metadata": {
    "id": "lOqcmYzMO7jB",
    "ExecuteTime": {
     "end_time": "2025-03-24T23:49:42.650272Z",
     "start_time": "2025-03-24T23:49:42.641666Z"
    }
   },
   "source": [
    "def train(tr_set, dv_set, model, config, device):\n",
    "    ''' DNN training '''\n",
    "\n",
    "    n_epochs = config['n_epochs']  # Maximum number of epochs\n",
    "\n",
    "    # Setup optimizer\n",
    "    optimizer = getattr(torch.optim, config['optimizer'])(\n",
    "        model.parameters(), **config['optim_hparas'])\n",
    "\n",
    "    min_mse = 1000.\n",
    "    loss_record = {'train': [], 'dev': []}  # for recording training loss\n",
    "    early_stop_cnt = 0\n",
    "    epoch = 0\n",
    "    while epoch < n_epochs:\n",
    "        model.train()  # set model to training mode\n",
    "        for x, y in tr_set:  # iterate through the dataloader\n",
    "            optimizer.zero_grad()  # set gradient to zero\n",
    "            x, y = x.to(device), y.to(device)  # move data to device (cpu/cuda)\n",
    "            pred = model(x)  # forward pass (compute output)\n",
    "            mse_loss = model.cal_loss(pred, y)  # compute loss\n",
    "            mse_loss.backward()  # compute gradient (backpropagation)\n",
    "            optimizer.step()  # update model with optimizer\n",
    "            loss_record['train'].append(mse_loss.detach().cpu().item())\n",
    "\n",
    "        # After each epoch, test your model on the validation (development) set.\n",
    "        dev_mse = dev(dv_set, model, device)\n",
    "        if dev_mse < min_mse:\n",
    "            # Save model if your model improved\n",
    "            min_mse = dev_mse\n",
    "            print('Saving model (epoch = {:4d}, loss = {:.4f})'\n",
    "                  .format(epoch + 1, min_mse))\n",
    "            torch.save(model.state_dict(), config['save_path'])  # Save model to specified path\n",
    "            early_stop_cnt = 0\n",
    "        else:\n",
    "            early_stop_cnt += 1\n",
    "\n",
    "        epoch += 1\n",
    "        loss_record['dev'].append(dev_mse)\n",
    "        if early_stop_cnt > config['early_stop']:\n",
    "            # Stop training if your model stops improving for \"config['early_stop']\" epochs.\n",
    "            break\n",
    "\n",
    "    print('Finished training after {} epochs'.format(epoch))\n",
    "    return min_mse, loss_record"
   ],
   "outputs": [],
   "execution_count": 39
  },
  {
   "attachments": {},
   "cell_type": "markdown",
   "metadata": {
    "id": "0hSd4Bn3O2PL"
   },
   "source": [
    "## **Validation**"
   ]
  },
  {
   "cell_type": "code",
   "metadata": {
    "id": "yrxrD3YsN3U2",
    "ExecuteTime": {
     "end_time": "2025-03-24T23:49:42.659820Z",
     "start_time": "2025-03-24T23:49:42.654590Z"
    }
   },
   "source": [
    "def dev(dv_set, model, device):\n",
    "    model.eval()  # set model to evalutation mode\n",
    "    total_loss = 0\n",
    "    for x, y in dv_set:  # iterate through the dataloader\n",
    "        x, y = x.to(device), y.to(device)  # move data to device (cpu/cuda)\n",
    "        with torch.no_grad():  # disable gradient calculation\n",
    "            pred = model(x)  # forward pass (compute output)\n",
    "            mse_loss = model.cal_loss(pred, y)  # compute loss\n",
    "        total_loss += mse_loss.detach().cpu().item() * len(x)  # accumulate loss\n",
    "    total_loss = total_loss / len(dv_set.dataset)  # compute averaged loss\n",
    "\n",
    "    return total_loss"
   ],
   "outputs": [],
   "execution_count": 40
  },
  {
   "attachments": {},
   "cell_type": "markdown",
   "metadata": {
    "id": "g0pdrhQAO41L"
   },
   "source": [
    "## **Testing**"
   ]
  },
  {
   "cell_type": "code",
   "metadata": {
    "id": "aSBMRFlYN5tB",
    "ExecuteTime": {
     "end_time": "2025-03-24T23:49:42.684209Z",
     "start_time": "2025-03-24T23:49:42.676925Z"
    }
   },
   "source": [
    "def test(tt_set, model, device):\n",
    "    model.eval()  # set model to evalutation mode\n",
    "    preds = []\n",
    "    for x in tt_set:  # iterate through the dataloader\n",
    "        x = x.to(device)  # move data to device (cpu/cuda)\n",
    "        with torch.no_grad():  # disable gradient calculation\n",
    "            pred = model(x)  # forward pass (compute output)\n",
    "            preds.append(pred.detach().cpu())  # collect prediction\n",
    "    preds = torch.cat(preds, dim=0).numpy()  # concatenate all predictions and convert to a numpy array\n",
    "    return preds"
   ],
   "outputs": [],
   "execution_count": 41
  },
  {
   "attachments": {},
   "cell_type": "markdown",
   "metadata": {
    "id": "SvckkF5dvf0j"
   },
   "source": [
    "# **Setup Hyper-parameters**\n",
    "\n",
    "`config` contains hyper-parameters for training and the path to save your model."
   ]
  },
  {
   "cell_type": "code",
   "metadata": {
    "id": "NPXpdumwPjE7",
    "ExecuteTime": {
     "end_time": "2025-03-24T23:49:42.693765Z",
     "start_time": "2025-03-24T23:49:42.688127Z"
    }
   },
   "source": [
    "device = get_device()  # get the current available device ('cpu' or 'cuda')\n",
    "os.makedirs('models', exist_ok=True)  # The trained model will be saved to ./models/\n",
    "target_only = True  # TODO: Using 40 states & 2 tested_positive features\n",
    "\n",
    "# TODO: How to tune these hyper-parameters to improve your model's performance?\n",
    "config = {\n",
    "    'n_epochs': 5000,  # maximum number of epochs\n",
    "    'batch_size': 200,  # mini-batch size for dataloader\n",
    "    'optimizer': 'Adam',  # optimization algorithm (optimizer in torch.optim)\n",
    "    'optim_hparas': {  # hyper-parameters for the optimizer (depends on which optimizer you are using)\n",
    "        'lr': 0.0001,  # learning rate of Adam\n",
    "    },\n",
    "    'early_stop': 200,  # early stopping epochs (the number epochs since your model's last improvement)\n",
    "    'save_path': 'models/model.pth'  # your model will be saved here\n",
    "}"
   ],
   "outputs": [],
   "execution_count": 42
  },
  {
   "attachments": {},
   "cell_type": "markdown",
   "metadata": {
    "id": "6j1eOV3TOH-j"
   },
   "source": [
    "# **Load data and model**"
   ]
  },
  {
   "cell_type": "code",
   "metadata": {
    "colab": {
     "base_uri": "https://localhost:8080/"
    },
    "id": "eNrYBMmePLKm",
    "outputId": "fcd4f175-4f7e-4306-f33c-5f8285f11dce",
    "ExecuteTime": {
     "end_time": "2025-03-24T23:49:43.073503Z",
     "start_time": "2025-03-24T23:49:42.697806Z"
    }
   },
   "source": [
    "tr_set = prep_dataloader(tr_path, 'train', config['batch_size'], target_only=target_only)\n",
    "dv_set = prep_dataloader(tr_path, 'dev', config['batch_size'], target_only=target_only)\n",
    "tt_set = prep_dataloader(tt_path, 'test', config['batch_size'], target_only=target_only)"
   ],
   "outputs": [
    {
     "name": "stdout",
     "output_type": "stream",
     "text": [
      "Finished reading the train set of COVID19 Dataset (2430 samples found, each dim = 42)\n",
      "Finished reading the dev set of COVID19 Dataset (270 samples found, each dim = 42)\n",
      "Finished reading the test set of COVID19 Dataset (893 samples found, each dim = 42)\n"
     ]
    }
   ],
   "execution_count": 43
  },
  {
   "cell_type": "code",
   "metadata": {
    "id": "FHylSirLP9oh",
    "ExecuteTime": {
     "end_time": "2025-03-24T23:49:43.078431Z",
     "start_time": "2025-03-24T23:49:43.075146Z"
    }
   },
   "source": [
    "model = NeuralNet(tr_set.dataset.dim).to(device)  # Construct model and move to device"
   ],
   "outputs": [],
   "execution_count": 44
  },
  {
   "attachments": {},
   "cell_type": "markdown",
   "metadata": {
    "id": "sX2B_zgSOPTJ"
   },
   "source": [
    "# **Start Training!**"
   ]
  },
  {
   "cell_type": "code",
   "metadata": {
    "colab": {
     "base_uri": "https://localhost:8080/"
    },
    "id": "GrEbUxazQAAZ",
    "outputId": "f4f3bd74-2d97-4275-b69f-6609976b91f9",
    "ExecuteTime": {
     "end_time": "2025-03-24T23:50:06.751485Z",
     "start_time": "2025-03-24T23:49:43.079259Z"
    }
   },
   "source": [
    "model_loss, model_loss_record = train(tr_set, dv_set, model, config, device)"
   ],
   "outputs": [
    {
     "name": "stdout",
     "output_type": "stream",
     "text": [
      "Saving model (epoch =    1, loss = 324.5522)\n",
      "Saving model (epoch =    2, loss = 324.0902)\n",
      "Saving model (epoch =    3, loss = 323.5846)\n",
      "Saving model (epoch =    4, loss = 322.9754)\n",
      "Saving model (epoch =    5, loss = 322.1865)\n",
      "Saving model (epoch =    6, loss = 321.2059)\n",
      "Saving model (epoch =    7, loss = 319.9948)\n",
      "Saving model (epoch =    8, loss = 318.5092)\n",
      "Saving model (epoch =    9, loss = 316.6287)\n",
      "Saving model (epoch =   10, loss = 314.2730)\n",
      "Saving model (epoch =   11, loss = 311.3878)\n",
      "Saving model (epoch =   12, loss = 307.9123)\n",
      "Saving model (epoch =   13, loss = 303.7792)\n",
      "Saving model (epoch =   14, loss = 298.8770)\n",
      "Saving model (epoch =   15, loss = 292.9867)\n",
      "Saving model (epoch =   16, loss = 285.8200)\n",
      "Saving model (epoch =   17, loss = 277.5148)\n",
      "Saving model (epoch =   18, loss = 267.8582)\n",
      "Saving model (epoch =   19, loss = 256.9000)\n",
      "Saving model (epoch =   20, loss = 244.4637)\n",
      "Saving model (epoch =   21, loss = 230.6533)\n",
      "Saving model (epoch =   22, loss = 215.5772)\n",
      "Saving model (epoch =   23, loss = 199.0007)\n",
      "Saving model (epoch =   24, loss = 181.4402)\n",
      "Saving model (epoch =   25, loss = 163.3293)\n",
      "Saving model (epoch =   26, loss = 144.7329)\n",
      "Saving model (epoch =   27, loss = 125.9513)\n",
      "Saving model (epoch =   28, loss = 107.8074)\n",
      "Saving model (epoch =   29, loss = 90.3890)\n",
      "Saving model (epoch =   30, loss = 74.1712)\n",
      "Saving model (epoch =   31, loss = 59.5318)\n",
      "Saving model (epoch =   32, loss = 47.0899)\n",
      "Saving model (epoch =   33, loss = 36.7646)\n",
      "Saving model (epoch =   34, loss = 28.4156)\n",
      "Saving model (epoch =   35, loss = 22.0676)\n",
      "Saving model (epoch =   36, loss = 17.4308)\n",
      "Saving model (epoch =   37, loss = 14.1385)\n",
      "Saving model (epoch =   38, loss = 11.8171)\n",
      "Saving model (epoch =   39, loss = 10.2724)\n",
      "Saving model (epoch =   40, loss = 9.2518)\n",
      "Saving model (epoch =   41, loss = 8.5395)\n",
      "Saving model (epoch =   42, loss = 8.0160)\n",
      "Saving model (epoch =   43, loss = 7.5889)\n",
      "Saving model (epoch =   44, loss = 7.2299)\n",
      "Saving model (epoch =   45, loss = 6.9059)\n",
      "Saving model (epoch =   46, loss = 6.6111)\n",
      "Saving model (epoch =   47, loss = 6.3518)\n",
      "Saving model (epoch =   48, loss = 6.1062)\n",
      "Saving model (epoch =   49, loss = 5.8731)\n",
      "Saving model (epoch =   50, loss = 5.6583)\n",
      "Saving model (epoch =   51, loss = 5.4588)\n",
      "Saving model (epoch =   52, loss = 5.2666)\n",
      "Saving model (epoch =   53, loss = 5.0836)\n",
      "Saving model (epoch =   54, loss = 4.9052)\n",
      "Saving model (epoch =   55, loss = 4.7398)\n",
      "Saving model (epoch =   56, loss = 4.5839)\n",
      "Saving model (epoch =   57, loss = 4.4376)\n",
      "Saving model (epoch =   58, loss = 4.2974)\n",
      "Saving model (epoch =   59, loss = 4.1646)\n",
      "Saving model (epoch =   60, loss = 4.0366)\n",
      "Saving model (epoch =   61, loss = 3.9186)\n",
      "Saving model (epoch =   62, loss = 3.8029)\n",
      "Saving model (epoch =   63, loss = 3.6937)\n",
      "Saving model (epoch =   64, loss = 3.5943)\n",
      "Saving model (epoch =   65, loss = 3.4957)\n",
      "Saving model (epoch =   66, loss = 3.4029)\n",
      "Saving model (epoch =   67, loss = 3.3124)\n",
      "Saving model (epoch =   68, loss = 3.2283)\n",
      "Saving model (epoch =   69, loss = 3.1510)\n",
      "Saving model (epoch =   70, loss = 3.0772)\n",
      "Saving model (epoch =   71, loss = 3.0066)\n",
      "Saving model (epoch =   72, loss = 2.9405)\n",
      "Saving model (epoch =   73, loss = 2.8748)\n",
      "Saving model (epoch =   74, loss = 2.8126)\n",
      "Saving model (epoch =   75, loss = 2.7515)\n",
      "Saving model (epoch =   76, loss = 2.6990)\n",
      "Saving model (epoch =   77, loss = 2.6478)\n",
      "Saving model (epoch =   78, loss = 2.5979)\n",
      "Saving model (epoch =   79, loss = 2.5497)\n",
      "Saving model (epoch =   80, loss = 2.5026)\n",
      "Saving model (epoch =   81, loss = 2.4591)\n",
      "Saving model (epoch =   82, loss = 2.4156)\n",
      "Saving model (epoch =   83, loss = 2.3745)\n",
      "Saving model (epoch =   84, loss = 2.3368)\n",
      "Saving model (epoch =   85, loss = 2.3035)\n",
      "Saving model (epoch =   86, loss = 2.2653)\n",
      "Saving model (epoch =   87, loss = 2.2318)\n",
      "Saving model (epoch =   88, loss = 2.1985)\n",
      "Saving model (epoch =   89, loss = 2.1685)\n",
      "Saving model (epoch =   90, loss = 2.1414)\n",
      "Saving model (epoch =   91, loss = 2.1141)\n",
      "Saving model (epoch =   92, loss = 2.0833)\n",
      "Saving model (epoch =   93, loss = 2.0579)\n",
      "Saving model (epoch =   94, loss = 2.0325)\n",
      "Saving model (epoch =   95, loss = 2.0107)\n",
      "Saving model (epoch =   96, loss = 1.9861)\n",
      "Saving model (epoch =   97, loss = 1.9629)\n",
      "Saving model (epoch =   98, loss = 1.9419)\n",
      "Saving model (epoch =   99, loss = 1.9213)\n",
      "Saving model (epoch =  100, loss = 1.8970)\n",
      "Saving model (epoch =  101, loss = 1.8806)\n",
      "Saving model (epoch =  102, loss = 1.8594)\n",
      "Saving model (epoch =  103, loss = 1.8439)\n",
      "Saving model (epoch =  104, loss = 1.8258)\n",
      "Saving model (epoch =  105, loss = 1.8072)\n",
      "Saving model (epoch =  106, loss = 1.7894)\n",
      "Saving model (epoch =  107, loss = 1.7740)\n",
      "Saving model (epoch =  108, loss = 1.7534)\n",
      "Saving model (epoch =  109, loss = 1.7386)\n",
      "Saving model (epoch =  110, loss = 1.7239)\n",
      "Saving model (epoch =  111, loss = 1.7133)\n",
      "Saving model (epoch =  112, loss = 1.7001)\n",
      "Saving model (epoch =  113, loss = 1.6876)\n",
      "Saving model (epoch =  114, loss = 1.6699)\n",
      "Saving model (epoch =  115, loss = 1.6577)\n",
      "Saving model (epoch =  116, loss = 1.6494)\n",
      "Saving model (epoch =  117, loss = 1.6347)\n",
      "Saving model (epoch =  118, loss = 1.6249)\n",
      "Saving model (epoch =  119, loss = 1.6120)\n",
      "Saving model (epoch =  120, loss = 1.5994)\n",
      "Saving model (epoch =  121, loss = 1.5864)\n",
      "Saving model (epoch =  122, loss = 1.5775)\n",
      "Saving model (epoch =  123, loss = 1.5711)\n",
      "Saving model (epoch =  124, loss = 1.5541)\n",
      "Saving model (epoch =  125, loss = 1.5467)\n",
      "Saving model (epoch =  126, loss = 1.5391)\n",
      "Saving model (epoch =  127, loss = 1.5261)\n",
      "Saving model (epoch =  128, loss = 1.5175)\n",
      "Saving model (epoch =  129, loss = 1.5123)\n",
      "Saving model (epoch =  130, loss = 1.5013)\n",
      "Saving model (epoch =  131, loss = 1.4952)\n",
      "Saving model (epoch =  132, loss = 1.4845)\n",
      "Saving model (epoch =  133, loss = 1.4753)\n",
      "Saving model (epoch =  134, loss = 1.4711)\n",
      "Saving model (epoch =  135, loss = 1.4592)\n",
      "Saving model (epoch =  136, loss = 1.4538)\n",
      "Saving model (epoch =  137, loss = 1.4513)\n",
      "Saving model (epoch =  138, loss = 1.4428)\n",
      "Saving model (epoch =  139, loss = 1.4356)\n",
      "Saving model (epoch =  140, loss = 1.4309)\n",
      "Saving model (epoch =  141, loss = 1.4299)\n",
      "Saving model (epoch =  142, loss = 1.4244)\n",
      "Saving model (epoch =  143, loss = 1.4216)\n",
      "Saving model (epoch =  144, loss = 1.4115)\n",
      "Saving model (epoch =  145, loss = 1.4053)\n",
      "Saving model (epoch =  146, loss = 1.3990)\n",
      "Saving model (epoch =  147, loss = 1.3956)\n",
      "Saving model (epoch =  148, loss = 1.3930)\n",
      "Saving model (epoch =  149, loss = 1.3844)\n",
      "Saving model (epoch =  150, loss = 1.3798)\n",
      "Saving model (epoch =  151, loss = 1.3782)\n",
      "Saving model (epoch =  152, loss = 1.3751)\n",
      "Saving model (epoch =  153, loss = 1.3673)\n",
      "Saving model (epoch =  154, loss = 1.3633)\n",
      "Saving model (epoch =  155, loss = 1.3590)\n",
      "Saving model (epoch =  156, loss = 1.3548)\n",
      "Saving model (epoch =  157, loss = 1.3546)\n",
      "Saving model (epoch =  158, loss = 1.3526)\n",
      "Saving model (epoch =  159, loss = 1.3487)\n",
      "Saving model (epoch =  160, loss = 1.3457)\n",
      "Saving model (epoch =  161, loss = 1.3422)\n",
      "Saving model (epoch =  162, loss = 1.3384)\n",
      "Saving model (epoch =  163, loss = 1.3356)\n",
      "Saving model (epoch =  165, loss = 1.3302)\n",
      "Saving model (epoch =  166, loss = 1.3252)\n",
      "Saving model (epoch =  168, loss = 1.3232)\n",
      "Saving model (epoch =  169, loss = 1.3182)\n",
      "Saving model (epoch =  170, loss = 1.3177)\n",
      "Saving model (epoch =  171, loss = 1.3147)\n",
      "Saving model (epoch =  172, loss = 1.3118)\n",
      "Saving model (epoch =  174, loss = 1.3059)\n",
      "Saving model (epoch =  175, loss = 1.3036)\n",
      "Saving model (epoch =  177, loss = 1.3014)\n",
      "Saving model (epoch =  178, loss = 1.2953)\n",
      "Saving model (epoch =  180, loss = 1.2945)\n",
      "Saving model (epoch =  181, loss = 1.2914)\n",
      "Saving model (epoch =  182, loss = 1.2905)\n",
      "Saving model (epoch =  183, loss = 1.2897)\n",
      "Saving model (epoch =  184, loss = 1.2867)\n",
      "Saving model (epoch =  185, loss = 1.2836)\n",
      "Saving model (epoch =  187, loss = 1.2816)\n",
      "Saving model (epoch =  188, loss = 1.2813)\n",
      "Saving model (epoch =  190, loss = 1.2811)\n",
      "Saving model (epoch =  191, loss = 1.2721)\n",
      "Saving model (epoch =  192, loss = 1.2715)\n",
      "Saving model (epoch =  194, loss = 1.2651)\n",
      "Saving model (epoch =  198, loss = 1.2589)\n",
      "Saving model (epoch =  200, loss = 1.2582)\n",
      "Saving model (epoch =  201, loss = 1.2558)\n",
      "Saving model (epoch =  202, loss = 1.2521)\n",
      "Saving model (epoch =  203, loss = 1.2497)\n",
      "Saving model (epoch =  205, loss = 1.2487)\n",
      "Saving model (epoch =  207, loss = 1.2422)\n",
      "Saving model (epoch =  213, loss = 1.2411)\n",
      "Saving model (epoch =  214, loss = 1.2401)\n",
      "Saving model (epoch =  215, loss = 1.2394)\n",
      "Saving model (epoch =  216, loss = 1.2371)\n",
      "Saving model (epoch =  217, loss = 1.2355)\n",
      "Saving model (epoch =  218, loss = 1.2351)\n",
      "Saving model (epoch =  219, loss = 1.2308)\n",
      "Saving model (epoch =  220, loss = 1.2308)\n",
      "Saving model (epoch =  222, loss = 1.2269)\n",
      "Saving model (epoch =  224, loss = 1.2264)\n",
      "Saving model (epoch =  225, loss = 1.2261)\n",
      "Saving model (epoch =  228, loss = 1.2211)\n",
      "Saving model (epoch =  231, loss = 1.2201)\n",
      "Saving model (epoch =  233, loss = 1.2143)\n",
      "Saving model (epoch =  236, loss = 1.2124)\n",
      "Saving model (epoch =  238, loss = 1.2112)\n",
      "Saving model (epoch =  240, loss = 1.2089)\n",
      "Saving model (epoch =  241, loss = 1.2080)\n",
      "Saving model (epoch =  242, loss = 1.2069)\n",
      "Saving model (epoch =  243, loss = 1.2059)\n",
      "Saving model (epoch =  244, loss = 1.2041)\n",
      "Saving model (epoch =  245, loss = 1.2038)\n",
      "Saving model (epoch =  247, loss = 1.1995)\n",
      "Saving model (epoch =  252, loss = 1.1968)\n",
      "Saving model (epoch =  254, loss = 1.1956)\n",
      "Saving model (epoch =  255, loss = 1.1915)\n",
      "Saving model (epoch =  256, loss = 1.1912)\n",
      "Saving model (epoch =  257, loss = 1.1884)\n",
      "Saving model (epoch =  262, loss = 1.1860)\n",
      "Saving model (epoch =  266, loss = 1.1855)\n",
      "Saving model (epoch =  267, loss = 1.1832)\n",
      "Saving model (epoch =  269, loss = 1.1827)\n",
      "Saving model (epoch =  270, loss = 1.1796)\n",
      "Saving model (epoch =  274, loss = 1.1792)\n",
      "Saving model (epoch =  276, loss = 1.1757)\n",
      "Saving model (epoch =  278, loss = 1.1721)\n",
      "Saving model (epoch =  280, loss = 1.1713)\n",
      "Saving model (epoch =  283, loss = 1.1696)\n",
      "Saving model (epoch =  289, loss = 1.1668)\n",
      "Saving model (epoch =  292, loss = 1.1656)\n",
      "Saving model (epoch =  293, loss = 1.1631)\n",
      "Saving model (epoch =  295, loss = 1.1626)\n",
      "Saving model (epoch =  296, loss = 1.1585)\n",
      "Saving model (epoch =  298, loss = 1.1568)\n",
      "Saving model (epoch =  300, loss = 1.1559)\n",
      "Saving model (epoch =  301, loss = 1.1549)\n",
      "Saving model (epoch =  302, loss = 1.1547)\n",
      "Saving model (epoch =  304, loss = 1.1540)\n",
      "Saving model (epoch =  306, loss = 1.1521)\n",
      "Saving model (epoch =  309, loss = 1.1512)\n",
      "Saving model (epoch =  310, loss = 1.1481)\n",
      "Saving model (epoch =  319, loss = 1.1476)\n",
      "Saving model (epoch =  320, loss = 1.1455)\n",
      "Saving model (epoch =  325, loss = 1.1434)\n",
      "Saving model (epoch =  326, loss = 1.1431)\n",
      "Saving model (epoch =  328, loss = 1.1429)\n",
      "Saving model (epoch =  330, loss = 1.1423)\n",
      "Saving model (epoch =  333, loss = 1.1386)\n",
      "Saving model (epoch =  335, loss = 1.1381)\n",
      "Saving model (epoch =  339, loss = 1.1352)\n",
      "Saving model (epoch =  341, loss = 1.1325)\n",
      "Saving model (epoch =  342, loss = 1.1304)\n",
      "Saving model (epoch =  344, loss = 1.1298)\n",
      "Saving model (epoch =  352, loss = 1.1293)\n",
      "Saving model (epoch =  368, loss = 1.1261)\n",
      "Saving model (epoch =  375, loss = 1.1225)\n",
      "Saving model (epoch =  387, loss = 1.1213)\n",
      "Saving model (epoch =  392, loss = 1.1204)\n",
      "Saving model (epoch =  399, loss = 1.1179)\n",
      "Saving model (epoch =  412, loss = 1.1175)\n",
      "Saving model (epoch =  414, loss = 1.1149)\n",
      "Saving model (epoch =  418, loss = 1.1136)\n",
      "Saving model (epoch =  431, loss = 1.1122)\n",
      "Saving model (epoch =  434, loss = 1.1121)\n",
      "Saving model (epoch =  442, loss = 1.1114)\n",
      "Saving model (epoch =  444, loss = 1.1103)\n",
      "Saving model (epoch =  463, loss = 1.1060)\n",
      "Saving model (epoch =  467, loss = 1.1027)\n",
      "Saving model (epoch =  489, loss = 1.1020)\n",
      "Saving model (epoch =  508, loss = 1.1018)\n",
      "Finished training after 709 epochs\n"
     ]
    }
   ],
   "execution_count": 45
  },
  {
   "cell_type": "code",
   "metadata": {
    "colab": {
     "base_uri": "https://localhost:8080/",
     "height": 295
    },
    "id": "hsNO9nnXQBvP",
    "outputId": "1626def6-94c7-4a87-9447-d939f827c8eb",
    "ExecuteTime": {
     "end_time": "2025-03-24T23:50:06.832621Z",
     "start_time": "2025-03-24T23:50:06.753252Z"
    }
   },
   "source": [
    "plot_learning_curve(model_loss_record, title='deep model')"
   ],
   "outputs": [
    {
     "data": {
      "text/plain": [
       "<Figure size 600x400 with 1 Axes>"
      ],
      "image/png": "[encoded data removed]"
     },
     "metadata": {},
     "output_type": "display_data"
    }
   ],
   "execution_count": 46
  },
  {
   "cell_type": "code",
   "metadata": {
    "colab": {
     "base_uri": "https://localhost:8080/",
     "height": 350
    },
    "id": "3iZTVn5WQFpX",
    "outputId": "a2d5e118-559d-45c6-b644-6792af54663d",
    "ExecuteTime": {
     "end_time": "2025-03-24T23:50:06.942453Z",
     "start_time": "2025-03-24T23:50:06.833442Z"
    }
   },
   "source": [
    "del model\n",
    "model = NeuralNet(tr_set.dataset.dim).to(device)\n",
    "ckpt = torch.load(config['save_path'], map_location='cpu')  # Load your best model\n",
    "model.load_state_dict(ckpt)\n",
    "plot_pred(dv_set, model, device)  # Show prediction on the validation set"
   ],
   "outputs": [
    {
     "data": {
      "text/plain": [
       "<Figure size 500x500 with 1 Axes>"
      ],
      "image/png": "[encoded data removed]"
     },
     "metadata": {},
     "output_type": "display_data"
    }
   ],
   "execution_count": 47
  },
  {
   "attachments": {},
   "cell_type": "markdown",
   "metadata": {
    "id": "aQikz3IPiyPf"
   },
   "source": [
    "# **Testing**\n",
    "The predictions of your model on testing set will be stored at `pred.csv`."
   ]
  },
  {
   "cell_type": "code",
   "metadata": {
    "colab": {
     "base_uri": "https://localhost:8080/"
    },
    "id": "O8cTuQjQQOon",
    "outputId": "6bc5de07-4c5a-4e87-9ae3-d09f539c5f2c",
    "ExecuteTime": {
     "end_time": "2025-03-24T23:50:06.954036Z",
     "start_time": "2025-03-24T23:50:06.943361Z"
    }
   },
   "source": [
    "def save_pred(preds, file):\n",
    "    ''' Save predictions to specified file '''\n",
    "    print('Saving results to {}'.format(file))\n",
    "    with open(file, 'w') as fp:\n",
    "        writer = csv.writer(fp)\n",
    "        writer.writerow(['id', 'tested_positive'])\n",
    "        for i, p in enumerate(preds):\n",
    "            writer.writerow([i, p])\n",
    "\n",
    "\n",
    "preds = test(tt_set, model, device)  # predict COVID-19 cases with your model\n",
    "save_pred(preds, 'pred.csv')  # save prediction file to pred.csv"
   ],
   "outputs": [
    {
     "name": "stdout",
     "output_type": "stream",
     "text": [
      "Saving results to pred.csv\n"
     ]
    }
   ],
   "execution_count": 48
  },
  {
   "attachments": {},
   "cell_type": "markdown",
   "metadata": {
    "id": "nfrVxqJanGpE"
   },
   "source": [
    "# **Hints**\n",
    "\n",
    "## **Simple Baseline**\n",
    "* Run sample code\n",
    "\n",
    "## **Medium Baseline**\n",
    "* Feature selection: 40 states + 2 `tested_positive` (`TODO` in dataset)\n",
    "\n",
    "## **Strong Baseline**\n",
    "* Feature selection (what other features are useful?)\n",
    "* DNN architecture (layers? dimension? activation function?)\n",
    "* Training (mini-batch? optimizer? learning rate?)\n",
    "* L2 regularization\n",
    "* There are some mistakes in the sample code, can you find them?"
   ]
  }
 ],
 "metadata": {
  "accelerator": "GPU",
  "colab": {
   "collapsed_sections": [],
   "name": "ML2021Spring - HW1.ipynb",
   "provenance": [],
   "toc_visible": true
  },
  "kernelspec": {
   "display_name": "Python 3 (ipykernel)",
   "name": "python3",
   "language": "python"
  }
 },
 "nbformat": 4,
 "nbformat_minor": 0
}
