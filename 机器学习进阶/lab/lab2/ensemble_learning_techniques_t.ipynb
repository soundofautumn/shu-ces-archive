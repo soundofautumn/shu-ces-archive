{
 "cells": [
  {
   "attachments": {},
   "cell_type": "markdown",
   "metadata": {
    "id": "3qxf-H4X_EQb"
   },
   "source": [
    "![](https://www.googleapis.com/download/storage/v1/b/kaggle-user-content/o/inbox%2F3335785%2F219228e436b0e694f835f70194e45c8c%2Fmaxresdefault.jpg?generation=1589357922679234&alt=media)\n",
    "\n",
    "    \n",
    "# 1. Introduction <a id=\"1\"></a> <br>\n",
    "    \n",
    "Suppose you wanted to purchase a car.Now by just visiting the first car company and based on the dealer's advise  will we straight away make a buy on a car? Answer is defenitely a big NO right?\n",
    "    \n",
    "![](https://thumbs.dreamstime.com/b/car-sale-4167169.jpg)\n",
    "    \n",
    "So what we do is first decide whether which car to buy ,whether it is a new or used car ,type of car,model and year of manufacture, look for list of dealers ,look for discounts/offers ,customer reviews,opinion from friends and family, performance ,fuel efficiency and obvious any car buyer will for the best price range etc.\n",
    "    \n",
    "![](https://encrypted-tbn0.gstatic.com/images?q=tbn%3AANd9GcSC0-mqf3xqr3MESGW-mGwaWQkkBjwJGbNFsQ&usqp=CAU)\n",
    "    \n",
    " In short, you wouldn’t directly reach a conclusion, but will instead make a decision considering all the above mentioned factors before we decide on the best choice.\n",
    "    \n",
    "**Ensemble models** in machine learning operate on a similar idea.\n",
    "\n",
    "![](https://i.pinimg.com/474x/d7/c7/9b/d7c79b0c7abc5a34e17710fe596f6834.jpg)  \n",
    "\n",
    "Ensemble Learning helps improve machine learning results by combining several models to improve predictive performance compared to a single model.\n",
    "\n",
    "![](https://i.imgur.com/L2Jaqm8.png)\n",
    "    \n",
    "# 2. Ensemble Techniques <a id=\"2\"></a> <br>\n",
    "\n",
    "## 2.1 Max Voting / Voting Classifier <a id=\"2.1\"></a> <br>\n",
    "\n",
    "The **max voting** method is generally used for classification problems. In this technique, multiple models are used to make predictions for each data point. The predictions by each model are considered as a ‘vote’. The predictions which we get from the majority of the models are used as the final prediction.\n",
    "\n",
    "A **Voting Classifier** is a machine learning model that trains on an ensemble of numerous models and predicts an output (class) based on their highest probability of chosen class as the output.\n",
    "It simply aggregates the findings of each classifier passed into Voting Classifier and predicts the output class based on the highest majority of voting. The idea is instead of creating separate dedicated models and finding the accuracy for each them, we create a single model which trains by these models and predicts output based on their combined majority of voting for each output class.\n",
    "\n",
    "Now let us use the IRIS dataset to demonstrate the Voting Classifier"
   ]
  },
  {
   "cell_type": "code",
   "metadata": {
    "_kg_hide-input": true,
    "colab": {
     "base_uri": "https://localhost:8080/",
     "height": 34
    },
    "id": "6Kwlxb8h_EQd",
    "outputId": "d9c5efd0-caa4-4ef2-bf2a-1744adf76edd",
    "trusted": true,
    "ExecuteTime": {
     "end_time": "2025-03-27T05:15:20.204571Z",
     "start_time": "2025-03-27T05:15:19.812751Z"
    }
   },
   "source": [
    "# importing libraries\n",
    "from sklearn.ensemble import VotingClassifier, BaggingClassifier, ExtraTreesClassifier, RandomForestClassifier\n",
    "from sklearn.ensemble import AdaBoostClassifier, GradientBoostingClassifier\n",
    "from sklearn.metrics import accuracy_score\n",
    "from numpy import mean, std\n",
    "from sklearn.datasets import make_classification\n",
    "from sklearn.model_selection import cross_val_score, RepeatedStratifiedKFold, train_test_split\n",
    "from sklearn.linear_model import LogisticRegression, RidgeClassifier\n",
    "from sklearn.neighbors import KNeighborsClassifier\n",
    "from sklearn.tree import DecisionTreeClassifier\n",
    "from sklearn.svm import SVC\n",
    "from sklearn.naive_bayes import GaussianNB\n",
    "from matplotlib import pyplot\n",
    "from sklearn.datasets import load_wine, load_iris\n",
    "from matplotlib.pyplot import figure\n",
    "\n",
    "figure(num=2, figsize=(16, 12), dpi=80, facecolor='w', edgecolor='k')\n",
    "import xgboost as xgb\n",
    "from sklearn.feature_selection import SelectKBest, f_regression\n",
    "from sklearn.linear_model import LinearRegression, BayesianRidge, ElasticNet, Lasso, SGDRegressor, Ridge\n",
    "from sklearn.kernel_ridge import KernelRidge\n",
    "from sklearn.preprocessing import LabelEncoder, OneHotEncoder, RobustScaler, StandardScaler\n",
    "from sklearn.pipeline import make_pipeline, Pipeline\n",
    "from sklearn.metrics import mean_squared_error\n",
    "from sklearn.decomposition import PCA, KernelPCA\n",
    "from sklearn.ensemble import ExtraTreesRegressor, GradientBoostingRegressor, RandomForestRegressor, VotingClassifier\n",
    "from sklearn.model_selection import cross_val_score, KFold, GridSearchCV, RandomizedSearchCV, StratifiedKFold, \\\n",
    "    train_test_split\n",
    "from sklearn.base import BaseEstimator, clone, TransformerMixin, RegressorMixin\n",
    "from sklearn.svm import LinearSVR, SVR\n",
    "#import xgboost\n",
    "from xgboost import XGBRegressor\n",
    "#Import Pandas\n",
    "import pandas as pd\n",
    "import numpy as np\n",
    "import matplotlib.pyplot as plt\n",
    "import matplotlib\n",
    "import seaborn as sns\n",
    "import warnings\n",
    "import os\n",
    "\n",
    "warnings.filterwarnings('ignore')\n",
    "from scipy.stats import skew\n",
    "from scipy.stats.stats import pearsonr\n",
    "%matplotlib inline\n",
    "seed = 1075\n",
    "np.random.seed(seed)"
   ],
   "outputs": [],
   "execution_count": 2
  },
  {
   "cell_type": "code",
   "metadata": {
    "id": "1SH2abWY_EQe",
    "trusted": true,
    "ExecuteTime": {
     "end_time": "2025-03-27T05:15:20.863483Z",
     "start_time": "2025-03-27T05:15:20.857271Z"
    }
   },
   "source": [
    "# loading iris dataset\n",
    "iris = load_iris()\n",
    "X = iris.data[:, :4]\n",
    "Y = iris.target"
   ],
   "outputs": [],
   "execution_count": 3
  },
  {
   "cell_type": "code",
   "metadata": {
    "id": "gNYiN2t__EQe",
    "trusted": true,
    "ExecuteTime": {
     "end_time": "2025-03-27T05:15:20.936596Z",
     "start_time": "2025-03-27T05:15:20.931663Z"
    }
   },
   "source": "X_train, X_test, y_train, y_test = train_test_split(X, Y, test_size=0.20, random_state=42)",
   "outputs": [],
   "execution_count": 4
  },
  {
   "cell_type": "code",
   "metadata": {
    "id": "9d13bCoz_EQe",
    "trusted": true,
    "ExecuteTime": {
     "end_time": "2025-03-27T05:15:20.997661Z",
     "start_time": "2025-03-27T05:15:20.994592Z"
    }
   },
   "source": [
    "# Ensemble of Models\n",
    "estimator = []\n",
    "estimator.append(('LR', LogisticRegression(solver='lbfgs', multi_class='multinomial', max_iter=200)))\n",
    "estimator.append(('SVC', SVC(gamma='auto', probability=True)))\n",
    "estimator.append(('DTC', DecisionTreeClassifier()))"
   ],
   "outputs": [],
   "execution_count": 5
  },
  {
   "attachments": {},
   "cell_type": "markdown",
   "metadata": {
    "id": "g3enKzVd_EQe"
   },
   "source": [
    "**Voting Classifier** supports two types of votings.\n",
    "\n",
    "**Hard Voting:** In hard voting, the predicted output class is a class with the highest majority of votes i.e the class which had the highest probability of being predicted by each of the classifiers. Suppose three classifiers predicted the output class(A, A, B), so here the majority predicted A as output. Hence A will be the final prediction.\n",
    "![](https://image.slidesharecdn.com/7-180514114334/95/ensemble-learning-and-random-forests-12-638.jpg?cb=1527755412)"
   ]
  },
  {
   "cell_type": "code",
   "metadata": {
    "id": "PsFJUq1J_EQe",
    "trusted": true,
    "ExecuteTime": {
     "end_time": "2025-03-27T05:15:21.199977Z",
     "start_time": "2025-03-27T05:15:21.174505Z"
    }
   },
   "source": [
    "# Voting Classifier with hard voting\n",
    "hard_voting = VotingClassifier(estimators=estimator, voting='hard')\n",
    "hard_voting.fit(X_train, y_train)\n",
    "y_pred = hard_voting.predict(X_test)"
   ],
   "outputs": [],
   "execution_count": 6
  },
  {
   "cell_type": "code",
   "metadata": {
    "colab": {
     "base_uri": "https://localhost:8080/"
    },
    "id": "KTFCBzgs_EQf",
    "outputId": "631ed461-fcb7-46bc-d25c-68d7a949c31a",
    "trusted": true,
    "ExecuteTime": {
     "end_time": "2025-03-27T05:15:21.307522Z",
     "start_time": "2025-03-27T05:15:21.303959Z"
    }
   },
   "source": [
    "# accuracy_score metric to predict Accuracy\n",
    "score = accuracy_score(y_test, y_pred)\n",
    "print(\"Hard Voting Score % d\" % score)"
   ],
   "outputs": [
    {
     "name": "stdout",
     "output_type": "stream",
     "text": [
      "Hard Voting Score  1\n"
     ]
    }
   ],
   "execution_count": 7
  },
  {
   "attachments": {},
   "cell_type": "markdown",
   "metadata": {
    "id": "Vipy-fg1_EQf"
   },
   "source": [
    "**Soft Voting:** In soft voting, the output class is the prediction based on the average of probability given to that class. Suppose given some input to three models, the prediction probability for class A = (0.30, 0.47, 0.53) and B = (0.20, 0.32, 0.40). So the average for class A is 0.4333 and B is 0.3067, the winner is clearly class A because it had the highest probability averaged by each classifier."
   ]
  },
  {
   "cell_type": "code",
   "metadata": {
    "id": "zourfnMt_EQf",
    "trusted": true,
    "ExecuteTime": {
     "end_time": "2025-03-27T05:15:21.423908Z",
     "start_time": "2025-03-27T05:15:21.393909Z"
    }
   },
   "source": [
    "# Voting Classifier with soft voting\n",
    "soft_voting = VotingClassifier(estimators=estimator, voting='soft')\n",
    "soft_voting.fit(X_train, y_train)\n",
    "y_pred = soft_voting.predict(X_test)"
   ],
   "outputs": [],
   "execution_count": 8
  },
  {
   "cell_type": "code",
   "metadata": {
    "colab": {
     "base_uri": "https://localhost:8080/"
    },
    "id": "qjJnqyZJ_EQg",
    "outputId": "b8f9b19e-590b-4e7a-d48e-69bdbb2dd2a6",
    "trusted": true,
    "ExecuteTime": {
     "end_time": "2025-03-27T05:15:21.528591Z",
     "start_time": "2025-03-27T05:15:21.525212Z"
    }
   },
   "source": [
    "# Using accuracy_score\n",
    "score = accuracy_score(y_test, y_pred)\n",
    "print(\"Soft Voting Score % d\" % score)"
   ],
   "outputs": [
    {
     "name": "stdout",
     "output_type": "stream",
     "text": [
      "Soft Voting Score  1\n"
     ]
    }
   ],
   "execution_count": 9
  },
  {
   "attachments": {},
   "cell_type": "markdown",
   "metadata": {
    "id": "eBFNZ4SC_EQg"
   },
   "source": [
    "In practical the output accuracy will be more for soft voting as it is the average probability of the all estimators combined, as for our basic iris dataset we are already overfitting, so there won’t be much difference in output.\n",
    "\n",
    "## 2.2 Averaging <a id=\"2.2\"></a> <br>\n",
    "\n",
    "Multiple predictions are made for each data point in averaging. In this method, we take an average of predictions from all the models and use it to make the final prediction. Averaging can be used for making predictions in regression problems or while calculating probabilities for classification problems.\n",
    "\n",
    "The simplest way to develop a model averaging ensemble in Keras is to train multiple models on the same dataset then combine the predictions from each of the trained models.\n",
    "\n",
    "We will use a small multi-class classification problem as the basis to demonstrate a model averaging ensemble.\n",
    "\n",
    "The scikit-learn class provides the make_blobs() function that can be used to create a multi-class classification problem with the prescribed number of samples, input variables, classes, and variance of samples within a class.\n",
    "\n",
    "We use this problem with 500 examples, with input variables to represent the x and y coordinates of the points and a standard deviation of 2.0 for points within each group. We will use the same random state to ensure that we always get the same 500 points."
   ]
  },
  {
   "cell_type": "code",
   "metadata": {
    "id": "Deag5-RC_EQg",
    "trusted": true,
    "ExecuteTime": {
     "end_time": "2025-03-27T05:15:21.580086Z",
     "start_time": "2025-03-27T05:15:21.577787Z"
    }
   },
   "source": [
    "from sklearn.datasets import make_blobs\n",
    "from matplotlib import pyplot\n",
    "from pandas import DataFrame"
   ],
   "outputs": [],
   "execution_count": 10
  },
  {
   "cell_type": "code",
   "metadata": {
    "id": "pDryN-TQ_EQg",
    "trusted": true,
    "ExecuteTime": {
     "end_time": "2025-03-27T05:15:21.697435Z",
     "start_time": "2025-03-27T05:15:21.690571Z"
    }
   },
   "source": [
    "# generate 2d classification dataset\n",
    "X, y = make_blobs(n_samples=500, centers=3, n_features=2, cluster_std=2, random_state=2)"
   ],
   "outputs": [],
   "execution_count": 11
  },
  {
   "cell_type": "code",
   "metadata": {
    "colab": {
     "base_uri": "https://localhost:8080/",
     "height": 449
    },
    "id": "3LnxP9gv_EQg",
    "outputId": "6438af45-1a4d-4ddd-8d82-fff2df6bdf1b",
    "trusted": true,
    "ExecuteTime": {
     "end_time": "2025-03-27T05:15:21.915198Z",
     "start_time": "2025-03-27T05:15:21.755675Z"
    }
   },
   "source": [
    "# scatter plot, dots colored by class value\n",
    "df = DataFrame(dict(x=X[:, 0], y=X[:, 1], label=y))\n",
    "colors = {0: 'red', 1: 'blue', 2: 'green'}\n",
    "fig, ax = pyplot.subplots()\n",
    "grouped = df.groupby('label')\n",
    "for key, group in grouped:\n",
    "    group.plot(ax=ax, kind='scatter', x='x', y='y', label=key, color=colors[key])\n",
    "pyplot.show()"
   ],
   "outputs": [
    {
     "data": {
      "text/plain": [
       "<Figure size 640x480 with 1 Axes>"
      ],
      "image/png": "[encoded data removed]"
     },
     "metadata": {},
     "output_type": "display_data"
    }
   ],
   "execution_count": 12
  },
  {
   "attachments": {},
   "cell_type": "markdown",
   "metadata": {
    "id": "p9gTkJYK_EQg"
   },
   "source": [
    "We can see that the standard deviation of 2.0 means that the classes are not linearly separable (separable by a line) causing many ambiguous points.\n",
    "\n",
    "**So in summary for every instance of test dataset, the average predictions are calculated. This method often reduces overfit and creates a smoother regression model.**\n",
    "\n",
    "## 2.3 Weighted Averaging <a id=\"2.3\"></a> <br>\n",
    "This is an extension of the averaging method. All models are assigned different weights defining the importance of each model for prediction.\n",
    "![](https://www.analyticsvidhya.com/wp-content/uploads/2015/08/Screen-Shot-2015-08-22-at-6.40.37-pm.png)\n",
    "\n",
    "For this we will use the housing prices dataset to demonstrate as shown below\n",
    "\n",
    "Firstly import the libraries & data"
   ]
  },
  {
   "cell_type": "code",
   "metadata": {
    "colab": {
     "base_uri": "https://localhost:8080/"
    },
    "id": "EguRT8_dDcti",
    "outputId": "44d538ba-243a-4e76-887b-596952011c61",
    "ExecuteTime": {
     "end_time": "2025-03-27T05:15:21.918660Z",
     "start_time": "2025-03-27T05:15:21.916855Z"
    }
   },
   "source": [
    "# from google.colab import drive\n",
    "# \n",
    "# drive.mount('/content/drive')\n"
   ],
   "outputs": [],
   "execution_count": 13
  },
  {
   "cell_type": "code",
   "metadata": {
    "colab": {
     "base_uri": "https://localhost:8080/"
    },
    "id": "rDfU0GmjEyZz",
    "outputId": "bf07f61a-119c-49b2-b579-8c17ff6b33d9",
    "ExecuteTime": {
     "end_time": "2025-03-27T05:15:21.920963Z",
     "start_time": "2025-03-27T05:15:21.919445Z"
    }
   },
   "source": [
    "# 查看根目录\n",
    "# os.listdir('/content/drive/MyDrive')"
   ],
   "outputs": [],
   "execution_count": 14
  },
  {
   "cell_type": "code",
   "metadata": {
    "id": "nbJ-qOo2Ec-Q",
    "ExecuteTime": {
     "end_time": "2025-03-27T05:15:21.972247Z",
     "start_time": "2025-03-27T05:15:21.945180Z"
    }
   },
   "source": [
    "#使用本地的数据\n",
    "train = pd.read_csv('./train.csv', na_values='#NAME?')\n",
    "test = pd.read_csv('./test.csv', na_values='#NAME?')"
   ],
   "outputs": [],
   "execution_count": 15
  },
  {
   "attachments": {},
   "cell_type": "markdown",
   "metadata": {
    "id": "7i4qJ2ZS_EQh"
   },
   "source": [
    "    Based on the distribution of data let us remove some of the outliers"
   ]
  },
  {
   "cell_type": "code",
   "metadata": {
    "id": "PehostzL_EQh",
    "trusted": true,
    "ExecuteTime": {
     "end_time": "2025-03-27T05:15:21.993981Z",
     "start_time": "2025-03-27T05:15:21.989399Z"
    }
   },
   "source": "train.drop(train[(train['GrLivArea'] > 4000) & (train['SalePrice'] < 300000)].index, inplace=True)",
   "outputs": [],
   "execution_count": 16
  },
  {
   "attachments": {},
   "cell_type": "markdown",
   "metadata": {
    "id": "2fKBt3s2_EQh"
   },
   "source": [
    "Let us concatenate both the training and test datasets into a single dataframe for ease of data cleaning and feature engineering.'Id' feature has no significance to our modelling since it is a continuous variable ,so dropping this feature on both train and test datasets."
   ]
  },
  {
   "cell_type": "code",
   "metadata": {
    "colab": {
     "base_uri": "https://localhost:8080/"
    },
    "id": "4PkZ8VL6_EQh",
    "outputId": "751c78bb-5a79-4a45-c824-4421224d10f9",
    "trusted": true,
    "ExecuteTime": {
     "end_time": "2025-03-27T05:15:22.220786Z",
     "start_time": "2025-03-27T05:15:22.211305Z"
    }
   },
   "source": [
    "full = pd.concat([train, test], ignore_index=True)\n",
    "full.drop('Id', axis=1, inplace=True)\n",
    "full.shape"
   ],
   "outputs": [
    {
     "data": {
      "text/plain": [
       "(2917, 80)"
      ]
     },
     "execution_count": 17,
     "metadata": {},
     "output_type": "execute_result"
    }
   ],
   "execution_count": 17
  },
  {
   "attachments": {},
   "cell_type": "markdown",
   "metadata": {
    "id": "lksJb5x9_EQh"
   },
   "source": [
    "Now let us preprocess the data by doing some missing values treatment"
   ]
  },
  {
   "cell_type": "code",
   "metadata": {
    "colab": {
     "base_uri": "https://localhost:8080/",
     "height": 1000
    },
    "id": "upS6SoCf_EQh",
    "outputId": "14dc5d25-2c75-4a95-cab5-977d732224b7",
    "trusted": true,
    "ExecuteTime": {
     "end_time": "2025-03-27T05:15:22.396066Z",
     "start_time": "2025-03-27T05:15:22.375636Z"
    }
   },
   "source": [
    "missing_values = full.isnull().sum()\n",
    "missing_values[missing_values > 0].sort_values(ascending=False)"
   ],
   "outputs": [
    {
     "data": {
      "text/plain": [
       "PoolQC          2908\n",
       "MiscFeature     2812\n",
       "Alley           2719\n",
       "Fence           2346\n",
       "SalePrice       1459\n",
       "FireplaceQu     1420\n",
       "LotFrontage      486\n",
       "GarageCond       159\n",
       "GarageYrBlt      159\n",
       "GarageFinish     159\n",
       "GarageQual       159\n",
       "GarageType       157\n",
       "BsmtExposure      82\n",
       "BsmtCond          82\n",
       "BsmtQual          81\n",
       "BsmtFinType2      80\n",
       "BsmtFinType1      79\n",
       "MasVnrType        24\n",
       "MasVnrArea        23\n",
       "MSZoning           4\n",
       "Functional         2\n",
       "BsmtHalfBath       2\n",
       "BsmtFullBath       2\n",
       "Utilities          2\n",
       "KitchenQual        1\n",
       "TotalBsmtSF        1\n",
       "BsmtUnfSF          1\n",
       "GarageCars         1\n",
       "GarageArea         1\n",
       "BsmtFinSF2         1\n",
       "BsmtFinSF1         1\n",
       "Exterior2nd        1\n",
       "Exterior1st        1\n",
       "SaleType           1\n",
       "Electrical         1\n",
       "dtype: int64"
      ]
     },
     "execution_count": 18,
     "metadata": {},
     "output_type": "execute_result"
    }
   ],
   "execution_count": 18
  },
  {
   "attachments": {},
   "cell_type": "markdown",
   "metadata": {
    "id": "XTbUv907_EQh"
   },
   "source": [
    "let us impute the missing values of LotFrontage based on the median of LotArea and Neighborhood. To achieve this let us first group Neighborhood and LotFrontage with respect to median,mean and count.(LotFrontage means the width of the road connected to property.)"
   ]
  },
  {
   "cell_type": "code",
   "metadata": {
    "colab": {
     "base_uri": "https://localhost:8080/",
     "height": 896
    },
    "id": "hIz5JjzX_EQh",
    "outputId": "ed578e62-956d-4a78-9c1b-649d15bb987b",
    "trusted": true,
    "ExecuteTime": {
     "end_time": "2025-03-27T05:15:22.454613Z",
     "start_time": "2025-03-27T05:15:22.437183Z"
    }
   },
   "source": "full.groupby(['Neighborhood'])[['LotFrontage']].agg(['mean', 'median', 'count'])",
   "outputs": [
    {
     "data": {
      "text/plain": [
       "             LotFrontage             \n",
       "                    mean median count\n",
       "Neighborhood                         \n",
       "Blmngtn        46.900000   43.0    20\n",
       "Blueste        27.300000   24.0    10\n",
       "BrDale         21.500000   21.0    30\n",
       "BrkSide        55.789474   51.0    95\n",
       "ClearCr        88.150000   80.5    20\n",
       "CollgCr        71.336364   70.0   220\n",
       "Crawfor        69.951807   70.0    83\n",
       "Edwards        65.153409   64.5   176\n",
       "Gilbert        74.207207   64.0   111\n",
       "IDOTRR         62.241379   60.0    87\n",
       "MeadowV        25.606061   21.0    33\n",
       "Mitchel        75.144444   74.0    90\n",
       "NAmes          75.210667   73.0   375\n",
       "NPkVill        28.142857   24.0    21\n",
       "NWAmes         81.517647   80.0    85\n",
       "NoRidge        91.629630   89.0    54\n",
       "NridgHt        84.184049   92.0   163\n",
       "OldTown        61.777293   60.0   229\n",
       "SWISU          59.068182   60.0    44\n",
       "Sawyer         74.551020   72.0    98\n",
       "SawyerW        70.669811   67.0   106\n",
       "Somerst        64.549383   72.5   162\n",
       "StoneBr        62.173913   60.0    46\n",
       "Timber         81.157895   82.0    57\n",
       "Veenker        72.000000   80.0    16"
      ],
      "text/html": [
       "<div>\n",
       "<style scoped>\n",
       "    .dataframe tbody tr th:only-of-type {\n",
       "        vertical-align: middle;\n",
       "    }\n",
       "\n",
       "    .dataframe tbody tr th {\n",
       "        vertical-align: top;\n",
       "    }\n",
       "\n",
       "    .dataframe thead tr th {\n",
       "        text-align: left;\n",
       "    }\n",
       "\n",
       "    .dataframe thead tr:last-of-type th {\n",
       "        text-align: right;\n",
       "    }\n",
       "</style>\n",
       "<table border=\"1\" class=\"dataframe\">\n",
       "  <thead>\n",
       "    <tr>\n",
       "      <th></th>\n",
       "      <th colspan=\"3\" halign=\"left\">LotFrontage</th>\n",
       "    </tr>\n",
       "    <tr>\n",
       "      <th></th>\n",
       "      <th>mean</th>\n",
       "      <th>median</th>\n",
       "      <th>count</th>\n",
       "    </tr>\n",
       "    <tr>\n",
       "      <th>Neighborhood</th>\n",
       "      <th></th>\n",
       "      <th></th>\n",
       "      <th></th>\n",
       "    </tr>\n",
       "  </thead>\n",
       "  <tbody>\n",
       "    <tr>\n",
       "      <th>Blmngtn</th>\n",
       "      <td>46.900000</td>\n",
       "      <td>43.0</td>\n",
       "      <td>20</td>\n",
       "    </tr>\n",
       "    <tr>\n",
       "      <th>Blueste</th>\n",
       "      <td>27.300000</td>\n",
       "      <td>24.0</td>\n",
       "      <td>10</td>\n",
       "    </tr>\n",
       "    <tr>\n",
       "      <th>BrDale</th>\n",
       "      <td>21.500000</td>\n",
       "      <td>21.0</td>\n",
       "      <td>30</td>\n",
       "    </tr>\n",
       "    <tr>\n",
       "      <th>BrkSide</th>\n",
       "      <td>55.789474</td>\n",
       "      <td>51.0</td>\n",
       "      <td>95</td>\n",
       "    </tr>\n",
       "    <tr>\n",
       "      <th>ClearCr</th>\n",
       "      <td>88.150000</td>\n",
       "      <td>80.5</td>\n",
       "      <td>20</td>\n",
       "    </tr>\n",
       "    <tr>\n",
       "      <th>CollgCr</th>\n",
       "      <td>71.336364</td>\n",
       "      <td>70.0</td>\n",
       "      <td>220</td>\n",
       "    </tr>\n",
       "    <tr>\n",
       "      <th>Crawfor</th>\n",
       "      <td>69.951807</td>\n",
       "      <td>70.0</td>\n",
       "      <td>83</td>\n",
       "    </tr>\n",
       "    <tr>\n",
       "      <th>Edwards</th>\n",
       "      <td>65.153409</td>\n",
       "      <td>64.5</td>\n",
       "      <td>176</td>\n",
       "    </tr>\n",
       "    <tr>\n",
       "      <th>Gilbert</th>\n",
       "      <td>74.207207</td>\n",
       "      <td>64.0</td>\n",
       "      <td>111</td>\n",
       "    </tr>\n",
       "    <tr>\n",
       "      <th>IDOTRR</th>\n",
       "      <td>62.241379</td>\n",
       "      <td>60.0</td>\n",
       "      <td>87</td>\n",
       "    </tr>\n",
       "    <tr>\n",
       "      <th>MeadowV</th>\n",
       "      <td>25.606061</td>\n",
       "      <td>21.0</td>\n",
       "      <td>33</td>\n",
       "    </tr>\n",
       "    <tr>\n",
       "      <th>Mitchel</th>\n",
       "      <td>75.144444</td>\n",
       "      <td>74.0</td>\n",
       "      <td>90</td>\n",
       "    </tr>\n",
       "    <tr>\n",
       "      <th>NAmes</th>\n",
       "      <td>75.210667</td>\n",
       "      <td>73.0</td>\n",
       "      <td>375</td>\n",
       "    </tr>\n",
       "    <tr>\n",
       "      <th>NPkVill</th>\n",
       "      <td>28.142857</td>\n",
       "      <td>24.0</td>\n",
       "      <td>21</td>\n",
       "    </tr>\n",
       "    <tr>\n",
       "      <th>NWAmes</th>\n",
       "      <td>81.517647</td>\n",
       "      <td>80.0</td>\n",
       "      <td>85</td>\n",
       "    </tr>\n",
       "    <tr>\n",
       "      <th>NoRidge</th>\n",
       "      <td>91.629630</td>\n",
       "      <td>89.0</td>\n",
       "      <td>54</td>\n",
       "    </tr>\n",
       "    <tr>\n",
       "      <th>NridgHt</th>\n",
       "      <td>84.184049</td>\n",
       "      <td>92.0</td>\n",
       "      <td>163</td>\n",
       "    </tr>\n",
       "    <tr>\n",
       "      <th>OldTown</th>\n",
       "      <td>61.777293</td>\n",
       "      <td>60.0</td>\n",
       "      <td>229</td>\n",
       "    </tr>\n",
       "    <tr>\n",
       "      <th>SWISU</th>\n",
       "      <td>59.068182</td>\n",
       "      <td>60.0</td>\n",
       "      <td>44</td>\n",
       "    </tr>\n",
       "    <tr>\n",
       "      <th>Sawyer</th>\n",
       "      <td>74.551020</td>\n",
       "      <td>72.0</td>\n",
       "      <td>98</td>\n",
       "    </tr>\n",
       "    <tr>\n",
       "      <th>SawyerW</th>\n",
       "      <td>70.669811</td>\n",
       "      <td>67.0</td>\n",
       "      <td>106</td>\n",
       "    </tr>\n",
       "    <tr>\n",
       "      <th>Somerst</th>\n",
       "      <td>64.549383</td>\n",
       "      <td>72.5</td>\n",
       "      <td>162</td>\n",
       "    </tr>\n",
       "    <tr>\n",
       "      <th>StoneBr</th>\n",
       "      <td>62.173913</td>\n",
       "      <td>60.0</td>\n",
       "      <td>46</td>\n",
       "    </tr>\n",
       "    <tr>\n",
       "      <th>Timber</th>\n",
       "      <td>81.157895</td>\n",
       "      <td>82.0</td>\n",
       "      <td>57</td>\n",
       "    </tr>\n",
       "    <tr>\n",
       "      <th>Veenker</th>\n",
       "      <td>72.000000</td>\n",
       "      <td>80.0</td>\n",
       "      <td>16</td>\n",
       "    </tr>\n",
       "  </tbody>\n",
       "</table>\n",
       "</div>"
      ]
     },
     "execution_count": 19,
     "metadata": {},
     "output_type": "execute_result"
    }
   ],
   "execution_count": 19
  },
  {
   "attachments": {},
   "cell_type": "markdown",
   "metadata": {
    "id": "qAbGiA5Q_EQh"
   },
   "source": [
    "LotArea is a continuous feature so it is best to use panda's qcut method to divide it into 10 parts."
   ]
  },
  {
   "cell_type": "code",
   "metadata": {
    "colab": {
     "base_uri": "https://localhost:8080/",
     "height": 425
    },
    "id": "XtatbEC1_EQh",
    "outputId": "bd1aace4-26bc-4cf2-8a1b-da02a78296f8",
    "trusted": true,
    "ExecuteTime": {
     "end_time": "2025-03-27T05:15:22.547436Z",
     "start_time": "2025-03-27T05:15:22.531245Z"
    }
   },
   "source": [
    "full['LotAreaCut'] = pd.qcut(full.LotArea, 10)\n",
    "\n",
    "full.groupby([full['LotAreaCut']])[['LotFrontage']].agg(['mean', 'median', 'count'])"
   ],
   "outputs": [
    {
     "data": {
      "text/plain": [
       "                    LotFrontage             \n",
       "                           mean median count\n",
       "LotAreaCut                                  \n",
       "(1299.999, 4921.8]    35.741036   34.0   251\n",
       "(4921.8, 7007.2]      55.460674   52.0   267\n",
       "(7007.2, 7949.0]      62.959839   62.0   249\n",
       "(7949.0, 8740.4]      67.113725   65.0   255\n",
       "(8740.4, 9452.0]      69.959184   70.0   245\n",
       "(9452.0, 10148.8]     73.988235   75.0   255\n",
       "(10148.8, 11000.0]    73.636364   75.0   253\n",
       "(11000.0, 12196.8]    83.371681   82.0   226\n",
       "(12196.8, 14285.8]    84.973684   85.0   228\n",
       "(14285.8, 215245.0]   92.846535   90.0   202"
      ],
      "text/html": [
       "<div>\n",
       "<style scoped>\n",
       "    .dataframe tbody tr th:only-of-type {\n",
       "        vertical-align: middle;\n",
       "    }\n",
       "\n",
       "    .dataframe tbody tr th {\n",
       "        vertical-align: top;\n",
       "    }\n",
       "\n",
       "    .dataframe thead tr th {\n",
       "        text-align: left;\n",
       "    }\n",
       "\n",
       "    .dataframe thead tr:last-of-type th {\n",
       "        text-align: right;\n",
       "    }\n",
       "</style>\n",
       "<table border=\"1\" class=\"dataframe\">\n",
       "  <thead>\n",
       "    <tr>\n",
       "      <th></th>\n",
       "      <th colspan=\"3\" halign=\"left\">LotFrontage</th>\n",
       "    </tr>\n",
       "    <tr>\n",
       "      <th></th>\n",
       "      <th>mean</th>\n",
       "      <th>median</th>\n",
       "      <th>count</th>\n",
       "    </tr>\n",
       "    <tr>\n",
       "      <th>LotAreaCut</th>\n",
       "      <th></th>\n",
       "      <th></th>\n",
       "      <th></th>\n",
       "    </tr>\n",
       "  </thead>\n",
       "  <tbody>\n",
       "    <tr>\n",
       "      <th>(1299.999, 4921.8]</th>\n",
       "      <td>35.741036</td>\n",
       "      <td>34.0</td>\n",
       "      <td>251</td>\n",
       "    </tr>\n",
       "    <tr>\n",
       "      <th>(4921.8, 7007.2]</th>\n",
       "      <td>55.460674</td>\n",
       "      <td>52.0</td>\n",
       "      <td>267</td>\n",
       "    </tr>\n",
       "    <tr>\n",
       "      <th>(7007.2, 7949.0]</th>\n",
       "      <td>62.959839</td>\n",
       "      <td>62.0</td>\n",
       "      <td>249</td>\n",
       "    </tr>\n",
       "    <tr>\n",
       "      <th>(7949.0, 8740.4]</th>\n",
       "      <td>67.113725</td>\n",
       "      <td>65.0</td>\n",
       "      <td>255</td>\n",
       "    </tr>\n",
       "    <tr>\n",
       "      <th>(8740.4, 9452.0]</th>\n",
       "      <td>69.959184</td>\n",
       "      <td>70.0</td>\n",
       "      <td>245</td>\n",
       "    </tr>\n",
       "    <tr>\n",
       "      <th>(9452.0, 10148.8]</th>\n",
       "      <td>73.988235</td>\n",
       "      <td>75.0</td>\n",
       "      <td>255</td>\n",
       "    </tr>\n",
       "    <tr>\n",
       "      <th>(10148.8, 11000.0]</th>\n",
       "      <td>73.636364</td>\n",
       "      <td>75.0</td>\n",
       "      <td>253</td>\n",
       "    </tr>\n",
       "    <tr>\n",
       "      <th>(11000.0, 12196.8]</th>\n",
       "      <td>83.371681</td>\n",
       "      <td>82.0</td>\n",
       "      <td>226</td>\n",
       "    </tr>\n",
       "    <tr>\n",
       "      <th>(12196.8, 14285.8]</th>\n",
       "      <td>84.973684</td>\n",
       "      <td>85.0</td>\n",
       "      <td>228</td>\n",
       "    </tr>\n",
       "    <tr>\n",
       "      <th>(14285.8, 215245.0]</th>\n",
       "      <td>92.846535</td>\n",
       "      <td>90.0</td>\n",
       "      <td>202</td>\n",
       "    </tr>\n",
       "  </tbody>\n",
       "</table>\n",
       "</div>"
      ]
     },
     "execution_count": 20,
     "metadata": {},
     "output_type": "execute_result"
    }
   ],
   "execution_count": 20
  },
  {
   "attachments": {},
   "cell_type": "markdown",
   "metadata": {
    "id": "ZR_pv6Te_EQi"
   },
   "source": [
    "So let us impute the missing values of LotFrontage as stated above with the median of LotArea and Neighborhood."
   ]
  },
  {
   "cell_type": "code",
   "metadata": {
    "id": "Z3FlZrzb_EQi",
    "trusted": true,
    "ExecuteTime": {
     "end_time": "2025-03-27T05:15:22.718900Z",
     "start_time": "2025-03-27T05:15:22.690735Z"
    }
   },
   "source": [
    "full['LotFrontage'] = full.groupby(['LotAreaCut', 'Neighborhood'])['LotFrontage'].transform(\n",
    "    lambda x: x.fillna(x.median()))\n",
    "full['LotFrontage'] = full.groupby(['LotAreaCut'])['LotFrontage'].transform(lambda x: x.fillna(x.median()))"
   ],
   "outputs": [],
   "execution_count": 21
  },
  {
   "attachments": {},
   "cell_type": "markdown",
   "metadata": {
    "id": "0QxVrPuw_EQi"
   },
   "source": [
    "Now let us recheck the missing values to see our LotFrontage missing values are imputed successfully."
   ]
  },
  {
   "cell_type": "code",
   "metadata": {
    "colab": {
     "base_uri": "https://localhost:8080/",
     "height": 1000
    },
    "id": "iUO4-X0j_EQi",
    "outputId": "8810a817-839c-442f-9140-7bf605813ffa",
    "trusted": true,
    "ExecuteTime": {
     "end_time": "2025-03-27T05:15:22.891510Z",
     "start_time": "2025-03-27T05:15:22.873183Z"
    }
   },
   "source": [
    "missing_values = full.isnull().sum()\n",
    "\n",
    "missing_values[missing_values > 0].sort_values(ascending=False)"
   ],
   "outputs": [
    {
     "data": {
      "text/plain": [
       "PoolQC          2908\n",
       "MiscFeature     2812\n",
       "Alley           2719\n",
       "Fence           2346\n",
       "SalePrice       1459\n",
       "FireplaceQu     1420\n",
       "GarageCond       159\n",
       "GarageQual       159\n",
       "GarageFinish     159\n",
       "GarageYrBlt      159\n",
       "GarageType       157\n",
       "BsmtCond          82\n",
       "BsmtExposure      82\n",
       "BsmtQual          81\n",
       "BsmtFinType2      80\n",
       "BsmtFinType1      79\n",
       "MasVnrType        24\n",
       "MasVnrArea        23\n",
       "MSZoning           4\n",
       "Functional         2\n",
       "BsmtHalfBath       2\n",
       "Utilities          2\n",
       "BsmtFullBath       2\n",
       "KitchenQual        1\n",
       "Electrical         1\n",
       "TotalBsmtSF        1\n",
       "BsmtUnfSF          1\n",
       "GarageCars         1\n",
       "GarageArea         1\n",
       "BsmtFinSF2         1\n",
       "BsmtFinSF1         1\n",
       "Exterior2nd        1\n",
       "Exterior1st        1\n",
       "SaleType           1\n",
       "dtype: int64"
      ]
     },
     "execution_count": 22,
     "metadata": {},
     "output_type": "execute_result"
    }
   ],
   "execution_count": 22
  },
  {
   "attachments": {},
   "cell_type": "markdown",
   "metadata": {
    "id": "uD70GKsj_EQi"
   },
   "source": [
    "Now let us focus on numerical features with one missing value and replace them with 0"
   ]
  },
  {
   "cell_type": "code",
   "metadata": {
    "id": "o7F-_VmK_EQi",
    "trusted": true,
    "ExecuteTime": {
     "end_time": "2025-03-27T05:15:23.105866Z",
     "start_time": "2025-03-27T05:15:23.101875Z"
    }
   },
   "source": [
    "columns = [\"MasVnrArea\", \"BsmtUnfSF\", \"TotalBsmtSF\", \"GarageCars\", \"BsmtFinSF2\", \"BsmtFinSF1\", \"GarageArea\"]\n",
    "for col in columns: full[col].fillna(0, inplace=True)"
   ],
   "outputs": [],
   "execution_count": 23
  },
  {
   "attachments": {},
   "cell_type": "markdown",
   "metadata": {
    "id": "X_maBmjk_EQi"
   },
   "source": [
    "Now let us focus on some of the categorical features with major count of missing values and replace them with 'None'"
   ]
  },
  {
   "cell_type": "code",
   "metadata": {
    "id": "b55_VWjL_EQi",
    "trusted": true,
    "ExecuteTime": {
     "end_time": "2025-03-27T05:15:23.382097Z",
     "start_time": "2025-03-27T05:15:23.374455Z"
    }
   },
   "source": [
    "columns1 = [\"PoolQC\", \"MiscFeature\", \"Alley\", \"Fence\", \"FireplaceQu\", \"GarageQual\", \"GarageCond\", \"GarageFinish\",\n",
    "            \"GarageYrBlt\", \"GarageType\", \"BsmtExposure\", \"BsmtCond\", \"BsmtQual\", \"BsmtFinType2\", \"BsmtFinType1\",\n",
    "            \"MasVnrType\"]\n",
    "for col1 in columns1: full[col1].fillna('None', inplace=True)"
   ],
   "outputs": [],
   "execution_count": 24
  },
  {
   "attachments": {},
   "cell_type": "markdown",
   "metadata": {
    "id": "NlP4OpOF_EQi"
   },
   "source": [
    "Now let us focus on some of the categorical features with fewer missing values and replace them with the most frequently occured value which is the mode of that feature."
   ]
  },
  {
   "cell_type": "code",
   "metadata": {
    "id": "Rr2zTCX1_EQi",
    "trusted": true,
    "ExecuteTime": {
     "end_time": "2025-03-27T05:15:23.510414Z",
     "start_time": "2025-03-27T05:15:23.501710Z"
    }
   },
   "source": [
    "columns2 = [\"MSZoning\", \"BsmtFullBath\", \"BsmtHalfBath\", \"Utilities\", \"Functional\",\n",
    "            \"Electrical\", \"KitchenQual\", \"SaleType\", \"Exterior1st\", \"Exterior2nd\"]\n",
    "\n",
    "for col2 in columns2:\n",
    "    full[col2].fillna(full[col2].mode()[0], inplace=True)"
   ],
   "outputs": [],
   "execution_count": 25
  },
  {
   "attachments": {},
   "cell_type": "markdown",
   "metadata": {
    "id": "wnIuQhqz_EQj"
   },
   "source": [
    "Now let us recheck if we have any other missing values that needs to be imputed except the SalePrice for the test dataset which is the target variable to be determined."
   ]
  },
  {
   "cell_type": "code",
   "metadata": {
    "colab": {
     "base_uri": "https://localhost:8080/",
     "height": 115
    },
    "id": "XQdgEpXC_EQj",
    "outputId": "17576712-54aa-4309-90f0-548050f80786",
    "trusted": true,
    "ExecuteTime": {
     "end_time": "2025-03-27T05:15:23.639076Z",
     "start_time": "2025-03-27T05:15:23.608434Z"
    }
   },
   "source": "full.isnull().sum()[full.isnull().sum() > 0]",
   "outputs": [
    {
     "data": {
      "text/plain": [
       "SalePrice    1459\n",
       "dtype: int64"
      ]
     },
     "execution_count": 26,
     "metadata": {},
     "output_type": "execute_result"
    }
   ],
   "execution_count": 26
  },
  {
   "cell_type": "code",
   "metadata": {
    "colab": {
     "base_uri": "https://localhost:8080/"
    },
    "id": "u7csGMoB_EQm",
    "outputId": "bef48ccc-1b57-467d-b8a8-80f4d3a321ff",
    "trusted": true,
    "ExecuteTime": {
     "end_time": "2025-03-27T05:15:23.732851Z",
     "start_time": "2025-03-27T05:15:23.727463Z"
    }
   },
   "source": [
    "numeric_features = full.select_dtypes(include=[np.number])\n",
    "numeric_features.columns"
   ],
   "outputs": [
    {
     "data": {
      "text/plain": [
       "Index(['MSSubClass', 'LotFrontage', 'LotArea', 'OverallQual', 'OverallCond',\n",
       "       'YearBuilt', 'YearRemodAdd', 'MasVnrArea', 'BsmtFinSF1', 'BsmtFinSF2',\n",
       "       'BsmtUnfSF', 'TotalBsmtSF', '1stFlrSF', '2ndFlrSF', 'LowQualFinSF',\n",
       "       'GrLivArea', 'BsmtFullBath', 'BsmtHalfBath', 'FullBath', 'HalfBath',\n",
       "       'BedroomAbvGr', 'KitchenAbvGr', 'TotRmsAbvGrd', 'Fireplaces',\n",
       "       'GarageCars', 'GarageArea', 'WoodDeckSF', 'OpenPorchSF',\n",
       "       'EnclosedPorch', '3SsnPorch', 'ScreenPorch', 'PoolArea', 'MiscVal',\n",
       "       'MoSold', 'YrSold', 'SalePrice'],\n",
       "      dtype='object')"
      ]
     },
     "execution_count": 27,
     "metadata": {},
     "output_type": "execute_result"
    }
   ],
   "execution_count": 27
  },
  {
   "cell_type": "code",
   "metadata": {
    "id": "kCpq7xho_EQm",
    "trusted": true,
    "ExecuteTime": {
     "end_time": "2025-03-27T05:15:23.795886Z",
     "start_time": "2025-03-27T05:15:23.776531Z"
    }
   },
   "source": [
    "Numstr = [\"MSSubClass\", \"BsmtFullBath\", \"BsmtHalfBath\", \"HalfBath\", \"BedroomAbvGr\", \"KitchenAbvGr\", \"MoSold\",\n",
    "          \"YrSold\", \"YearBuilt\", \"YearRemodAdd\", \"LowQualFinSF\", \"GarageYrBlt\"]\n",
    "\n",
    "for i in Numstr:\n",
    "    full[i] = full[i].astype(str)"
   ],
   "outputs": [],
   "execution_count": 28
  },
  {
   "cell_type": "code",
   "metadata": {
    "colab": {
     "base_uri": "https://localhost:8080/",
     "height": 613
    },
    "id": "PFLKlRM5_EQm",
    "outputId": "2fd1e9bd-ac90-4871-f560-4ad0e2cc6be1",
    "trusted": true,
    "ExecuteTime": {
     "end_time": "2025-03-27T05:15:23.920158Z",
     "start_time": "2025-03-27T05:15:23.908941Z"
    }
   },
   "source": "full.groupby(['MSSubClass'])[['SalePrice']].agg(['mean', 'median', 'count'])",
   "outputs": [
    {
     "data": {
      "text/plain": [
       "                SalePrice                \n",
       "                     mean    median count\n",
       "MSSubClass                               \n",
       "120         200779.080460  192000.0    87\n",
       "150                   NaN       NaN     0\n",
       "160         138647.380952  146000.0    63\n",
       "180         102300.000000   88500.0    10\n",
       "190         129613.333333  128250.0    30\n",
       "20          185224.811567  159250.0   536\n",
       "30           95829.724638   99900.0    69\n",
       "40          156125.000000  142500.0     4\n",
       "45          108591.666667  107500.0    12\n",
       "50          143302.972222  132000.0   144\n",
       "60          240403.542088  216000.0   297\n",
       "70          166772.416667  156000.0    60\n",
       "75          192437.500000  163500.0    16\n",
       "80          169736.551724  166500.0    58\n",
       "85          147810.000000  140750.0    20\n",
       "90          133541.076923  135980.0    52"
      ],
      "text/html": [
       "<div>\n",
       "<style scoped>\n",
       "    .dataframe tbody tr th:only-of-type {\n",
       "        vertical-align: middle;\n",
       "    }\n",
       "\n",
       "    .dataframe tbody tr th {\n",
       "        vertical-align: top;\n",
       "    }\n",
       "\n",
       "    .dataframe thead tr th {\n",
       "        text-align: left;\n",
       "    }\n",
       "\n",
       "    .dataframe thead tr:last-of-type th {\n",
       "        text-align: right;\n",
       "    }\n",
       "</style>\n",
       "<table border=\"1\" class=\"dataframe\">\n",
       "  <thead>\n",
       "    <tr>\n",
       "      <th></th>\n",
       "      <th colspan=\"3\" halign=\"left\">SalePrice</th>\n",
       "    </tr>\n",
       "    <tr>\n",
       "      <th></th>\n",
       "      <th>mean</th>\n",
       "      <th>median</th>\n",
       "      <th>count</th>\n",
       "    </tr>\n",
       "    <tr>\n",
       "      <th>MSSubClass</th>\n",
       "      <th></th>\n",
       "      <th></th>\n",
       "      <th></th>\n",
       "    </tr>\n",
       "  </thead>\n",
       "  <tbody>\n",
       "    <tr>\n",
       "      <th>120</th>\n",
       "      <td>200779.080460</td>\n",
       "      <td>192000.0</td>\n",
       "      <td>87</td>\n",
       "    </tr>\n",
       "    <tr>\n",
       "      <th>150</th>\n",
       "      <td>NaN</td>\n",
       "      <td>NaN</td>\n",
       "      <td>0</td>\n",
       "    </tr>\n",
       "    <tr>\n",
       "      <th>160</th>\n",
       "      <td>138647.380952</td>\n",
       "      <td>146000.0</td>\n",
       "      <td>63</td>\n",
       "    </tr>\n",
       "    <tr>\n",
       "      <th>180</th>\n",
       "      <td>102300.000000</td>\n",
       "      <td>88500.0</td>\n",
       "      <td>10</td>\n",
       "    </tr>\n",
       "    <tr>\n",
       "      <th>190</th>\n",
       "      <td>129613.333333</td>\n",
       "      <td>128250.0</td>\n",
       "      <td>30</td>\n",
       "    </tr>\n",
       "    <tr>\n",
       "      <th>20</th>\n",
       "      <td>185224.811567</td>\n",
       "      <td>159250.0</td>\n",
       "      <td>536</td>\n",
       "    </tr>\n",
       "    <tr>\n",
       "      <th>30</th>\n",
       "      <td>95829.724638</td>\n",
       "      <td>99900.0</td>\n",
       "      <td>69</td>\n",
       "    </tr>\n",
       "    <tr>\n",
       "      <th>40</th>\n",
       "      <td>156125.000000</td>\n",
       "      <td>142500.0</td>\n",
       "      <td>4</td>\n",
       "    </tr>\n",
       "    <tr>\n",
       "      <th>45</th>\n",
       "      <td>108591.666667</td>\n",
       "      <td>107500.0</td>\n",
       "      <td>12</td>\n",
       "    </tr>\n",
       "    <tr>\n",
       "      <th>50</th>\n",
       "      <td>143302.972222</td>\n",
       "      <td>132000.0</td>\n",
       "      <td>144</td>\n",
       "    </tr>\n",
       "    <tr>\n",
       "      <th>60</th>\n",
       "      <td>240403.542088</td>\n",
       "      <td>216000.0</td>\n",
       "      <td>297</td>\n",
       "    </tr>\n",
       "    <tr>\n",
       "      <th>70</th>\n",
       "      <td>166772.416667</td>\n",
       "      <td>156000.0</td>\n",
       "      <td>60</td>\n",
       "    </tr>\n",
       "    <tr>\n",
       "      <th>75</th>\n",
       "      <td>192437.500000</td>\n",
       "      <td>163500.0</td>\n",
       "      <td>16</td>\n",
       "    </tr>\n",
       "    <tr>\n",
       "      <th>80</th>\n",
       "      <td>169736.551724</td>\n",
       "      <td>166500.0</td>\n",
       "      <td>58</td>\n",
       "    </tr>\n",
       "    <tr>\n",
       "      <th>85</th>\n",
       "      <td>147810.000000</td>\n",
       "      <td>140750.0</td>\n",
       "      <td>20</td>\n",
       "    </tr>\n",
       "    <tr>\n",
       "      <th>90</th>\n",
       "      <td>133541.076923</td>\n",
       "      <td>135980.0</td>\n",
       "      <td>52</td>\n",
       "    </tr>\n",
       "  </tbody>\n",
       "</table>\n",
       "</div>"
      ]
     },
     "execution_count": 29,
     "metadata": {},
     "output_type": "execute_result"
    }
   ],
   "execution_count": 29
  },
  {
   "cell_type": "code",
   "metadata": {
    "id": "25Bv4saL_EQm",
    "trusted": true,
    "ExecuteTime": {
     "end_time": "2025-03-27T05:15:24.014036Z",
     "start_time": "2025-03-27T05:15:24.003500Z"
    }
   },
   "source": [
    "def map_values():\n",
    "    full[\"oMSSubClass\"] = full.MSSubClass.map({'180': 1,\n",
    "                                               '30': 2, '45': 2,\n",
    "                                               '190': 3, '50': 3, '90': 3,\n",
    "                                               '85': 4, '40': 4, '160': 4,\n",
    "                                               '70': 5, '20': 5, '75': 5, '80': 5, '150': 5,\n",
    "                                               '120': 6, '60': 6})\n",
    "\n",
    "    full[\"oMSZoning\"] = full.MSZoning.map({'C (all)': 1, 'RH': 2, 'RM': 2, 'RL': 3, 'FV': 4})\n",
    "    full[\"oNeighborhood\"] = full.Neighborhood.map({'MeadowV': 1,\n",
    "                                                   'IDOTRR': 2, 'BrDale': 2,\n",
    "                                                   'OldTown': 3, 'Edwards': 3, 'BrkSide': 3,\n",
    "                                                   'Sawyer': 4, 'Blueste': 4, 'SWISU': 4, 'NAmes': 4,\n",
    "                                                   'NPkVill': 5, 'Mitchel': 5,\n",
    "                                                   'SawyerW': 6, 'Gilbert': 6, 'NWAmes': 6,\n",
    "                                                   'Blmngtn': 7, 'CollgCr': 7, 'ClearCr': 7, 'Crawfor': 7,\n",
    "                                                   'Veenker': 8, 'Somerst': 8, 'Timber': 8,\n",
    "                                                   'StoneBr': 9,\n",
    "                                                   'NoRidge': 10, 'NridgHt': 10})\n",
    "\n",
    "    full[\"oCondition1\"] = full.Condition1.map({'Artery': 1,\n",
    "                                               'Feedr': 2, 'RRAe': 2,\n",
    "                                               'Norm': 3, 'RRAn': 3,\n",
    "                                               'PosN': 4, 'RRNe': 4,\n",
    "                                               'PosA': 5, 'RRNn': 5})\n",
    "\n",
    "    full[\"oBldgType\"] = full.BldgType.map({'2fmCon': 1, 'Duplex': 1, 'Twnhs': 1, '1Fam': 2, 'TwnhsE': 2})\n",
    "\n",
    "    full[\"oHouseStyle\"] = full.HouseStyle.map({'1.5Unf': 1,\n",
    "                                               '1.5Fin': 2, '2.5Unf': 2, 'SFoyer': 2,\n",
    "                                               '1Story': 3, 'SLvl': 3,\n",
    "                                               '2Story': 4, '2.5Fin': 4})\n",
    "\n",
    "    full[\"oExterior1st\"] = full.Exterior1st.map({'BrkComm': 1,\n",
    "                                                 'AsphShn': 2, 'CBlock': 2, 'AsbShng': 2,\n",
    "                                                 'WdShing': 3, 'Wd Sdng': 3, 'MetalSd': 3, 'Stucco': 3, 'HdBoard': 3,\n",
    "                                                 'BrkFace': 4, 'Plywood': 4,\n",
    "                                                 'VinylSd': 5,\n",
    "                                                 'CemntBd': 6,\n",
    "                                                 'Stone': 7, 'ImStucc': 7})\n",
    "\n",
    "    full[\"oMasVnrType\"] = full.MasVnrType.map({'BrkCmn': 1, 'None': 1, 'BrkFace': 2, 'Stone': 3})\n",
    "\n",
    "    full[\"oExterQual\"] = full.ExterQual.map({'Fa': 1, 'TA': 2, 'Gd': 3, 'Ex': 4})\n",
    "\n",
    "    full[\"oFoundation\"] = full.Foundation.map({'Slab': 1,\n",
    "                                               'BrkTil': 2, 'CBlock': 2, 'Stone': 2,\n",
    "                                               'Wood': 3, 'PConc': 4})\n",
    "\n",
    "    full[\"oBsmtQual\"] = full.BsmtQual.map({'Fa': 2, 'None': 1, 'TA': 3, 'Gd': 4, 'Ex': 5})\n",
    "\n",
    "    full[\"oBsmtExposure\"] = full.BsmtExposure.map({'None': 1, 'No': 2, 'Av': 3, 'Mn': 3, 'Gd': 4})\n",
    "\n",
    "    full[\"oHeating\"] = full.Heating.map({'Floor': 1, 'Grav': 1, 'Wall': 2, 'OthW': 3, 'GasW': 4, 'GasA': 5})\n",
    "\n",
    "    full[\"oHeatingQC\"] = full.HeatingQC.map({'Po': 1, 'Fa': 2, 'TA': 3, 'Gd': 4, 'Ex': 5})\n",
    "\n",
    "    full[\"oKitchenQual\"] = full.KitchenQual.map({'Fa': 1, 'TA': 2, 'Gd': 3, 'Ex': 4})\n",
    "\n",
    "    full[\"oFunctional\"] = full.Functional.map(\n",
    "        {'Maj2': 1, 'Maj1': 2, 'Min1': 2, 'Min2': 2, 'Mod': 2, 'Sev': 2, 'Typ': 3})\n",
    "\n",
    "    full[\"oFireplaceQu\"] = full.FireplaceQu.map({'None': 1, 'Po': 1, 'Fa': 2, 'TA': 3, 'Gd': 4, 'Ex': 5})\n",
    "\n",
    "    full[\"oGarageType\"] = full.GarageType.map({'CarPort': 1, 'None': 1,\n",
    "                                               'Detchd': 2,\n",
    "                                               '2Types': 3, 'Basment': 3,\n",
    "                                               'Attchd': 4, 'BuiltIn': 5})\n",
    "\n",
    "    full[\"oGarageFinish\"] = full.GarageFinish.map({'None': 1, 'Unf': 2, 'RFn': 3, 'Fin': 4})\n",
    "\n",
    "    full[\"oPavedDrive\"] = full.PavedDrive.map({'N': 1, 'P': 2, 'Y': 3})\n",
    "\n",
    "    full[\"oSaleType\"] = full.SaleType.map({'COD': 1, 'ConLD': 1, 'ConLI': 1, 'ConLw': 1, 'Oth': 1, 'WD': 1,\n",
    "                                           'CWD': 2, 'Con': 3, 'New': 3})\n",
    "\n",
    "    full[\"oSaleCondition\"] = full.SaleCondition.map(\n",
    "        {'AdjLand': 1, 'Abnorml': 2, 'Alloca': 2, 'Family': 2, 'Normal': 3, 'Partial': 4})\n",
    "\n",
    "    return \"Done!\"\n"
   ],
   "outputs": [],
   "execution_count": 30
  },
  {
   "cell_type": "code",
   "metadata": {
    "colab": {
     "base_uri": "https://localhost:8080/",
     "height": 35
    },
    "id": "OudhkCx7_EQn",
    "outputId": "b795a619-cd97-4f54-eb6d-b1ffdb2f3a1c",
    "trusted": true,
    "ExecuteTime": {
     "end_time": "2025-03-27T05:15:24.122706Z",
     "start_time": "2025-03-27T05:15:24.106901Z"
    }
   },
   "source": [
    "map_values()"
   ],
   "outputs": [
    {
     "data": {
      "text/plain": [
       "'Done!'"
      ]
     },
     "execution_count": 31,
     "metadata": {},
     "output_type": "execute_result"
    }
   ],
   "execution_count": 31
  },
  {
   "cell_type": "code",
   "metadata": {
    "id": "QVXOri63_EQn",
    "trusted": true,
    "ExecuteTime": {
     "end_time": "2025-03-27T05:15:24.240825Z",
     "start_time": "2025-03-27T05:15:24.234385Z"
    }
   },
   "source": [
    "# drop two unwanted columns\n",
    "full.drop(\"LotAreaCut\", axis=1, inplace=True)\n",
    "\n",
    "full.drop(['SalePrice'], axis=1, inplace=True)"
   ],
   "outputs": [],
   "execution_count": 32
  },
  {
   "cell_type": "code",
   "metadata": {
    "colab": {
     "base_uri": "https://localhost:8080/",
     "height": 206
    },
    "id": "VjSpBcX__EQn",
    "outputId": "1e1c9ccf-2fd3-482b-9e92-f9a092977234",
    "trusted": true,
    "ExecuteTime": {
     "end_time": "2025-03-27T05:15:24.382445Z",
     "start_time": "2025-03-27T05:15:24.376032Z"
    }
   },
   "source": "full[['YearBuilt', 'YearRemodAdd', 'GarageYrBlt']].head()",
   "outputs": [
    {
     "data": {
      "text/plain": [
       "  YearBuilt YearRemodAdd GarageYrBlt\n",
       "0      2003         2003      2003.0\n",
       "1      1976         1976      1976.0\n",
       "2      2001         2002      2001.0\n",
       "3      1915         1970      1998.0\n",
       "4      2000         2000      2000.0"
      ],
      "text/html": [
       "<div>\n",
       "<style scoped>\n",
       "    .dataframe tbody tr th:only-of-type {\n",
       "        vertical-align: middle;\n",
       "    }\n",
       "\n",
       "    .dataframe tbody tr th {\n",
       "        vertical-align: top;\n",
       "    }\n",
       "\n",
       "    .dataframe thead th {\n",
       "        text-align: right;\n",
       "    }\n",
       "</style>\n",
       "<table border=\"1\" class=\"dataframe\">\n",
       "  <thead>\n",
       "    <tr style=\"text-align: right;\">\n",
       "      <th></th>\n",
       "      <th>YearBuilt</th>\n",
       "      <th>YearRemodAdd</th>\n",
       "      <th>GarageYrBlt</th>\n",
       "    </tr>\n",
       "  </thead>\n",
       "  <tbody>\n",
       "    <tr>\n",
       "      <th>0</th>\n",
       "      <td>2003</td>\n",
       "      <td>2003</td>\n",
       "      <td>2003.0</td>\n",
       "    </tr>\n",
       "    <tr>\n",
       "      <th>1</th>\n",
       "      <td>1976</td>\n",
       "      <td>1976</td>\n",
       "      <td>1976.0</td>\n",
       "    </tr>\n",
       "    <tr>\n",
       "      <th>2</th>\n",
       "      <td>2001</td>\n",
       "      <td>2002</td>\n",
       "      <td>2001.0</td>\n",
       "    </tr>\n",
       "    <tr>\n",
       "      <th>3</th>\n",
       "      <td>1915</td>\n",
       "      <td>1970</td>\n",
       "      <td>1998.0</td>\n",
       "    </tr>\n",
       "    <tr>\n",
       "      <th>4</th>\n",
       "      <td>2000</td>\n",
       "      <td>2000</td>\n",
       "      <td>2000.0</td>\n",
       "    </tr>\n",
       "  </tbody>\n",
       "</table>\n",
       "</div>"
      ]
     },
     "execution_count": 33,
     "metadata": {},
     "output_type": "execute_result"
    }
   ],
   "execution_count": 33
  },
  {
   "attachments": {},
   "cell_type": "markdown",
   "metadata": {
    "id": "xyWkRjI8_EQn"
   },
   "source": [
    "Let us create a class for the LabelEncoder to fit and transform some of the identified features."
   ]
  },
  {
   "cell_type": "code",
   "metadata": {
    "id": "zKyHoNOT_EQn",
    "trusted": true,
    "ExecuteTime": {
     "end_time": "2025-03-27T05:15:24.496221Z",
     "start_time": "2025-03-27T05:15:24.493143Z"
    }
   },
   "source": [
    "class labenc(BaseEstimator, TransformerMixin):\n",
    "    def __init__(self):\n",
    "        pass\n",
    "\n",
    "    def fit(self, X, y=None):\n",
    "        return self\n",
    "\n",
    "    def transform(self, X):\n",
    "        label = LabelEncoder()\n",
    "        # fit_transform encodes data to label\n",
    "        X['YearBuilt'] = label.fit_transform(X['YearBuilt'])\n",
    "        X['YearRemodAdd'] = label.fit_transform(X['YearRemodAdd'])\n",
    "        X['GarageYrBlt'] = label.fit_transform(X['GarageYrBlt'])\n",
    "        return X\n"
   ],
   "outputs": [],
   "execution_count": 34
  },
  {
   "cell_type": "code",
   "metadata": {
    "id": "NwqFaEF-_EQn",
    "trusted": true,
    "ExecuteTime": {
     "end_time": "2025-03-27T05:15:24.649204Z",
     "start_time": "2025-03-27T05:15:24.645947Z"
    }
   },
   "source": [
    "class skewness(BaseEstimator, TransformerMixin):\n",
    "    def __init__(self, skew=0.5):\n",
    "        self.skew = skew\n",
    "\n",
    "    def fit(self, X, y=None):\n",
    "        return self\n",
    "\n",
    "    def transform(self, X):\n",
    "        X_numeric = X.select_dtypes(exclude=[\"object\"])\n",
    "        skewness = X_numeric.apply(lambda x: skew(x))\n",
    "        skewness_features = skewness[abs(skewness) >= self.skew].index\n",
    "        X[skewness_features] = np.log1p(X[skewness_features])\n",
    "        return X"
   ],
   "outputs": [],
   "execution_count": 35
  },
  {
   "cell_type": "code",
   "metadata": {
    "id": "OSoaND_c_EQn",
    "trusted": true,
    "ExecuteTime": {
     "end_time": "2025-03-27T05:15:24.767915Z",
     "start_time": "2025-03-27T05:15:24.764916Z"
    }
   },
   "source": [
    "class dummies(BaseEstimator, TransformerMixin):\n",
    "    def __init__(self):\n",
    "        pass\n",
    "\n",
    "    def fit(self, X, y=None):\n",
    "        return self\n",
    "\n",
    "    def transform(self, X):\n",
    "        X = pd.get_dummies(X)\n",
    "        return X"
   ],
   "outputs": [],
   "execution_count": 36
  },
  {
   "attachments": {},
   "cell_type": "markdown",
   "metadata": {
    "id": "BTgN1cHt_EQn"
   },
   "source": [
    "Now we will use pipeline to chain multiple estimators into one. This is useful as there is often a fixed sequence of steps in processing the data, for example feature selection, normalization and classification. Pipeline serves two purposes here:\n",
    "\n",
    "Convenience: You only have to call fit and predict once on your data to fit a whole sequence of estimators.\n",
    "Joint parameter selection: You can grid search over parameters of all estimators in the pipeline at once.\n",
    "All estimators in a pipeline, except the last one, must be transformers (i.e. must have a transform method). The last estimator may be any type (transformer, classifier, etc.)."
   ]
  },
  {
   "cell_type": "code",
   "metadata": {
    "id": "b-_-1qJy_EQo",
    "trusted": true,
    "ExecuteTime": {
     "end_time": "2025-03-27T05:15:24.900722Z",
     "start_time": "2025-03-27T05:15:24.896321Z"
    }
   },
   "source": "pipeline = Pipeline([('labenc', labenc()), ('skewness', skewness(skew=1)), ('dummies', dummies())])",
   "outputs": [],
   "execution_count": 37
  },
  {
   "cell_type": "code",
   "metadata": {
    "id": "FGg78tLN_EQo",
    "trusted": true,
    "ExecuteTime": {
     "end_time": "2025-03-27T05:15:25.086217Z",
     "start_time": "2025-03-27T05:15:25.040409Z"
    }
   },
   "source": [
    "full_copy = full.copy()\n",
    "data_pipeline = pipeline.fit_transform(full_copy)"
   ],
   "outputs": [],
   "execution_count": 38
  },
  {
   "attachments": {},
   "cell_type": "markdown",
   "metadata": {
    "id": "HnBKHhJaaLcl"
   },
   "source": [
    "Use RobustScaler to normalize data in a robust way."
   ]
  },
  {
   "cell_type": "code",
   "metadata": {
    "id": "2zXtW-Ab_EQo",
    "trusted": true,
    "ExecuteTime": {
     "end_time": "2025-03-27T05:15:25.158459Z",
     "start_time": "2025-03-27T05:15:25.156262Z"
    }
   },
   "source": [
    "robust_scaler = RobustScaler()"
   ],
   "outputs": [],
   "execution_count": 39
  },
  {
   "cell_type": "code",
   "metadata": {
    "colab": {
     "base_uri": "https://localhost:8080/"
    },
    "id": "dgBQige1_EQo",
    "outputId": "d3d7c208-a8cc-4e52-e551-d13f3a376967",
    "trusted": true,
    "ExecuteTime": {
     "end_time": "2025-03-27T05:15:25.207747Z",
     "start_time": "2025-03-27T05:15:25.204765Z"
    }
   },
   "source": [
    "n_train = train.shape[0]\n",
    "n_train"
   ],
   "outputs": [
    {
     "data": {
      "text/plain": [
       "1458"
      ]
     },
     "execution_count": 40,
     "metadata": {},
     "output_type": "execute_result"
    }
   ],
   "execution_count": 40
  },
  {
   "cell_type": "code",
   "metadata": {
    "colab": {
     "base_uri": "https://localhost:8080/"
    },
    "id": "VMsFp9mX_EQo",
    "outputId": "262e6de1-7b4c-4d6b-8e3f-f573ed7c71d0",
    "trusted": true,
    "ExecuteTime": {
     "end_time": "2025-03-27T05:15:25.278995Z",
     "start_time": "2025-03-27T05:15:25.275519Z"
    }
   },
   "source": [
    "X = data_pipeline[:n_train]\n",
    "y = train.SalePrice\n",
    "test_X = data_pipeline[n_train:]\n",
    "X.shape, y.shape, test_X.shape"
   ],
   "outputs": [
    {
     "data": {
      "text/plain": [
       "((1458, 405), (1458,), (1459, 405))"
      ]
     },
     "execution_count": 41,
     "metadata": {},
     "output_type": "execute_result"
    }
   ],
   "execution_count": 41
  },
  {
   "cell_type": "code",
   "metadata": {
    "id": "M4j9BNV7_EQo",
    "trusted": true,
    "ExecuteTime": {
     "end_time": "2025-03-27T05:15:25.416451Z",
     "start_time": "2025-03-27T05:15:25.368754Z"
    }
   },
   "source": [
    "X_scaled = robust_scaler.fit(X).transform(X)\n",
    "y_log = np.log(train.SalePrice)\n",
    "test_X_scaled = robust_scaler.transform(test_X)"
   ],
   "outputs": [],
   "execution_count": 42
  },
  {
   "cell_type": "code",
   "metadata": {
    "colab": {
     "base_uri": "https://localhost:8080/"
    },
    "id": "wL3cR9GU_EQo",
    "outputId": "f93e63cc-2bbd-4061-e980-8b221ac98d30",
    "trusted": true,
    "ExecuteTime": {
     "end_time": "2025-03-27T05:15:25.483060Z",
     "start_time": "2025-03-27T05:15:25.480143Z"
    }
   },
   "source": "X_scaled.shape, y_log.shape, test_X.shape",
   "outputs": [
    {
     "data": {
      "text/plain": [
       "((1458, 405), (1458,), (1459, 405))"
      ]
     },
     "execution_count": 43,
     "metadata": {},
     "output_type": "execute_result"
    }
   ],
   "execution_count": 43
  },
  {
   "attachments": {},
   "cell_type": "markdown",
   "metadata": {
    "id": "jy2jRRBM_EQp"
   },
   "source": [
    "Now we will perform some feature selection like Lasso"
   ]
  },
  {
   "cell_type": "code",
   "metadata": {
    "id": "ay2inyXB_EQp",
    "trusted": true,
    "ExecuteTime": {
     "end_time": "2025-03-27T05:15:25.536786Z",
     "start_time": "2025-03-27T05:15:25.530335Z"
    }
   },
   "source": [
    "class add_feature(BaseEstimator, TransformerMixin):\n",
    "    def __init__(self, additional=1):\n",
    "        self.additional = additional\n",
    "\n",
    "    def fit(self, X, y=None):\n",
    "        return self\n",
    "\n",
    "    def transform(self, X):\n",
    "        if self.additional == 1:\n",
    "            X[\"TotalHouse\"] = X[\"TotalBsmtSF\"] + X[\"1stFlrSF\"] + X[\"2ndFlrSF\"]\n",
    "            X[\"TotalArea\"] = X[\"TotalBsmtSF\"] + X[\"1stFlrSF\"] + X[\"2ndFlrSF\"] + X[\"GarageArea\"]\n",
    "\n",
    "        else:\n",
    "            X[\"TotalHouse\"] = X[\"TotalBsmtSF\"] + X[\"1stFlrSF\"] + X[\"2ndFlrSF\"]\n",
    "            X[\"TotalArea\"] = X[\"TotalBsmtSF\"] + X[\"1stFlrSF\"] + X[\"2ndFlrSF\"] + X[\"GarageArea\"]\n",
    "\n",
    "            X[\"+_TotalHouse_OverallQual\"] = X[\"TotalHouse\"] * X[\"OverallQual\"]\n",
    "            X[\"+_GrLivArea_OverallQual\"] = X[\"GrLivArea\"] * X[\"OverallQual\"]\n",
    "            X[\"+_oMSZoning_TotalHouse\"] = X[\"oMSZoning\"] * X[\"TotalHouse\"]\n",
    "            X[\"+_oMSZoning_OverallQual\"] = X[\"oMSZoning\"] + X[\"OverallQual\"]\n",
    "            X[\"+_oMSZoning_YearBuilt\"] = X[\"oMSZoning\"] + X[\"YearBuilt\"]\n",
    "            X[\"+_oNeighborhood_TotalHouse\"] = X[\"oNeighborhood\"] * X[\"TotalHouse\"]\n",
    "            X[\"+_oNeighborhood_OverallQual\"] = X[\"oNeighborhood\"] + X[\"OverallQual\"]\n",
    "            X[\"+_oNeighborhood_YearBuilt\"] = X[\"oNeighborhood\"] + X[\"YearBuilt\"]\n",
    "            X[\"+_BsmtFinSF1_OverallQual\"] = X[\"BsmtFinSF1\"] * X[\"OverallQual\"]\n",
    "\n",
    "            X[\"-_oFunctional_TotalHouse\"] = X[\"oFunctional\"] * X[\"TotalHouse\"]\n",
    "            X[\"-_oFunctional_OverallQual\"] = X[\"oFunctional\"] + X[\"OverallQual\"]\n",
    "            X[\"-_LotArea_OverallQual\"] = X[\"LotArea\"] * X[\"OverallQual\"]\n",
    "            X[\"-_TotalHouse_LotArea\"] = X[\"TotalHouse\"] + X[\"LotArea\"]\n",
    "            X[\"-_oCondition1_TotalHouse\"] = X[\"oCondition1\"] * X[\"TotalHouse\"]\n",
    "            X[\"-_oCondition1_OverallQual\"] = X[\"oCondition1\"] + X[\"OverallQual\"]\n",
    "\n",
    "            X[\"Bsmt\"] = X[\"BsmtFinSF1\"] + X[\"BsmtFinSF2\"] + X[\"BsmtUnfSF\"]\n",
    "            X[\"Rooms\"] = X[\"FullBath\"] + X[\"TotRmsAbvGrd\"]\n",
    "            X[\"PorchArea\"] = X[\"OpenPorchSF\"] + X[\"EnclosedPorch\"] + X[\"3SsnPorch\"] + X[\"ScreenPorch\"]\n",
    "            X[\"TotalPlace\"] = X[\"TotalBsmtSF\"] + X[\"1stFlrSF\"] + X[\"2ndFlrSF\"] + X[\"GarageArea\"] + X[\"OpenPorchSF\"] + X[\n",
    "                \"EnclosedPorch\"] + X[\"3SsnPorch\"] + X[\"ScreenPorch\"]\n",
    "\n",
    "            return X"
   ],
   "outputs": [],
   "execution_count": 44
  },
  {
   "cell_type": "code",
   "metadata": {
    "colab": {
     "base_uri": "https://localhost:8080/"
    },
    "id": "wRX0fuK5_EQp",
    "outputId": "71134b33-06c0-4627-8c3d-36d86e0cf229",
    "trusted": true,
    "ExecuteTime": {
     "end_time": "2025-03-27T05:15:25.752936Z",
     "start_time": "2025-03-27T05:15:25.690700Z"
    }
   },
   "source": [
    "pipeline = Pipeline([('labenc', labenc()), ('add_feature', add_feature(additional=2)),\n",
    "                     ('skewness', skewness(skew=1)), ('dummies', dummies())])\n",
    "\n",
    "full_pipe = pipeline.fit_transform(full)\n",
    "full_pipe.shape"
   ],
   "outputs": [
    {
     "data": {
      "text/plain": [
       "(2917, 426)"
      ]
     },
     "execution_count": 45,
     "metadata": {},
     "output_type": "execute_result"
    }
   ],
   "execution_count": 45
  },
  {
   "cell_type": "code",
   "metadata": {
    "id": "ApByPhyU_EQp",
    "trusted": true,
    "ExecuteTime": {
     "end_time": "2025-03-27T05:15:25.808931Z",
     "start_time": "2025-03-27T05:15:25.754034Z"
    }
   },
   "source": [
    "n_train = train.shape[0]\n",
    "X = full_pipe[:n_train]\n",
    "test_X = full_pipe[n_train:]\n",
    "y = train.SalePrice\n",
    "\n",
    "X_scaled = robust_scaler.fit(X).transform(X)\n",
    "y_log = np.log(train.SalePrice)\n",
    "test_X_scaled = robust_scaler.transform(test_X)"
   ],
   "outputs": [],
   "execution_count": 46
  },
  {
   "cell_type": "code",
   "metadata": {
    "colab": {
     "base_uri": "https://localhost:8080/"
    },
    "id": "PcC7NtLM_EQp",
    "outputId": "7453a933-8204-4525-f611-b1bc04e72175",
    "trusted": true,
    "ExecuteTime": {
     "end_time": "2025-03-27T05:15:25.863186Z",
     "start_time": "2025-03-27T05:15:25.860787Z"
    }
   },
   "source": [
    "print(X_scaled.shape)"
   ],
   "outputs": [
    {
     "name": "stdout",
     "output_type": "stream",
     "text": [
      "(1458, 426)\n"
     ]
    }
   ],
   "execution_count": 47
  },
  {
   "cell_type": "code",
   "metadata": {
    "id": "QZxnZW3Y_EQp",
    "trusted": true,
    "ExecuteTime": {
     "end_time": "2025-03-27T05:15:25.914213Z",
     "start_time": "2025-03-27T05:15:25.910909Z"
    }
   },
   "source": [
    "# Now let us define Root Mean Square Error\n",
    "def rmse_cv(model, X, y):\n",
    "    rmse = np.sqrt(-cross_val_score(model, X, y, scoring=\"neg_mean_squared_error\", cv=5))\n",
    "    return rmse"
   ],
   "outputs": [],
   "execution_count": 48
  },
  {
   "attachments": {},
   "cell_type": "markdown",
   "metadata": {
    "id": "RN2SN3tY_EQp"
   },
   "source": [
    "We choose 4 models and use 5-folds cross-calidation to evaluate these models.\n",
    "\n",
    "### Models include:\n",
    "\n",
    "   - LinearRegression\n",
    "   - Ridge\n",
    "   - Lasso\n",
    "   - Random Forest\n",
    "   - GradientBoosting\n",
    "   - SVR"
   ]
  },
  {
   "cell_type": "code",
   "metadata": {
    "id": "_bKeEhEa_EQq",
    "trusted": true,
    "ExecuteTime": {
     "end_time": "2025-03-27T05:15:26.046133Z",
     "start_time": "2025-03-27T05:15:26.039459Z"
    }
   },
   "source": [
    "# create a list to store models\n",
    "models = [LinearRegression(),\n",
    "          Ridge(),\n",
    "          Lasso(alpha=0.01, max_iter=10000),\n",
    "          RandomForestRegressor(),\n",
    "          GradientBoostingRegressor(),\n",
    "          SVR(),\n",
    "          LinearSVR(),\n",
    "          ElasticNet(alpha=0.001, max_iter=10000),\n",
    "          SGDRegressor(max_iter=1000, tol=1e-3),\n",
    "          BayesianRidge(),\n",
    "          KernelRidge(alpha=0.6, kernel='polynomial', degree=2, coef0=2.5),\n",
    "          ExtraTreesRegressor(),\n",
    "          XGBRegressor()\n",
    "          ]"
   ],
   "outputs": [],
   "execution_count": 49
  },
  {
   "cell_type": "code",
   "metadata": {
    "id": "SAFS2OP5_EQq",
    "trusted": true,
    "ExecuteTime": {
     "end_time": "2025-03-27T05:15:26.155856Z",
     "start_time": "2025-03-27T05:15:26.146215Z"
    }
   },
   "source": [
    "# another list to store names\n",
    "names = ['LR', 'Ridge', 'Lasso', 'RF', 'GBR', 'SVR', 'LSVR', 'ENet', 'SGDR', 'BayRidge', 'Kernel', 'XTreeR', 'XGBR']"
   ],
   "outputs": [],
   "execution_count": 50
  },
  {
   "cell_type": "code",
   "metadata": {
    "id": "UrHQ0mZE_EQq",
    "trusted": true,
    "ExecuteTime": {
     "end_time": "2025-03-27T05:16:01.406799Z",
     "start_time": "2025-03-27T05:15:26.272612Z"
    }
   },
   "source": [
    "# for each model, train respectively to see results\n",
    "for model, name in zip(models, names):\n",
    "    score = rmse_cv(model, X_scaled, y_log)\n",
    "    print(\"{}: {:.6f}, {:4f}\".format(name, score.mean(), score.std()))"
   ],
   "outputs": [
    {
     "name": "stdout",
     "output_type": "stream",
     "text": [
      "LR: 4391696812.108405, 8116227290.483038\n",
      "Ridge: 0.117596, 0.009054\n",
      "Lasso: 0.120932, 0.005813\n",
      "RF: 0.131029, 0.007191\n",
      "GBR: 0.121335, 0.004460\n",
      "SVR: 0.131747, 0.010868\n",
      "LSVR: 0.126264, 0.007887\n",
      "ENet: 0.108729, 0.005422\n",
      "SGDR: 0.300234, 0.011501\n",
      "BayRidge: 0.110576, 0.005997\n",
      "Kernel: 0.109421, 0.005545\n",
      "XTreeR: 0.125309, 0.007176\n",
      "XGBR: 0.132300, 0.004476\n"
     ]
    }
   ],
   "execution_count": 51
  },
  {
   "attachments": {},
   "cell_type": "markdown",
   "metadata": {
    "id": "M0tx1JJp7TaD"
   },
   "source": [
    "<font size='6' align = 'center'>**Your task is to write the corresponding code in the areas marked by annotation**</font>"
   ]
  },
  {
   "cell_type": "code",
   "metadata": {
    "id": "-ao214Pj_EQq",
    "trusted": true,
    "ExecuteTime": {
     "end_time": "2025-03-27T05:16:01.413707Z",
     "start_time": "2025-03-27T05:16:01.409241Z"
    }
   },
   "source": [
    "# To define the average weight\n",
    "class AverageWeight(BaseEstimator, RegressorMixin):\n",
    "    def __init__(self, model, weight):\n",
    "        self.model = model\n",
    "        self.weight = weight\n",
    "\n",
    "    def fit(self, X, y):\n",
    "        self.models_ = [clone(x) for x in self.model]\n",
    "        for model in self.models_:\n",
    "            model.fit(X, y)\n",
    "        return self\n",
    "\n",
    "    def predict(self, X):\n",
    "        w = list()  # w stores the prediction after average weighting\n",
    "        pred = np.array([model.predict(X) for model in self.models_])\n",
    "        # for every data point, single model prediction times weight, then add them together\n",
    "        for data in range(pred.shape[1]):\n",
    "            w.append(np.sum([pred[model, data] * self.weight[model] for model in range(pred.shape[0])]))\n",
    "        return w"
   ],
   "outputs": [],
   "execution_count": 52
  },
  {
   "attachments": {},
   "cell_type": "markdown",
   "metadata": {
    "id": "p7BjJFWb_EQq"
   },
   "source": [
    "#### Finally to calculate the average weights"
   ]
  },
  {
   "cell_type": "code",
   "metadata": {
    "id": "SB7V3rYT_EQq",
    "trusted": true,
    "ExecuteTime": {
     "end_time": "2025-03-27T05:16:03.553115Z",
     "start_time": "2025-03-27T05:16:01.415161Z"
    }
   },
   "source": [
    "# Assign weights to the models(at least 4) and use the AverageWeight class to predict\n",
    "\n",
    "# Define the models\n",
    "lasso = Lasso(alpha=0.0005, max_iter=10000)\n",
    "ridge = Ridge(alpha=45, max_iter=10000)\n",
    "svr = SVR(C=0.2, epsilon=0.025, gamma=0.0004, kernel='rbf')\n",
    "ker = KernelRidge(alpha=0.15, kernel='polynomial', degree=3, coef0=0.9)\n",
    "bayesian = BayesianRidge()\n",
    "\n",
    "# Create the AverageWeight instance\n",
    "avg_weight_model = AverageWeight(model=[lasso, ridge, svr, bayesian], weight=[0.25, 0.25, 0.25, 0.25])\n",
    "\n",
    "# Print the predictions\n",
    "score = rmse_cv(avg_weight_model, X_scaled, y_log)\n",
    "print(\" Average Weight Score: {:.6f}, {:4f}\".format(score.mean(), score.std()))"
   ],
   "outputs": [
    {
     "name": "stdout",
     "output_type": "stream",
     "text": [
      " Average Weight Score: 0.109856, 0.005634\n"
     ]
    }
   ],
   "execution_count": 53
  },
  {
   "attachments": {},
   "cell_type": "markdown",
   "metadata": {
    "id": "Uo9fcKsr_EQr"
   },
   "source": [
    "If we consider only two models then the score will vary"
   ]
  },
  {
   "cell_type": "code",
   "metadata": {
    "id": "FFIIKox5_EQr",
    "trusted": true,
    "ExecuteTime": {
     "end_time": "2025-03-27T05:16:04.410554Z",
     "start_time": "2025-03-27T05:16:03.555308Z"
    }
   },
   "source": [
    "avg_weight_model = AverageWeight(model=[lasso, ridge], weight=[0.5, 0.5])\n",
    "\n",
    "score = rmse_cv(avg_weight_model, X_scaled, y_log)\n",
    "print(\" Average Weight Score: {:.6f}, {:4f}\".format(score.mean(), score.std()))"
   ],
   "outputs": [
    {
     "name": "stdout",
     "output_type": "stream",
     "text": [
      " Average Weight Score: 0.108995, 0.005440\n"
     ]
    }
   ],
   "execution_count": 54
  },
  {
   "attachments": {},
   "cell_type": "markdown",
   "metadata": {
    "id": "IRgd8rhL_EQr"
   },
   "source": [
    "So in summary Weighted averaging is a slightly modified version of simple averaging, where the prediction of each model is multiplied by the weight and then their average is calculated.\n",
    "\n",
    "## 2.4 Stacking <a id=\"2.4\"></a> <br>\n",
    "![](https://d1m75rqqgidzqn.cloudfront.net/wp-data/2020/05/21160015/shutterstock_1159836664-696x464.jpg)\n",
    "\n",
    "Stacking is an ensemble learning technique that uses predictions from multiple models (for example decision tree, knn or svm) to build a new model. This model is used for making predictions on the test set.\n",
    "\n",
    "Stacking, also known as Stacked Generalization is an ensemble technique that combines multiple classifications or regression models via a meta-classifier or a meta-regressor. The base-level models are trained on a complete training set, then the meta-model is trained on the features that are outputs of the base-level model. The base-level often consists of different learning algorithms and therefore stacking ensembles are often heterogeneous. Here is a diagram illustrating the process\n",
    "\n",
    "Below is a step-wise explanation for a simple stacked ensemble:\n",
    "\n",
    "![](https://www.researchgate.net/publication/324552457/figure/fig3/AS:616245728645121@1523935839872/An-example-scheme-of-stacking-ensemble-learning.png)\n",
    "\n",
    "Step 1:The train set is split into 10 parts.\n",
    "\n",
    "![](https://cdn.analyticsvidhya.com/wp-content/uploads/2018/05/image-11-300x217.png)\n",
    "\n",
    "Step 2:A base model (suppose a decision tree) is fitted on 9 parts and predictions are made for the 10th part. This is done for each part of the train set.\n",
    "\n",
    "![](https://cdn.analyticsvidhya.com/wp-content/uploads/2018/05/image-10-300x249.png)\n",
    "\n",
    "Step 3:The base model (in this case, decision tree) is then fitted on the whole train dataset.\n",
    "\n",
    "Step 4:Using this model, predictions are made on the test set.\n",
    "\n",
    "![](https://cdn.analyticsvidhya.com/wp-content/uploads/2018/05/image-2-300x225.png)\n",
    "\n",
    "Step 5:Steps 2 to 4 are repeated for another base model (say knn) resulting in another set of predictions for the train set and test set.\n",
    "\n",
    "![](https://cdn.analyticsvidhya.com/wp-content/uploads/2018/05/image-3-300x224.png)\n",
    "\n",
    "Step 6:The predictions from the train set are used as features to build a new model.\n",
    "\n",
    "![](https://cdn.analyticsvidhya.com/wp-content/uploads/2018/05/image12-292x300.png)\n",
    "\n",
    "Step 7:This model is used to make final predictions on the test prediction set.\n",
    "\n",
    "In order to simplify the above explanation, the stacking model we have created has only two levels. The decision tree and knn models are built at level zero, while a logistic regression model is built at level one. Feel free to create multiple levels in a stacking model.\n"
   ]
  },
  {
   "cell_type": "code",
   "metadata": {
    "id": "yGhpPo9C_EQr",
    "trusted": true,
    "ExecuteTime": {
     "end_time": "2025-03-27T05:16:04.419079Z",
     "start_time": "2025-03-27T05:16:04.412096Z"
    }
   },
   "source": [
    "class stacking(BaseEstimator, RegressorMixin, TransformerMixin):\n",
    "    def __init__(self, mod, meta_model):\n",
    "        self.mod = mod\n",
    "        self.meta_model = meta_model\n",
    "        self.kf = KFold(n_splits=5, random_state=42, shuffle=True)\n",
    "\n",
    "    def fit(self, X, y):\n",
    "        self.saved_model = [list() for i in self.mod]\n",
    "        oof_train = np.zeros((X.shape[0], len(self.mod)))\n",
    "        # train models in KFold ,get oof_train to store predicts  in KFold val.\n",
    "        for i, model in enumerate(self.mod):\n",
    "            for train_index, val_index in self.kf.split(X, y):\n",
    "                renew_model = clone(model)\n",
    "                renew_model.fit(X[train_index], y[train_index])\n",
    "                oof_train[val_index, i] = renew_model.predict(X[val_index])\n",
    "                self.saved_model[i].append(renew_model)\n",
    "        self.meta_model.fit(oof_train, y)\n",
    "        return self\n",
    "\n",
    "    def predict(self, X):\n",
    "        whole_test = np.column_stack([np.column_stack([model.predict(X) for model in single_model]).mean(axis=1)\n",
    "                                      for single_model in self.saved_model])\n",
    "        return self.meta_model.predict(whole_test)\n",
    "\n",
    "    def get_oof(self, X, y, test_X):\n",
    "        oof = np.zeros((X.shape[0], len(self.mod)))\n",
    "        test_single = np.zeros((test_X.shape[0], 5))\n",
    "        test_mean = np.zeros((test_X.shape[0], len(self.mod)))\n",
    "        for i, model in enumerate(self.mod):\n",
    "            for j, (train_index, val_index) in enumerate(self.kf.split(X, y)):\n",
    "                clone_model = clone(model)\n",
    "                clone_model.fit(X[train_index], y[train_index])\n",
    "                oof[val_index, i] = clone_model.predict(X[val_index])\n",
    "                test_single[:, j] = clone_model.predict(test_X)\n",
    "            test_mean[:, i] = test_single.mean(axis=1)\n",
    "        return oof, test_mean"
   ],
   "outputs": [],
   "execution_count": 55
  },
  {
   "cell_type": "code",
   "metadata": {
    "id": "qvmHVn4j_EQr",
    "trusted": true,
    "ExecuteTime": {
     "end_time": "2025-03-27T05:16:04.423809Z",
     "start_time": "2025-03-27T05:16:04.419925Z"
    }
   },
   "source": [
    "from sklearn.impute import SimpleImputer"
   ],
   "outputs": [],
   "execution_count": 56
  },
  {
   "cell_type": "code",
   "metadata": {
    "id": "5tCtfAEM_EQr",
    "trusted": true,
    "ExecuteTime": {
     "end_time": "2025-03-27T05:16:04.432210Z",
     "start_time": "2025-03-27T05:16:04.424481Z"
    }
   },
   "source": [
    "X_scaled_imputed = SimpleImputer().fit_transform(X_scaled)\n",
    "y_log_imputed = SimpleImputer().fit_transform(y_log.values.reshape(-1, 1)).ravel()"
   ],
   "outputs": [],
   "execution_count": 57
  },
  {
   "cell_type": "code",
   "metadata": {
    "colab": {
     "base_uri": "https://localhost:8080/",
     "height": 141
    },
    "id": "P2Aj0dem_EQr",
    "outputId": "fd4e3647-b795-416e-c1d8-78e0ffe05a10",
    "trusted": true,
    "ExecuteTime": {
     "end_time": "2025-03-27T05:16:04.435400Z",
     "start_time": "2025-03-27T05:16:04.433065Z"
    }
   },
   "source": "stack_model = stacking(mod=[lasso, ridge, svr, bayesian], meta_model=ridge)  #choose your models and meta_model",
   "outputs": [],
   "execution_count": 58
  },
  {
   "cell_type": "code",
   "metadata": {
    "id": "SprHvLf1_EQr",
    "trusted": true,
    "ExecuteTime": {
     "end_time": "2025-03-27T05:16:14.872897Z",
     "start_time": "2025-03-27T05:16:04.436065Z"
    }
   },
   "source": "score = rmse_cv(stack_model, X_scaled_imputed, y_log_imputed)",
   "outputs": [],
   "execution_count": 59
  },
  {
   "cell_type": "code",
   "metadata": {
    "colab": {
     "base_uri": "https://localhost:8080/"
    },
    "id": "vWoezwCD_EQr",
    "outputId": "89f522fb-0301-4dd8-e7f3-ac9c0fbf945b",
    "trusted": true,
    "ExecuteTime": {
     "end_time": "2025-03-27T05:16:14.878238Z",
     "start_time": "2025-03-27T05:16:14.876021Z"
    }
   },
   "source": [
    "print(score.mean())"
   ],
   "outputs": [
    {
     "name": "stdout",
     "output_type": "stream",
     "text": [
      "0.11233272831066976\n"
     ]
    }
   ],
   "execution_count": 60
  },
  {
   "cell_type": "code",
   "metadata": {
    "colab": {
     "base_uri": "https://localhost:8080/"
    },
    "id": "3xfuOazt_EQs",
    "outputId": "74c88973-8d19-4b29-9e88-21d4884d6ae1",
    "trusted": true,
    "ExecuteTime": {
     "end_time": "2025-03-27T05:16:14.881390Z",
     "start_time": "2025-03-27T05:16:14.878983Z"
    }
   },
   "source": [
    "# 这块好像是多出来的\n",
    "\n",
    "# Blending\n",
    "# df_val = pd.concat([x_val, val_pred1, val_pred2], axis=1)\n",
    "# df_test = pd.concat([x_test, test_pred1, test_pred2], axis=1)\n",
    "# \n",
    "# model = LogisticRegression()\n",
    "# model.fit(df_val, y_val)\n",
    "# model.score(df_test, y_test)"
   ],
   "outputs": [],
   "execution_count": 61
  },
  {
   "attachments": {},
   "cell_type": "markdown",
   "metadata": {
    "id": "fVAxaBYy_EQs"
   },
   "source": [
    "## 2.5 Bagging <a id=\"2.6\"></a> <br>\n",
    "![](https://miro.medium.com/max/700/1*DFHUbdz6EyOuMYP4pDnFlw.jpeg)\n",
    "\n",
    "**Bagging**, is shorthand for the combination of bootstrapping and aggregating. Bootstrapping is a method to help decrease the variance of the classifier and reduce overfitting, by resampling data from the training set with the same cardinality as the original set. The model created should be less overfitted than a single individual model.\n",
    "\n",
    "A high variance for a model is not good, suggesting its performance is sensitive to the training data provided. So, even if more the training data is provided, the model may still perform poorly. And, may not even reduce the variance of our model.\n",
    "\n",
    "Bagging is an effective method when you have limited data, and by using samples you’re able to get an estimate by aggregating the scores over many samples.\n",
    "\n",
    "The simplest approach with bagging is to use a couple of small subsamples and bag them, if the ensemble accuracy is much higher than the base models, it’s working; if not, use larger subsamples.Using larger subsamples is not guaranteed to improve your results. In bagging there is a tradeoff between base model accuracy and the gain you get through bagging. The aggregation from bagging may improve the ensemble greatly when you have an unstable model, yet when your base models are more stable — been trained on larger subsamples with higher accuracy — improvements from bagging reduces.\n",
    "\n",
    "Once the bagging is done, and all the models have been created on (mostly) different data, a weighted average is then used to determine the final score.\n",
    "\n",
    "![](https://miro.medium.com/max/866/1*JksRZ1E72Rsx2s8lQbNR1w.jpeg)\n",
    "\n",
    "There are three main terms describing the ensemble (combination) of various models into one more effective model:\n",
    "\n",
    "* **Bagging** to decrease the model’s variance;\n",
    "* **Boosting** to decreasing the model’s bias, and;\n",
    "* **Stacking** to increasing the predictive force of the classifier.\n",
    "\n",
    "The idea behind bagging is combining the results of multiple models (for instance, all decision trees) to get a generalized result. Here’s a question: If you create all the models on the same set of data and combine it, will it be useful? There is a high chance that these models will give the same result since they are getting the same input. So how can we solve this problem? One of the techniques is bootstrapping.\n",
    "\n",
    "Bootstrapping is a sampling technique in which we create subsets of observations from the original dataset, with replacement. The size of the subsets is the same as the size of the original set.\n",
    "\n",
    "Bagging (or Bootstrap Aggregating) technique uses these subsets (bags) to get a fair idea of the distribution (complete set). The size of subsets created for bagging may be less than the original set.\n",
    "![](https://cdn.analyticsvidhya.com/wp-content/uploads/2018/05/image20-768x289.png)\n",
    "\n",
    "Step 1: Multiple subsets are created from the original dataset, selecting observations with replacement.\n",
    "\n",
    "Step 2: A base model (weak model) is created on each of these subsets.\n",
    "\n",
    "Step 3: The models run in parallel and are independent of each other.\n",
    "\n",
    "Step 4: The final predictions are determined by combining the predictions from all the models.\n",
    "![](https://cdn.analyticsvidhya.com/wp-content/uploads/2018/05/Screenshot-from-2018-05-08-13-11-49-768x580.png)"
   ]
  },
  {
   "cell_type": "code",
   "metadata": {
    "id": "-NsYA5am_EQt",
    "trusted": true,
    "ExecuteTime": {
     "end_time": "2025-03-27T05:16:14.887266Z",
     "start_time": "2025-03-27T05:16:14.882188Z"
    }
   },
   "source": [
    "from sklearn.datasets import load_wine\n",
    "\n",
    "# define dataset\n",
    "X, y = load_wine().data, load_wine().target"
   ],
   "outputs": [],
   "execution_count": 62
  },
  {
   "cell_type": "code",
   "metadata": {
    "colab": {
     "base_uri": "https://localhost:8080/"
    },
    "id": "pAVs9RZJ_EQt",
    "outputId": "2d5eeae5-771b-452b-98de-8abc5068f76e",
    "trusted": true,
    "ExecuteTime": {
     "end_time": "2025-03-27T05:17:44.975537Z",
     "start_time": "2025-03-27T05:17:44.673383Z"
    }
   },
   "source": [
    "# Create classifiers\n",
    "clf_array = [\n",
    "    LogisticRegression(),\n",
    "    DecisionTreeClassifier(),\n",
    "    KNeighborsClassifier(),\n",
    "    SVC(probability=True)\n",
    "]\n",
    "\n",
    "for clf in clf_array:\n",
    "    vanilla_scores = cross_val_score(clf, X, y)  # calculate the original results\n",
    "    bagging_clf = BaggingClassifier()\n",
    "    bagging_scores = cross_val_score(bagging_clf, X, y)  # calculate the bagging results\n",
    "\n",
    "    print(\"Mean of: {1:.3f}, std: (+/-) {2:.3f} [{0}]\".format(clf.__class__.__name__, vanilla_scores.mean(),\n",
    "                                                              vanilla_scores.std()))\n",
    "    print(\"Mean of: {1:.3f}, std: (+/-) {2:.3f} [Bagging {0}]\\n\".format(clf.__class__.__name__, bagging_scores.mean(),\n",
    "                                                                        bagging_scores.std()))"
   ],
   "outputs": [
    {
     "name": "stdout",
     "output_type": "stream",
     "text": [
      "Mean of: 0.956, std: (+/-) 0.042 [LogisticRegression]\n",
      "Mean of: 0.928, std: (+/-) 0.051 [Bagging LogisticRegression]\n",
      "\n",
      "Mean of: 0.882, std: (+/-) 0.059 [DecisionTreeClassifier]\n",
      "Mean of: 0.911, std: (+/-) 0.047 [Bagging DecisionTreeClassifier]\n",
      "\n",
      "Mean of: 0.691, std: (+/-) 0.049 [KNeighborsClassifier]\n",
      "Mean of: 0.944, std: (+/-) 0.035 [Bagging KNeighborsClassifier]\n",
      "\n",
      "Mean of: 0.663, std: (+/-) 0.046 [SVC]\n",
      "Mean of: 0.927, std: (+/-) 0.037 [Bagging SVC]\n",
      "\n"
     ]
    }
   ],
   "execution_count": 70
  },
  {
   "attachments": {},
   "cell_type": "markdown",
   "metadata": {
    "id": "spNuFGkQ_EQt"
   },
   "source": [
    "In all but one of the classifiers, we had lower variance as shown above . As well, the accuracy of classifiers all increased except for SVC. Looks like this bagging thing actually works.\n",
    "\n",
    "So our bagged individual classifiers are (mostly) better, but which one do we choose?\n",
    "\n",
    "**Let’s Vote!**\n",
    "\n",
    "Sklearn’s **VotingClassifier** allows you to combine different machine learning classifiers, and perform a vote on what the predicted class label(s) are for a record.\n",
    "\n",
    "There are two types of voting you can do for classifiers: hard and soft.\n",
    "\n",
    "With hard voting, you just need a majority of classifiers to determine what the result could be. As with the image below, the various bagged models are shown with H, and the results of the classifiers are shown on the rows. On the far right, H1 and H3 vote for the first record to be “no” (purple) while H2 votes for “yes” (yellow). Because 2 of the models vote for “no”, the ensemble classifies that record as a “no”.\n",
    "\n",
    "\n",
    "With soft (weighted), we compute a percentage weight with each classifier. A predicted class probability from each model for each record is collected and multiplied by the classifier weight, and finally averaged. The final class label is then derived from the class label with the highest average probability.\n",
    "\n",
    "In reality weights are hard to find if you’re just providing your best guesses to which model you think should be weighted more or less. To counter this subjective process, a linear optimization equation or neural net could be constructed to find the correct weighting for each of the models to optimize the accuracy of the ensemble."
   ]
  },
  {
   "cell_type": "code",
   "metadata": {
    "colab": {
     "base_uri": "https://localhost:8080/"
    },
    "id": "sS9wwsVr_EQt",
    "outputId": "4857e388-e113-4e33-c539-f40dba621a87",
    "trusted": true,
    "ExecuteTime": {
     "end_time": "2025-03-27T05:20:28.724564Z",
     "start_time": "2025-03-27T05:20:27.945969Z"
    }
   },
   "source": [
    "from sklearn.ensemble import VotingClassifier\n",
    "\n",
    "lr = LogisticRegression()\n",
    "rf = RandomForestClassifier()\n",
    "gnb = GaussianNB()\n",
    "\n",
    "# Voting of the trained models\n",
    "eclf = VotingClassifier(estimators=[\n",
    "    ('lr', lr), ('rf', rf), ('gnb', gnb)\n",
    "], voting='hard')\n",
    "#print the mean and std of each clf's score\n",
    "for clf, label in zip([lr, rf, gnb, eclf], ['Linear Regression', 'Random Forest', 'naive Bayes', 'Ensemble']):\n",
    "    scores = cross_val_score(clf, X, y, cv=5, scoring='accuracy')\n",
    "    print(\"Accuracy: %0.2f (+/- %0.2f) [%s]\" % (scores.mean(), scores.std(), label))"
   ],
   "outputs": [
    {
     "name": "stdout",
     "output_type": "stream",
     "text": [
      "Accuracy: 0.96 (+/- 0.04) [Linear Regression]\n",
      "Accuracy: 0.96 (+/- 0.04) [Random Forest]\n",
      "Accuracy: 0.97 (+/- 0.02) [naive Bayes]\n",
      "Accuracy: 0.98 (+/- 0.01) [Ensemble]\n"
     ]
    }
   ],
   "execution_count": 72
  },
  {
   "attachments": {},
   "cell_type": "markdown",
   "metadata": {
    "id": "sxykFAKr_EQt"
   },
   "source": [
    "With our bagged ensemble results shown above, we have an increase in accuracy and a decrease in variance, so our ensemble model is working as expected after we’ve combined all the various models into one.\n",
    "\n",
    "Now that we know how well our model(s) are doing individually and together, does that actually look."
   ]
  },
  {
   "attachments": {},
   "cell_type": "markdown",
   "metadata": {
    "id": "F6f78QOB_EQt"
   },
   "source": [
    "## 2.6 Boosting <a id=\"2.7\"></a> <br>\n",
    "![](https://miro.medium.com/max/2936/1*jbncjeM4CfpobEnDO0ZTjw.png)\n",
    "\n",
    "The main idea of boosting is to add additional models to the overall ensemble model sequentially. Previously with bagging, we averaged each individual model created. This time with each iteration of boosting, a new model is created and the new base-learner model is trained (updated) from the errors of the previous learners.\n",
    "\n",
    "The algorithm creates multiple weak models whose output is added together to get an overall prediction. This is ensemble modelling from earlier. The now boosted gradient shifts the current prediction nudging it to the true target, in a similar fashion to how gradient descent moves toward the true values. The gradient descent optimization occurs on the output of the varies models, and not their individual parameters.\n",
    "\n",
    "There are different methods to optimize boosting algorithms.\n",
    "Unlike the bagging examples above, classical boosting the subset creation is not random and performance will depend upon the performance of previous models. As, each new subset which is iterated upon contains elements which could have been misclassified by previous models. We will also be using the same hard voting we used previously to ensemble the models together."
   ]
  },
  {
   "cell_type": "code",
   "metadata": {
    "id": "anY3pdSZ_EQt",
    "trusted": true,
    "ExecuteTime": {
     "end_time": "2025-03-27T05:16:14.902347Z",
     "start_time": "2025-03-27T05:16:14.896614Z"
    }
   },
   "source": [
    "from sklearn.datasets import load_wine\n",
    "\n",
    "# define dataset\n",
    "X, y = load_wine().data, load_wine().target\n",
    "X_train, X_test, y_train, y_test = train_test_split(X, y, test_size=0.2, random_state=1)"
   ],
   "outputs": [],
   "execution_count": 65
  },
  {
   "attachments": {},
   "cell_type": "markdown",
   "metadata": {
    "id": "CDdCXkCo_EQt"
   },
   "source": [
    "**Adaptive boosting** or **AdaBoost** is one of the simplest boosting algorithms. Usually, decision trees are used for modelling. Multiple sequential models are created, each correcting the errors from the last model. AdaBoost assigns weights to the observations which are incorrectly predicted and the subsequent model works to predict these values correctly.\n",
    "\n",
    "Below are the steps for performing the AdaBoost algorithm:\n",
    "\n",
    "* Initially, all observations in the dataset are given equal weights.\n",
    "* A model is built on a subset of data.\n",
    "* Using this model, predictions are made on the whole dataset.\n",
    "* Errors are calculated by comparing the predictions and actual values.\n",
    "* While creating the next model, higher weights are given to the data points which were predicted incorrectly.\n",
    "* Weights can be determined using the error value. For instance, higher the error more is the weight assigned to the observation.\n",
    "* This process is repeated until the error function does not change, or the maximum limit of the number of estimators is reached."
   ]
  },
  {
   "cell_type": "code",
   "metadata": {
    "colab": {
     "base_uri": "https://localhost:8080/"
    },
    "id": "gtJt__I4_EQt",
    "outputId": "f3dec9d1-b53c-4107-c577-bbd6f85b8f06",
    "trusted": true,
    "ExecuteTime": {
     "end_time": "2025-03-27T05:21:24.492170Z",
     "start_time": "2025-03-27T05:21:24.413675Z"
    }
   },
   "source": [
    "# Use AdaBoostClassifier() to fit and score\n",
    "ada_boost = AdaBoostClassifier(n_estimators=100)\n",
    "ada_boost.fit(X_train, y_train)\n",
    "ada_boost.score(X_test, y_test)"
   ],
   "outputs": [
    {
     "data": {
      "text/plain": [
       "0.8333333333333334"
      ]
     },
     "execution_count": 73,
     "metadata": {},
     "output_type": "execute_result"
    }
   ],
   "execution_count": 73
  },
  {
   "attachments": {},
   "cell_type": "markdown",
   "metadata": {
    "id": "uxYIfCE3_EQu"
   },
   "source": [
    "**Parameters**\n",
    "\n",
    "**base_estimators**:\n",
    "\n",
    "* It helps to specify the type of base estimator, that is, the machine learning algorithm to be used as base learner.\n",
    "\n",
    "**n_estimators**:\n",
    "\n",
    "* It defines the number of base estimators.\n",
    "* The default value is 10, but you should keep a higher value to get better performance.\n",
    "\n",
    "**learning_rate**:\n",
    "\n",
    "* This parameter controls the contribution of the estimators in the final combination.\n",
    "* There is a trade-off between learning_rate and n_estimators.\n",
    "\n",
    "**max_depth**:\n",
    "\n",
    "* Defines the maximum depth of the individual estimator.\n",
    "* Tune this parameter for best performance.\n",
    "\n",
    "**n_jobs**\n",
    "\n",
    "* Specifies the number of processors it is allowed to use.\n",
    "* Set value to -1 for maximum processors allowed.\n",
    "\n",
    "**random_state** :\n",
    "\n",
    "* An integer value to specify the random data split.\n",
    "* A definite value of random_state will always produce same results if given with same parameters and training data.\n",
    "\n",
    "**Gradient Boosting or GBM **\n",
    "\n",
    "It is another ensemble machine learning algorithm that works for both regression and classification problems. GBM uses the boosting technique, combining a number of weak learners to form a strong learner. Regression trees used as a base learner, each subsequent tree in series is built on the errors calculated by the previous tree."
   ]
  },
  {
   "cell_type": "code",
   "metadata": {
    "colab": {
     "base_uri": "https://localhost:8080/"
    },
    "id": "_9PQ2GHm_EQu",
    "outputId": "36b8b290-83ee-4724-fda0-377e50a2b766",
    "trusted": true,
    "ExecuteTime": {
     "end_time": "2025-03-27T05:21:44.814555Z",
     "start_time": "2025-03-27T05:21:44.663622Z"
    }
   },
   "source": [
    "# Use GradientBoostingClassifier() to fit and score\n",
    "grad_boost = GradientBoostingClassifier(n_estimators=100)\n",
    "grad_boost.fit(X_train, y_train)\n",
    "grad_boost.score(X_test, y_test)"
   ],
   "outputs": [
    {
     "data": {
      "text/plain": [
       "0.9444444444444444"
      ]
     },
     "execution_count": 74,
     "metadata": {},
     "output_type": "execute_result"
    }
   ],
   "execution_count": 74
  },
  {
   "attachments": {},
   "cell_type": "markdown",
   "metadata": {
    "id": "WaYMxFK9_EQu"
   },
   "source": [
    "**Parameters**\n",
    "\n",
    "**min_samples_split**\n",
    "\n",
    "* Defines the minimum number of samples (or observations) which are required in a node to be considered for splitting.\n",
    "* Used to control over-fitting. Higher values prevent a model from learning relations which might be highly specific to the particular sample selected for a tree.\n",
    "\n",
    "**min_samples_leaf**\n",
    "\n",
    "* Defines the minimum samples required in a terminal or leaf node.\n",
    "* Generally, lower values should be chosen for imbalanced class problems because the regions in which the minority class will be in the majority will be very small.\n",
    "\n",
    "**min_weight_fraction_leaf**\n",
    "\n",
    "* Similar to min_samples_leaf but defined as a fraction of the total number of observations instead of an integer.\n",
    "\n",
    "**max_depth**\n",
    "\n",
    "* The maximum depth of a tree.\n",
    "* Used to control over-fitting as higher depth will allow the model to learn relations very specific to a particular sample.\n",
    "* Should be tuned using CV.\n",
    "\n",
    "**max_leaf_nodes**\n",
    "\n",
    "* The maximum number of terminal nodes or leaves in a tree.\n",
    "* Can be defined in place of max_depth. Since binary trees are created, a depth of ‘n’ would produce a maximum of 2^n leaves.\n",
    "* If this is defined, GBM will ignore max_depth.\n",
    "\n",
    "**max_features**\n",
    "\n",
    "* The number of features to consider while searching for the best split. These will be randomly selected.\n",
    "* As a thumb-rule, the square root of the total number of features works great but we should check up to 30-40% of the total number of features.\n",
    "* Higher values can lead to over-fitting but it generally depends on a case to case scenario.\n",
    "\n",
    "\n",
    "**XGBoost** (extreme Gradient Boosting) is an advanced implementation of the gradient boosting algorithm. XGBoost has proved to be a highly effective ML algorithm, extensively used in machine learning competitions and hackathons. XGBoost has high predictive power and is almost 10 times faster than the other gradient boosting techniques. It also includes a variety of regularization which reduces overfitting and improves overall performance. Hence it is also known as ‘**regularized boosting**‘ technique.\n",
    "\n",
    "Let us see how XGBoost is comparatively better than other techniques:\n",
    "\n",
    "**Regularization:**\n",
    "\n",
    "Standard GBM implementation has no regularisation like XGBoost.\n",
    "Thus XGBoost also helps to reduce overfitting.\n",
    "\n",
    "**Parallel Processing:**\n",
    "* XGBoost implements parallel processing and is faster than GBM .\n",
    "* XGBoost also supports implementation on Hadoop.\n",
    "\n",
    "**High Flexibility:**\n",
    "XGBoost allows users to define custom optimization objectives and evaluation criteria adding a whole new dimension to the model.\n",
    "\n",
    "**Handling Missing Values:**\n",
    "XGBoost has an in-built routine to handle missing values.\n",
    "\n",
    "**Tree Pruning:**\n",
    "XGBoost makes splits up to the max_depth specified and then starts pruning the tree backwards and removes splits beyond which there is no positive gain.\n",
    "\n",
    "**Built-in Cross-Validation:**\n",
    "XGBoost allows a user to run a cross-validation at each iteration of the boosting process and thus it is easy to get the exact optimum number of boosting iterations in a single run."
   ]
  },
  {
   "cell_type": "code",
   "metadata": {
    "colab": {
     "base_uri": "https://localhost:8080/"
    },
    "id": "3ybH24rU_EQu",
    "outputId": "4943fa26-ec8c-44a9-8603-0a071b59b8ba",
    "trusted": true,
    "ExecuteTime": {
     "end_time": "2025-03-27T05:22:37.567601Z",
     "start_time": "2025-03-27T05:22:37.515634Z"
    }
   },
   "source": [
    "# use XGBClassifier to fit and score\n",
    "xgb_boost = xgb.XGBClassifier(n_estimators=100)\n",
    "xgb_boost.fit(X_train, y_train)\n",
    "xgb_boost.score(X_test, y_test)"
   ],
   "outputs": [
    {
     "data": {
      "text/plain": [
       "0.9722222222222222"
      ]
     },
     "execution_count": 75,
     "metadata": {},
     "output_type": "execute_result"
    }
   ],
   "execution_count": 75
  },
  {
   "attachments": {},
   "cell_type": "markdown",
   "metadata": {
    "id": "W9pe8IJY_EQu"
   },
   "source": [
    "**Parameters**\n",
    "\n",
    "**nthread**\n",
    "\n",
    "* This is used for parallel processing and the number of cores in the system should be entered..\n",
    "* If you wish to run on all cores, do not input this value. The algorithm will detect it automatically.\n",
    "\n",
    "**eta**\n",
    "\n",
    "Analogous to learning rate in GBM.\n",
    "Makes the model more robust by shrinking the weights on each step.\n",
    "\n",
    "**min_child_weight**\n",
    "\n",
    "* Defines the minimum sum of weights of all observations required in a child.\n",
    "* Used to control over-fitting. Higher values prevent a model from learning relations which might be highly specific to the particular sample selected for a tree.\n",
    "\n",
    "**max_depth**\n",
    "\n",
    "* It is used to define the maximum depth.\n",
    "* Higher depth will allow the model to learn relations very specific to a particular sample.\n",
    "\n",
    "**max_leaf_nodes**\n",
    "\n",
    "* The maximum number of terminal nodes or leaves in a tree.\n",
    "* Can be defined in place of max_depth. Since binary trees are created, a depth of ‘n’ would produce a maximum of 2^n leaves.\n",
    "* If this is defined, GBM will ignore max_depth.\n",
    "\n",
    "**gamma**\n",
    "\n",
    "* A node is split only when the resulting split gives a positive reduction in the loss function. Gamma specifies the minimum loss reduction required to make a split.\n",
    "* Makes the algorithm conservative. The values can vary depending on the loss function and should be tuned.\n",
    "\n",
    "**subsample**\n",
    "\n",
    "* Same as the subsample of GBM. Denotes the fraction of observations to be randomly sampled for each tree.\n",
    "* Lower values make the algorithm more conservative and prevent overfitting but values that are too small might lead to under-fitting.\n",
    "\n",
    "**colsample_bytree**\n",
    "\n",
    "* It is similar to max_features in GBM.\n",
    "* Denotes the fraction of columns to be randomly sampled for each tree."
   ]
  },
  {
   "cell_type": "code",
   "metadata": {
    "colab": {
     "base_uri": "https://localhost:8080/"
    },
    "id": "yCQ7WOYO_EQu",
    "outputId": "e8370fce-b6b2-450a-8902-f28d032e2949",
    "trusted": true,
    "ExecuteTime": {
     "end_time": "2025-03-27T05:23:05.771635Z",
     "start_time": "2025-03-27T05:23:02.663313Z"
    }
   },
   "source": [
    "# Voting of three Boosts\n",
    "eclf = VotingClassifier(estimators=[\n",
    "    ('ada', ada_boost), ('grad', grad_boost), ('xgb', xgb_boost)\n",
    "], voting='hard')\n",
    "#print the mean and std of each clf's score\n",
    "for clf, label in zip([ada_boost, grad_boost, xgb_boost, eclf],\n",
    "                      ['AdaBoost', 'GradientBoost', 'XGBoost', 'Ensemble']):\n",
    "    scores = cross_val_score(clf, X, y, cv=5, scoring='accuracy')\n",
    "    print(\"Accuracy: %0.2f (+/- %0.2f) [%s]\" % (scores.mean(), scores.std(), label))"
   ],
   "outputs": [
    {
     "name": "stdout",
     "output_type": "stream",
     "text": [
      "Accuracy: 0.83 (+/- 0.15) [AdaBoost]\n",
      "Accuracy: 0.94 (+/- 0.03) [GradientBoost]\n",
      "Accuracy: 0.95 (+/- 0.03) [XGBoost]\n",
      "Accuracy: 0.96 (+/- 0.03) [Ensemble]\n"
     ]
    }
   ],
   "execution_count": 76
  },
  {
   "attachments": {},
   "cell_type": "markdown",
   "metadata": {
    "_uuid": "62d0c612885169d9c6471c797406e6c3e0ae2bbd",
    "collapsed": true,
    "id": "Xom1WYsw_EQu",
    "trusted": true
   },
   "source": [
    "# References<a id=\"3\"></a> <br>\n",
    "\n",
    "1. https://www.mygreatlearning.com/blog/ensemble-learning\n",
    "2. https://machinelearningmastery.com/model-averaging-ensemble-for-deep-learning-neural-networks/\n",
    "3. https://www.analyticsvidhya.com/blog/2018/06/comprehensive-guide-for-ensemble-models/\n",
    "4. https://towardsdatascience.com/ensemble-methods-in-machine-learning-what-are-they-and-why-use-them-68ec3f9fef5f\n",
    "5. https://medium.com/@rrfd/boosting-bagging-and-stacking-ensemble-methods-with-sklearn-and-mlens-a455c0c982de\n",
    "6. https://www.toptal.com/machine-learning/ensemble-methods-machine-learning\n",
    "\n"
   ]
  }
 ],
 "metadata": {
  "colab": {
   "provenance": []
  },
  "kernelspec": {
   "display_name": "Python 3",
   "language": "python",
   "name": "python3"
  },
  "language_info": {
   "codemirror_mode": {
    "name": "ipython",
    "version": 3
   },
   "file_extension": ".py",
   "mimetype": "text/x-python",
   "name": "python",
   "nbconvert_exporter": "python",
   "pygments_lexer": "ipython3",
   "version": "3.6.6"
  }
 },
 "nbformat": 4,
 "nbformat_minor": 0
}
